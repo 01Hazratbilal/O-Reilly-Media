{
 "cells": [
  {
   "cell_type": "markdown",
   "metadata": {},
   "source": [
    "# Reading Text Files in Pieces\n",
    "\n",
    "When processing very large files or figuring out the right set of arguments to correctly process a large file, you may only want to read in a small piece of a file or iterate through smaller chunks of the file."
   ]
  },
  {
   "cell_type": "code",
   "execution_count": 8,
   "metadata": {},
   "outputs": [],
   "source": [
    "import numpy as np\n",
    "import pandas as pd\n",
    "from pandas import Series, DataFrame"
   ]
  },
  {
   "cell_type": "code",
   "execution_count": 3,
   "metadata": {},
   "outputs": [],
   "source": [
    "result = pd.read_csv('../../CSV Files/O_Reilly/ch06/ex6.csv')"
   ]
  },
  {
   "cell_type": "code",
   "execution_count": 4,
   "metadata": {},
   "outputs": [
    {
     "data": {
      "text/html": [
       "<div>\n",
       "<style scoped>\n",
       "    .dataframe tbody tr th:only-of-type {\n",
       "        vertical-align: middle;\n",
       "    }\n",
       "\n",
       "    .dataframe tbody tr th {\n",
       "        vertical-align: top;\n",
       "    }\n",
       "\n",
       "    .dataframe thead th {\n",
       "        text-align: right;\n",
       "    }\n",
       "</style>\n",
       "<table border=\"1\" class=\"dataframe\">\n",
       "  <thead>\n",
       "    <tr style=\"text-align: right;\">\n",
       "      <th></th>\n",
       "      <th>0</th>\n",
       "      <th>1</th>\n",
       "      <th>2</th>\n",
       "      <th>3</th>\n",
       "      <th>4</th>\n",
       "      <th>5</th>\n",
       "      <th>6</th>\n",
       "      <th>7</th>\n",
       "      <th>8</th>\n",
       "      <th>9</th>\n",
       "      <th>...</th>\n",
       "      <th>9990</th>\n",
       "      <th>9991</th>\n",
       "      <th>9992</th>\n",
       "      <th>9993</th>\n",
       "      <th>9994</th>\n",
       "      <th>9995</th>\n",
       "      <th>9996</th>\n",
       "      <th>9997</th>\n",
       "      <th>9998</th>\n",
       "      <th>9999</th>\n",
       "    </tr>\n",
       "  </thead>\n",
       "  <tbody>\n",
       "    <tr>\n",
       "      <th>one</th>\n",
       "      <td>0.467976</td>\n",
       "      <td>-0.358893</td>\n",
       "      <td>-0.50184</td>\n",
       "      <td>0.204886</td>\n",
       "      <td>0.354628</td>\n",
       "      <td>1.81748</td>\n",
       "      <td>-0.776764</td>\n",
       "      <td>-0.913135</td>\n",
       "      <td>0.35848</td>\n",
       "      <td>-1.740877</td>\n",
       "      <td>...</td>\n",
       "      <td>-0.370769</td>\n",
       "      <td>-0.40998</td>\n",
       "      <td>0.301214</td>\n",
       "      <td>1.821117</td>\n",
       "      <td>0.068804</td>\n",
       "      <td>2.311896</td>\n",
       "      <td>-0.479893</td>\n",
       "      <td>0.523331</td>\n",
       "      <td>-0.362559</td>\n",
       "      <td>-0.096376</td>\n",
       "    </tr>\n",
       "    <tr>\n",
       "      <th>two</th>\n",
       "      <td>-0.038649</td>\n",
       "      <td>1.404453</td>\n",
       "      <td>0.659254</td>\n",
       "      <td>1.074134</td>\n",
       "      <td>-0.133116</td>\n",
       "      <td>0.742273</td>\n",
       "      <td>0.935518</td>\n",
       "      <td>1.530624</td>\n",
       "      <td>-0.497572</td>\n",
       "      <td>-1.160417</td>\n",
       "      <td>...</td>\n",
       "      <td>0.404356</td>\n",
       "      <td>0.155627</td>\n",
       "      <td>-1.111203</td>\n",
       "      <td>0.416445</td>\n",
       "      <td>1.322759</td>\n",
       "      <td>-0.41707</td>\n",
       "      <td>-0.650419</td>\n",
       "      <td>0.787112</td>\n",
       "      <td>0.598894</td>\n",
       "      <td>-1.012999</td>\n",
       "    </tr>\n",
       "    <tr>\n",
       "      <th>three</th>\n",
       "      <td>-0.295344</td>\n",
       "      <td>0.704965</td>\n",
       "      <td>-0.421691</td>\n",
       "      <td>1.388361</td>\n",
       "      <td>0.283763</td>\n",
       "      <td>0.419395</td>\n",
       "      <td>-0.332872</td>\n",
       "      <td>-0.572657</td>\n",
       "      <td>-0.367016</td>\n",
       "      <td>-1.63783</td>\n",
       "      <td>...</td>\n",
       "      <td>-1.051628</td>\n",
       "      <td>-0.81899</td>\n",
       "      <td>0.668258</td>\n",
       "      <td>0.173874</td>\n",
       "      <td>0.802346</td>\n",
       "      <td>-1.409599</td>\n",
       "      <td>0.745152</td>\n",
       "      <td>0.486066</td>\n",
       "      <td>-1.843201</td>\n",
       "      <td>-0.657431</td>\n",
       "    </tr>\n",
       "    <tr>\n",
       "      <th>four</th>\n",
       "      <td>-1.824726</td>\n",
       "      <td>-0.200638</td>\n",
       "      <td>-0.057688</td>\n",
       "      <td>-0.982404</td>\n",
       "      <td>-0.837063</td>\n",
       "      <td>-2.251035</td>\n",
       "      <td>-1.875641</td>\n",
       "      <td>0.477252</td>\n",
       "      <td>0.507702</td>\n",
       "      <td>2.172201</td>\n",
       "      <td>...</td>\n",
       "      <td>-1.050899</td>\n",
       "      <td>1.27735</td>\n",
       "      <td>0.671922</td>\n",
       "      <td>0.505118</td>\n",
       "      <td>0.223618</td>\n",
       "      <td>-0.515821</td>\n",
       "      <td>-0.646038</td>\n",
       "      <td>1.093156</td>\n",
       "      <td>0.887292</td>\n",
       "      <td>-0.573315</td>\n",
       "    </tr>\n",
       "    <tr>\n",
       "      <th>key</th>\n",
       "      <td>L</td>\n",
       "      <td>B</td>\n",
       "      <td>G</td>\n",
       "      <td>R</td>\n",
       "      <td>Q</td>\n",
       "      <td>Q</td>\n",
       "      <td>U</td>\n",
       "      <td>K</td>\n",
       "      <td>S</td>\n",
       "      <td>G</td>\n",
       "      <td>...</td>\n",
       "      <td>8</td>\n",
       "      <td>W</td>\n",
       "      <td>A</td>\n",
       "      <td>X</td>\n",
       "      <td>H</td>\n",
       "      <td>L</td>\n",
       "      <td>E</td>\n",
       "      <td>K</td>\n",
       "      <td>G</td>\n",
       "      <td>0</td>\n",
       "    </tr>\n",
       "  </tbody>\n",
       "</table>\n",
       "<p>5 rows × 10000 columns</p>\n",
       "</div>"
      ],
      "text/plain": [
       "           0         1         2         3         4         5         6     \\\n",
       "one    0.467976 -0.358893  -0.50184  0.204886  0.354628   1.81748 -0.776764   \n",
       "two   -0.038649  1.404453  0.659254  1.074134 -0.133116  0.742273  0.935518   \n",
       "three -0.295344  0.704965 -0.421691  1.388361  0.283763  0.419395 -0.332872   \n",
       "four  -1.824726 -0.200638 -0.057688 -0.982404 -0.837063 -2.251035 -1.875641   \n",
       "key           L         B         G         R         Q         Q         U   \n",
       "\n",
       "           7         8         9     ...      9990      9991      9992  \\\n",
       "one   -0.913135   0.35848 -1.740877  ... -0.370769  -0.40998  0.301214   \n",
       "two    1.530624 -0.497572 -1.160417  ...  0.404356  0.155627 -1.111203   \n",
       "three -0.572657 -0.367016  -1.63783  ... -1.051628  -0.81899  0.668258   \n",
       "four   0.477252  0.507702  2.172201  ... -1.050899   1.27735  0.671922   \n",
       "key           K         S         G  ...         8         W         A   \n",
       "\n",
       "           9993      9994      9995      9996      9997      9998      9999  \n",
       "one    1.821117  0.068804  2.311896 -0.479893  0.523331 -0.362559 -0.096376  \n",
       "two    0.416445  1.322759  -0.41707 -0.650419  0.787112  0.598894 -1.012999  \n",
       "three  0.173874  0.802346 -1.409599  0.745152  0.486066 -1.843201 -0.657431  \n",
       "four   0.505118  0.223618 -0.515821 -0.646038  1.093156  0.887292 -0.573315  \n",
       "key           X         H         L         E         K         G         0  \n",
       "\n",
       "[5 rows x 10000 columns]"
      ]
     },
     "execution_count": 4,
     "metadata": {},
     "output_type": "execute_result"
    }
   ],
   "source": [
    "result.T"
   ]
  },
  {
   "cell_type": "markdown",
   "metadata": {},
   "source": [
    "If you want to only read out a small number of rows (avoiding reading the entire file), specify that with nrows:"
   ]
  },
  {
   "cell_type": "code",
   "execution_count": 5,
   "metadata": {},
   "outputs": [
    {
     "data": {
      "text/html": [
       "<div>\n",
       "<style scoped>\n",
       "    .dataframe tbody tr th:only-of-type {\n",
       "        vertical-align: middle;\n",
       "    }\n",
       "\n",
       "    .dataframe tbody tr th {\n",
       "        vertical-align: top;\n",
       "    }\n",
       "\n",
       "    .dataframe thead th {\n",
       "        text-align: right;\n",
       "    }\n",
       "</style>\n",
       "<table border=\"1\" class=\"dataframe\">\n",
       "  <thead>\n",
       "    <tr style=\"text-align: right;\">\n",
       "      <th></th>\n",
       "      <th>one</th>\n",
       "      <th>two</th>\n",
       "      <th>three</th>\n",
       "      <th>four</th>\n",
       "      <th>key</th>\n",
       "    </tr>\n",
       "  </thead>\n",
       "  <tbody>\n",
       "    <tr>\n",
       "      <th>0</th>\n",
       "      <td>0.467976</td>\n",
       "      <td>-0.038649</td>\n",
       "      <td>-0.295344</td>\n",
       "      <td>-1.824726</td>\n",
       "      <td>L</td>\n",
       "    </tr>\n",
       "    <tr>\n",
       "      <th>1</th>\n",
       "      <td>-0.358893</td>\n",
       "      <td>1.404453</td>\n",
       "      <td>0.704965</td>\n",
       "      <td>-0.200638</td>\n",
       "      <td>B</td>\n",
       "    </tr>\n",
       "    <tr>\n",
       "      <th>2</th>\n",
       "      <td>-0.501840</td>\n",
       "      <td>0.659254</td>\n",
       "      <td>-0.421691</td>\n",
       "      <td>-0.057688</td>\n",
       "      <td>G</td>\n",
       "    </tr>\n",
       "    <tr>\n",
       "      <th>3</th>\n",
       "      <td>0.204886</td>\n",
       "      <td>1.074134</td>\n",
       "      <td>1.388361</td>\n",
       "      <td>-0.982404</td>\n",
       "      <td>R</td>\n",
       "    </tr>\n",
       "    <tr>\n",
       "      <th>4</th>\n",
       "      <td>0.354628</td>\n",
       "      <td>-0.133116</td>\n",
       "      <td>0.283763</td>\n",
       "      <td>-0.837063</td>\n",
       "      <td>Q</td>\n",
       "    </tr>\n",
       "    <tr>\n",
       "      <th>5</th>\n",
       "      <td>1.817480</td>\n",
       "      <td>0.742273</td>\n",
       "      <td>0.419395</td>\n",
       "      <td>-2.251035</td>\n",
       "      <td>Q</td>\n",
       "    </tr>\n",
       "    <tr>\n",
       "      <th>6</th>\n",
       "      <td>-0.776764</td>\n",
       "      <td>0.935518</td>\n",
       "      <td>-0.332872</td>\n",
       "      <td>-1.875641</td>\n",
       "      <td>U</td>\n",
       "    </tr>\n",
       "    <tr>\n",
       "      <th>7</th>\n",
       "      <td>-0.913135</td>\n",
       "      <td>1.530624</td>\n",
       "      <td>-0.572657</td>\n",
       "      <td>0.477252</td>\n",
       "      <td>K</td>\n",
       "    </tr>\n",
       "    <tr>\n",
       "      <th>8</th>\n",
       "      <td>0.358480</td>\n",
       "      <td>-0.497572</td>\n",
       "      <td>-0.367016</td>\n",
       "      <td>0.507702</td>\n",
       "      <td>S</td>\n",
       "    </tr>\n",
       "    <tr>\n",
       "      <th>9</th>\n",
       "      <td>-1.740877</td>\n",
       "      <td>-1.160417</td>\n",
       "      <td>-1.637830</td>\n",
       "      <td>2.172201</td>\n",
       "      <td>G</td>\n",
       "    </tr>\n",
       "  </tbody>\n",
       "</table>\n",
       "</div>"
      ],
      "text/plain": [
       "        one       two     three      four key\n",
       "0  0.467976 -0.038649 -0.295344 -1.824726   L\n",
       "1 -0.358893  1.404453  0.704965 -0.200638   B\n",
       "2 -0.501840  0.659254 -0.421691 -0.057688   G\n",
       "3  0.204886  1.074134  1.388361 -0.982404   R\n",
       "4  0.354628 -0.133116  0.283763 -0.837063   Q\n",
       "5  1.817480  0.742273  0.419395 -2.251035   Q\n",
       "6 -0.776764  0.935518 -0.332872 -1.875641   U\n",
       "7 -0.913135  1.530624 -0.572657  0.477252   K\n",
       "8  0.358480 -0.497572 -0.367016  0.507702   S\n",
       "9 -1.740877 -1.160417 -1.637830  2.172201   G"
      ]
     },
     "execution_count": 5,
     "metadata": {},
     "output_type": "execute_result"
    }
   ],
   "source": [
    "pd.read_csv('../../CSV Files/O_Reilly/ch06/ex6.csv', nrows = 10)"
   ]
  },
  {
   "cell_type": "markdown",
   "metadata": {},
   "source": [
    "To read out a file in pieces, specify a chunksize as a number of rows:"
   ]
  },
  {
   "cell_type": "code",
   "execution_count": 7,
   "metadata": {},
   "outputs": [
    {
     "data": {
      "text/plain": [
       "<pandas.io.parsers.readers.TextFileReader at 0x12a945fde10>"
      ]
     },
     "execution_count": 7,
     "metadata": {},
     "output_type": "execute_result"
    }
   ],
   "source": [
    "pd.read_csv('../../CSV Files/O_Reilly/ch06/ex6.csv', chunksize= 1000)"
   ]
  },
  {
   "cell_type": "markdown",
   "metadata": {},
   "source": [
    "The TextParser object returned by read_csv allows you to iterate over the parts of the file according to the chunksize. For example, we can iterate over ex6.csv, aggregating the value counts in the 'key' column like so:"
   ]
  },
  {
   "cell_type": "code",
   "execution_count": 18,
   "metadata": {},
   "outputs": [
    {
     "name": "stderr",
     "output_type": "stream",
     "text": [
      "C:\\Users\\mbkmu\\AppData\\Local\\Temp\\ipykernel_7672\\1297830782.py:3: FutureWarning: The default dtype for empty Series will be 'object' instead of 'float64' in a future version. Specify a dtype explicitly to silence this warning.\n",
      "  tot = Series([])\n"
     ]
    }
   ],
   "source": [
    "chunker = pd.read_csv('../../CSV Files/O_Reilly/ch06/ex6.csv', chunksize= 1000)\n",
    "\n",
    "tot = Series([])\n",
    "for piece in chunker:\n",
    "    tot = tot.add(piece['key'].value_counts(), fill_value= 0)\n",
    "\n",
    "tot = tot.sort_index(ascending = False)"
   ]
  },
  {
   "cell_type": "code",
   "execution_count": 19,
   "metadata": {},
   "outputs": [
    {
     "data": {
      "text/plain": [
       "Z    288.0\n",
       "Y    314.0\n",
       "X    364.0\n",
       "W    305.0\n",
       "V    328.0\n",
       "U    326.0\n",
       "T    304.0\n",
       "S    308.0\n",
       "R    318.0\n",
       "Q    340.0\n",
       "dtype: float64"
      ]
     },
     "execution_count": 19,
     "metadata": {},
     "output_type": "execute_result"
    }
   ],
   "source": [
    "tot[:10]"
   ]
  }
 ],
 "metadata": {
  "kernelspec": {
   "display_name": "Python 3.10.5 64-bit (windows store)",
   "language": "python",
   "name": "python3"
  },
  "language_info": {
   "codemirror_mode": {
    "name": "ipython",
    "version": 3
   },
   "file_extension": ".py",
   "mimetype": "text/x-python",
   "name": "python",
   "nbconvert_exporter": "python",
   "pygments_lexer": "ipython3",
   "version": "3.10.5"
  },
  "orig_nbformat": 4,
  "vscode": {
   "interpreter": {
    "hash": "ffea71f7b71092eabe4cd0b8ca5f97eab7e23656a5f6413a198e81db1d0ce6b2"
   }
  }
 },
 "nbformat": 4,
 "nbformat_minor": 2
}

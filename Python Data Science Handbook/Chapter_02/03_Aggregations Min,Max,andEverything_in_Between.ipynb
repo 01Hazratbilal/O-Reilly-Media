{
 "cells": [
  {
   "cell_type": "markdown",
   "metadata": {},
   "source": [
    "## Aggregations:Min, Max, and Everything in Between"
   ]
  },
  {
   "cell_type": "markdown",
   "metadata": {},
   "source": [
    "Often when we faced with a large amount of data, a first step is to compute summay statistics for the data in question. Perhaps the most common summery statistics are the mean and standard diviation, which allow you ot summarize the 'typical' values in the dataset, but other aggregates are useful as well (the sum, product, median, minimum and maximum, quantiles, etc).\n",
    "\n",
    "NumPy has fast built-in aggergation functions for working on arrays:\n",
    "Some of them are:"
   ]
  },
  {
   "cell_type": "markdown",
   "metadata": {},
   "source": [
    "### 1. Summing the Values in an Array\n",
    "\n",
    "As a quick example, consider computing the sum of all values in an array. Python itself can do this using the build-in sum function:"
   ]
  },
  {
   "cell_type": "code",
   "execution_count": 1,
   "metadata": {},
   "outputs": [],
   "source": [
    "import numpy as np"
   ]
  },
  {
   "cell_type": "code",
   "execution_count": 9,
   "metadata": {},
   "outputs": [
    {
     "data": {
      "text/plain": [
       "array([0.40250173, 0.73403941, 0.94950397, 0.95448414, 0.69914126,\n",
       "       0.47959358, 0.22925696, 0.02175017, 0.70480367, 0.40277399,\n",
       "       0.26632241, 0.42849745, 0.87512073, 0.04220192, 0.44543424,\n",
       "       0.19842722, 0.42116654, 0.6701874 , 0.60164152, 0.2406039 ,\n",
       "       0.87987523, 0.47610221, 0.42483607, 0.61004331, 0.78360002,\n",
       "       0.42474541, 0.23583441, 0.9390949 , 0.93853744, 0.2428931 ,\n",
       "       0.78389181, 0.00752434, 0.01250229, 0.48887673, 0.21034153,\n",
       "       0.35672643, 0.12273822, 0.99705706, 0.26585877, 0.5316135 ,\n",
       "       0.11943299, 0.41837462, 0.23675804, 0.75899114, 0.78699586,\n",
       "       0.47887132, 0.36722634, 0.78982674, 0.32024154, 0.7936581 ,\n",
       "       0.48821895, 0.51236734, 0.28453332, 0.97013588, 0.82189953,\n",
       "       0.08576057, 0.59975393, 0.95727302, 0.87160927, 0.6996236 ,\n",
       "       0.65098227, 0.88258228, 0.55808217, 0.69461769, 0.44254894,\n",
       "       0.91634493, 0.29801234, 0.14005769, 0.87958217, 0.89820466,\n",
       "       0.81371888, 0.97643516, 0.94490364, 0.36839677, 0.4766606 ,\n",
       "       0.05119307, 0.24605306, 0.50054919, 0.64771799, 0.65033388,\n",
       "       0.67597657, 0.25177032, 0.49159559, 0.71751075, 0.64303155,\n",
       "       0.73419163, 0.59720474, 0.89451485, 0.81397463, 0.73150631,\n",
       "       0.24035323, 0.48314508, 0.70432298, 0.89125712, 0.79675468,\n",
       "       0.22086898, 0.81832611, 0.19763503, 0.78962063, 0.17377887])"
      ]
     },
     "execution_count": 9,
     "metadata": {},
     "output_type": "execute_result"
    }
   ],
   "source": [
    "l = np.random.random(100)\n",
    "\n",
    "l"
   ]
  },
  {
   "cell_type": "code",
   "execution_count": 10,
   "metadata": {},
   "outputs": [
    {
     "data": {
      "text/plain": [
       "54.76601410893911"
      ]
     },
     "execution_count": 10,
     "metadata": {},
     "output_type": "execute_result"
    }
   ],
   "source": [
    "sum(l)"
   ]
  },
  {
   "cell_type": "markdown",
   "metadata": {},
   "source": [
    "> The syntax is quite sumilar to that of NumPy's sum function, and the result is the same in the simplest case:"
   ]
  },
  {
   "cell_type": "code",
   "execution_count": 11,
   "metadata": {},
   "outputs": [
    {
     "data": {
      "text/plain": [
       "54.766014108939125"
      ]
     },
     "execution_count": 11,
     "metadata": {},
     "output_type": "execute_result"
    }
   ],
   "source": [
    "np.sum(l)"
   ]
  },
  {
   "cell_type": "markdown",
   "metadata": {},
   "source": [
    "In large calculations, NumPy's version of the operation is computed much more quickly:"
   ]
  },
  {
   "cell_type": "code",
   "execution_count": 12,
   "metadata": {},
   "outputs": [
    {
     "name": "stdout",
     "output_type": "stream",
     "text": [
      "1.18 s ± 74.8 ms per loop (mean ± std. dev. of 7 runs, 1 loop each)\n",
      "15.7 ms ± 717 µs per loop (mean ± std. dev. of 7 runs, 100 loops each)\n"
     ]
    }
   ],
   "source": [
    "big_array = np.random.rand(10000000)\n",
    "\n",
    "%timeit sum(big_array)\n",
    "\n",
    "%timeit np.sum(big_array)"
   ]
  },
  {
   "cell_type": "markdown",
   "metadata": {},
   "source": [
    "### 2. Minimum and Maximum\n",
    "\n",
    "Similarly, Python has built-in min and max functions, used to dind the minimum value and maximum value of any given array:"
   ]
  },
  {
   "cell_type": "code",
   "execution_count": 13,
   "metadata": {},
   "outputs": [
    {
     "data": {
      "text/plain": [
       "(3.7778915107367084e-08, 0.9999999848171117)"
      ]
     },
     "execution_count": 13,
     "metadata": {},
     "output_type": "execute_result"
    }
   ],
   "source": [
    "min(big_array), max(big_array)"
   ]
  },
  {
   "cell_type": "markdown",
   "metadata": {},
   "source": [
    "NumPy's have similar syntex, and operate much quickly"
   ]
  },
  {
   "cell_type": "code",
   "execution_count": 14,
   "metadata": {},
   "outputs": [
    {
     "data": {
      "text/plain": [
       "(3.7778915107367084e-08, 0.9999999848171117)"
      ]
     },
     "execution_count": 14,
     "metadata": {},
     "output_type": "execute_result"
    }
   ],
   "source": [
    "np.min(big_array), np.max(big_array)"
   ]
  },
  {
   "cell_type": "code",
   "execution_count": 15,
   "metadata": {},
   "outputs": [
    {
     "name": "stdout",
     "output_type": "stream",
     "text": [
      "767 ms ± 120 ms per loop (mean ± std. dev. of 7 runs, 1 loop each)\n",
      "7.12 ms ± 57.5 µs per loop (mean ± std. dev. of 7 runs, 100 loops each)\n"
     ]
    }
   ],
   "source": [
    "# to see the executation time of both\n",
    "\n",
    "%timeit min(big_array)\n",
    "\n",
    "%timeit np.min(big_array)"
   ]
  },
  {
   "cell_type": "markdown",
   "metadata": {},
   "source": [
    "For min, max, sum and several other NumPy aggregates, a shorter syntax is to use methods of the array object itslef:"
   ]
  },
  {
   "cell_type": "code",
   "execution_count": 16,
   "metadata": {},
   "outputs": [
    {
     "name": "stdout",
     "output_type": "stream",
     "text": [
      "3.7778915107367084e-08 0.9999999848171117 5000541.556945192\n"
     ]
    }
   ],
   "source": [
    "print(big_array.min(), big_array.max(), big_array.sum())"
   ]
  },
  {
   "cell_type": "markdown",
   "metadata": {},
   "source": [
    "### 3. Multidimensional aggregates\n",
    "\n",
    "One common type of aggregation operation is an aggregate along a row or column.\n",
    "\n",
    "Say you have some data stored in a two-dimensional array:"
   ]
  },
  {
   "cell_type": "code",
   "execution_count": 23,
   "metadata": {},
   "outputs": [
    {
     "data": {
      "text/plain": [
       "array([[ 0,  1,  2,  3],\n",
       "       [ 4,  5,  6,  7],\n",
       "       [ 8,  9, 10, 11]])"
      ]
     },
     "execution_count": 23,
     "metadata": {},
     "output_type": "execute_result"
    }
   ],
   "source": [
    "M = np.arange(12).reshape(3, 4)\n",
    "\n",
    "M"
   ]
  },
  {
   "cell_type": "markdown",
   "metadata": {},
   "source": [
    "By default, each NumPy aggregation funciton will return the aggregate over the entire array:"
   ]
  },
  {
   "cell_type": "code",
   "execution_count": 24,
   "metadata": {},
   "outputs": [
    {
     "data": {
      "text/plain": [
       "66"
      ]
     },
     "execution_count": 24,
     "metadata": {},
     "output_type": "execute_result"
    }
   ],
   "source": [
    "M.sum()"
   ]
  },
  {
   "cell_type": "markdown",
   "metadata": {},
   "source": [
    "Aggregation functions take an additional arguments specifying the axis. 0 refers to x-axis and 1 refers to y-axis:"
   ]
  },
  {
   "cell_type": "code",
   "execution_count": 28,
   "metadata": {},
   "outputs": [
    {
     "data": {
      "text/plain": [
       "(array([0, 1, 2, 3]), array([0, 4, 8]))"
      ]
     },
     "execution_count": 28,
     "metadata": {},
     "output_type": "execute_result"
    }
   ],
   "source": [
    "M.min(axis=0), M.min(axis=1)"
   ]
  },
  {
   "cell_type": "markdown",
   "metadata": {},
   "source": [
    "### 4. Other aggregation functions\n",
    "\n",
    "![Numpy's Aggregate functions](../../Pictures/NumPy's%20aggergates.png)"
   ]
  },
  {
   "cell_type": "markdown",
   "metadata": {},
   "source": [
    "# Example: What is the Average Height of Us Presidents?\n",
    "\n",
    "Aggregates available in NumPy can be extermely useful for summerizing a set of values. As a simple example, let's consider the heights of all US presidents."
   ]
  },
  {
   "cell_type": "code",
   "execution_count": 35,
   "metadata": {},
   "outputs": [
    {
     "name": "stdout",
     "output_type": "stream",
     "text": [
      "mean height:  179.73809523809524\n",
      "standard diviation:   6.931843442745892\n",
      "Minimum height:   163\n",
      "miximum height:   193\n"
     ]
    }
   ],
   "source": [
    "heights = [189, 170, 189, 163, 183, 171, 185, 168, 173,\n",
    "           183, 173, 173, 175, 178, 183, 193, 178, 173,\n",
    "           174, 183, 183, 168, 170, 178, 182, 180, 183,\n",
    "           178, 182, 188, 175, 179, 183, 193, 182, 183,\n",
    "           177, 185, 188, 188, 182, 185]\n",
    "\n",
    "heights = np.array(heights)\n",
    "# lets see summary statistics.\n",
    "\n",
    "print(\"mean height: \", heights.mean())\n",
    "print(\"standard diviation:  \", heights.std())\n",
    "print(\"Minimum height:  \", heights.min())\n",
    "print(\"miximum height:  \", heights.max())"
   ]
  },
  {
   "cell_type": "markdown",
   "metadata": {},
   "source": [
    "Note that in each case, the aggregation operation reduced the entire array to a single summerizing value, which gives us information about the distribution of values. We may also whish to compute quantiles:"
   ]
  },
  {
   "cell_type": "code",
   "execution_count": 37,
   "metadata": {},
   "outputs": [
    {
     "name": "stdout",
     "output_type": "stream",
     "text": [
      "25th percentile:      174.25\n",
      "Median:               182.0\n",
      "75th percentile:      183.0\n"
     ]
    }
   ],
   "source": [
    "print(\"25th percentile:     \", np.percentile(heights, 25))\n",
    "print(\"Median:              \", np.median(heights))\n",
    "print(\"75th percentile:     \", np.percentile(heights, 75))"
   ]
  },
  {
   "cell_type": "code",
   "execution_count": 39,
   "metadata": {},
   "outputs": [],
   "source": [
    "# lets plot\n",
    "\n",
    "%matplotlib inline\n",
    "import matplotlib.pyplot as plt\n",
    "import seaborn; seaborn.set()   # set plot sytle"
   ]
  },
  {
   "cell_type": "code",
   "execution_count": 41,
   "metadata": {},
   "outputs": [
    {
     "data": {
      "text/plain": [
       "Text(0, 0.5, 'number')"
      ]
     },
     "execution_count": 41,
     "metadata": {},
     "output_type": "execute_result"
    },
    {
     "data": {
      "image/png": "[encoded data removed]",
      "text/plain": [
       "<Figure size 640x480 with 1 Axes>"
      ]
     },
     "metadata": {},
     "output_type": "display_data"
    }
   ],
   "source": [
    "plt.hist(heights)\n",
    "plt.title(\"Height Disturibuation of Us presidents\")\n",
    "plt.xlabel(\"height (cm)\")\n",
    "plt.ylabel(\"number\")"
   ]
  }
 ],
 "metadata": {
  "kernelspec": {
   "display_name": "Python 3",
   "language": "python",
   "name": "python3"
  },
  "language_info": {
   "codemirror_mode": {
    "name": "ipython",
    "version": 3
   },
   "file_extension": ".py",
   "mimetype": "text/x-python",
   "name": "python",
   "nbconvert_exporter": "python",
   "pygments_lexer": "ipython3",
   "version": "3.11.4"
  },
  "orig_nbformat": 4
 },
 "nbformat": 4,
 "nbformat_minor": 2
}

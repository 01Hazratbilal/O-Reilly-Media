{
 "cells": [
  {
   "cell_type": "markdown",
   "metadata": {},
   "source": [
    "# Iterating Over Groups\n",
    "\n",
    "The GroupBy object supports iteration, generating a sequence of 2-tuples containing the group name along with the chunk of data. Consider the following small example data set:"
   ]
  },
  {
   "cell_type": "code",
   "execution_count": 1,
   "metadata": {},
   "outputs": [],
   "source": [
    "import pandas as pd\n",
    "import numpy as np\n",
    "from pandas import DataFrame, Series"
   ]
  },
  {
   "cell_type": "code",
   "execution_count": 2,
   "metadata": {},
   "outputs": [],
   "source": [
    "df = DataFrame({'key1' : ['a', 'a', 'b', 'b', 'a'],\n",
    "                'key2' : ['one', 'two', 'one', 'two', 'one'],\n",
    "                'data1' : np.arange(5),\n",
    "                'data2' : np.random.randn(5),\n",
    "                'data3' : ['aa', 'bb', 'bb', 'aa', 'bb']})"
   ]
  },
  {
   "cell_type": "code",
   "execution_count": 55,
   "metadata": {},
   "outputs": [
    {
     "name": "stdout",
     "output_type": "stream",
     "text": [
      "a\n",
      "  key1 key2  data1     data2 data3\n",
      "0    a  one      0  0.813068    aa\n",
      "1    a  two      1  0.296137    bb\n",
      "4    a  one      4 -1.684529    bb\n",
      "b\n",
      "  key1 key2  data1     data2 data3\n",
      "2    b  one      2  0.225491    bb\n",
      "3    b  two      3 -1.916575    aa\n"
     ]
    }
   ],
   "source": [
    "for i, j in df.groupby('key1'):\n",
    "\n",
    "    print(i)\n",
    "    print(j)"
   ]
  },
  {
   "cell_type": "code",
   "execution_count": 64,
   "metadata": {},
   "outputs": [],
   "source": [
    "data = DataFrame({'aa' : ['a', 'a','b', 'c', 'b'],\n",
    "'bb' : [1,2,3,4,5]})"
   ]
  },
  {
   "cell_type": "code",
   "execution_count": 67,
   "metadata": {},
   "outputs": [
    {
     "name": "stdout",
     "output_type": "stream",
     "text": [
      "a\n",
      "  aa  bb\n",
      "0  a   1\n",
      "1  a   2\n",
      "b\n",
      "  aa  bb\n",
      "2  b   3\n",
      "4  b   5\n",
      "c\n",
      "  aa  bb\n",
      "3  c   4\n"
     ]
    }
   ],
   "source": [
    "for i, j in data.groupby('aa'):\n",
    "\n",
    "    print(i)\n",
    "    print(j)"
   ]
  },
  {
   "cell_type": "markdown",
   "metadata": {},
   "source": [
    "In the case of multiple keys, the first element in the tuple will be a tuple of key values:"
   ]
  },
  {
   "cell_type": "code",
   "execution_count": 87,
   "metadata": {},
   "outputs": [
    {
     "name": "stdout",
     "output_type": "stream",
     "text": [
      "aa \n",
      " a \n",
      "   key1 key2  data1     data2 data3\n",
      "0    a  one      0  0.813068    aa\n",
      "aa \n",
      " b \n",
      "   key1 key2  data1     data2 data3\n",
      "3    b  two      3 -1.916575    aa\n",
      "bb \n",
      " a \n",
      "   key1 key2  data1     data2 data3\n",
      "1    a  two      1  0.296137    bb\n",
      "4    a  one      4 -1.684529    bb\n",
      "bb \n",
      " b \n",
      "   key1 key2  data1     data2 data3\n",
      "2    b  one      2  0.225491    bb\n"
     ]
    }
   ],
   "source": [
    "for (i, j), k in df.groupby(['data3', 'key1']):\n",
    "    print(i, '\\n', j, '\\n', k)"
   ]
  },
  {
   "cell_type": "markdown",
   "metadata": {},
   "source": [
    "Of course, you can choose to do whatever you want with the pieces of data. A recipe you may find useful is computing a dict of the data pieces as a one-liner:"
   ]
  },
  {
   "cell_type": "code",
   "execution_count": 103,
   "metadata": {},
   "outputs": [],
   "source": [
    "pieces = dict(list(df.groupby('data3')))"
   ]
  },
  {
   "cell_type": "code",
   "execution_count": 104,
   "metadata": {},
   "outputs": [
    {
     "data": {
      "text/plain": [
       "{'aa':   key1 key2  data1     data2 data3\n",
       " 0    a  one      0  0.813068    aa\n",
       " 3    b  two      3 -1.916575    aa,\n",
       " 'bb':   key1 key2  data1     data2 data3\n",
       " 1    a  two      1  0.296137    bb\n",
       " 2    b  one      2  0.225491    bb\n",
       " 4    a  one      4 -1.684529    bb}"
      ]
     },
     "execution_count": 104,
     "metadata": {},
     "output_type": "execute_result"
    }
   ],
   "source": [
    "pieces"
   ]
  },
  {
   "cell_type": "markdown",
   "metadata": {},
   "source": [
    "By default groupby groups on axis=0, but you can group on any of the other axes. For example, we could group the columns of our example df here by dtype like so:"
   ]
  },
  {
   "cell_type": "code",
   "execution_count": 107,
   "metadata": {},
   "outputs": [
    {
     "data": {
      "text/plain": [
       "key1      object\n",
       "key2      object\n",
       "data1      int32\n",
       "data2    float64\n",
       "data3     object\n",
       "dtype: object"
      ]
     },
     "execution_count": 107,
     "metadata": {},
     "output_type": "execute_result"
    }
   ],
   "source": [
    "df.dtypes"
   ]
  },
  {
   "cell_type": "code",
   "execution_count": 108,
   "metadata": {},
   "outputs": [],
   "source": [
    "grouped = df.groupby(df.dtypes, axis= 1)"
   ]
  },
  {
   "cell_type": "code",
   "execution_count": 112,
   "metadata": {},
   "outputs": [
    {
     "name": "stdout",
     "output_type": "stream",
     "text": [
      "int32    data1\n",
      "0      0\n",
      "1      1\n",
      "2      2\n",
      "3      3\n",
      "4      4\n",
      "float64       data2\n",
      "0  0.813068\n",
      "1  0.296137\n",
      "2  0.225491\n",
      "3 -1.916575\n",
      "4 -1.684529\n",
      "object   key1 key2 data3\n",
      "0    a  one    aa\n",
      "1    a  two    bb\n",
      "2    b  one    bb\n",
      "3    b  two    aa\n",
      "4    a  one    bb\n"
     ]
    }
   ],
   "source": [
    "for i,j in grouped:\n",
    "    print(i, j)"
   ]
  },
  {
   "cell_type": "code",
   "execution_count": 113,
   "metadata": {},
   "outputs": [
    {
     "data": {
      "text/plain": [
       "{dtype('int32'):    data1\n",
       " 0      0\n",
       " 1      1\n",
       " 2      2\n",
       " 3      3\n",
       " 4      4,\n",
       " dtype('float64'):       data2\n",
       " 0  0.813068\n",
       " 1  0.296137\n",
       " 2  0.225491\n",
       " 3 -1.916575\n",
       " 4 -1.684529,\n",
       " dtype('O'):   key1 key2 data3\n",
       " 0    a  one    aa\n",
       " 1    a  two    bb\n",
       " 2    b  one    bb\n",
       " 3    b  two    aa\n",
       " 4    a  one    bb}"
      ]
     },
     "execution_count": 113,
     "metadata": {},
     "output_type": "execute_result"
    }
   ],
   "source": [
    "dict(list(grouped))"
   ]
  }
 ],
 "metadata": {
  "kernelspec": {
   "display_name": "Python 3.10.6 64-bit (windows store)",
   "language": "python",
   "name": "python3"
  },
  "language_info": {
   "codemirror_mode": {
    "name": "ipython",
    "version": 3
   },
   "file_extension": ".py",
   "mimetype": "text/x-python",
   "name": "python",
   "nbconvert_exporter": "python",
   "pygments_lexer": "ipython3",
   "version": "3.10.6"
  },
  "orig_nbformat": 4,
  "vscode": {
   "interpreter": {
    "hash": "ffea71f7b71092eabe4cd0b8ca5f97eab7e23656a5f6413a198e81db1d0ce6b2"
   }
  }
 },
 "nbformat": 4,
 "nbformat_minor": 2
}

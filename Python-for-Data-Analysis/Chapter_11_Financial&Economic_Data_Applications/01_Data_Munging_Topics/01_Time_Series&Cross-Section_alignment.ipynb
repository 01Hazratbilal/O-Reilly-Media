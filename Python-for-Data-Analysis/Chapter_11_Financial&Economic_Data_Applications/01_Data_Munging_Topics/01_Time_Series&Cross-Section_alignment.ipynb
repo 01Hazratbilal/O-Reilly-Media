{
 "cells": [
  {
   "cell_type": "markdown",
   "metadata": {},
   "source": [
    "# Time Series and Cross-Section Alignment\n",
    "\n",
    "One of the most time-consuming issues in working with financial data is the so-called data alignment problem. Two related time series may have indexes that don’t line up perfectly, or two DataFrame objects might have columns or row labels that don’t match. Users of MATLAB, R, and other matrix-programming languages often invest significant effort in wrangling data into perfectly aligned forms. In my experience, having to align data by hand (and worse, having to verify that data is aligned) is a far too rigid and tedious way to work. It is also rife with potential for bugs due to combining misaligned data.\n",
    "\n",
    "pandas take an alternate approach by automatically aligning data in arithmetic operations. In practice, this grants immense freedom and enhances your productivity. As an example, let’s consider a couple of DataFrames containing time series of stock prices and volume:"
   ]
  },
  {
   "cell_type": "code",
   "execution_count": 1,
   "metadata": {},
   "outputs": [],
   "source": [
    "import pandas as pd\n",
    "import numpy as np\n",
    "from pandas import DataFrame, Series"
   ]
  },
  {
   "cell_type": "code",
   "execution_count": 4,
   "metadata": {},
   "outputs": [],
   "source": [
    "from pandas_datareader import data as web\n",
    "import yfinance\n",
    "import datetime\n",
    "\n",
    "start = datetime.datetime(2010, 1, 1)\n",
    "end = datetime.datetime(2017, 6, 1)\n",
    "\n",
    "all_data={}\n",
    "for ticker in ['AAPL', 'IBM', 'MSFT', 'GOOGL']:\n",
    "    all_data[ticker] = web.get_data_yahoo(ticker, start, end)\n",
    "\n",
    "price = DataFrame({tic: data['Adj Close'] \n",
    "                   for tic, data in all_data.items()})\n",
    "volume = DataFrame({tic: data['Volume']\n",
    "                     for tic, data in all_data.items()})"
   ]
  },
  {
   "cell_type": "code",
   "execution_count": 8,
   "metadata": {},
   "outputs": [
    {
     "name": "stdout",
     "output_type": "stream",
     "text": [
      "                AAPL        IBM       MSFT      GOOGL\n",
      "Date                                                 \n",
      "2009-12-31  6.426000  81.321327  23.389154  15.515015\n",
      "2010-01-04  6.526021  82.284233  23.749805  15.684434\n",
      "2010-01-05  6.537303  81.290230  23.757488  15.615365\n",
      "2010-01-06  6.433319  80.762161  23.611691  15.221722\n",
      "2010-01-07  6.421424  80.482620  23.366137  14.867367 \n",
      "                    AAPL        IBM        MSFT        GOOGL\n",
      "Date                                                       \n",
      "2009-12-31  352410800.0  4417676.0  31929700.0   48743208.0\n",
      "2010-01-04  493729600.0  6438444.0  38409100.0   78169752.0\n",
      "2010-01-05  601904800.0  7156104.0  49749600.0  120067812.0\n",
      "2010-01-06  552160000.0  5863144.0  58182400.0  158988852.0\n",
      "2010-01-07  477131200.0  6109268.0  50559700.0  256315428.0\n"
     ]
    }
   ],
   "source": [
    "print(price.head(), '\\n', volume.head())"
   ]
  },
  {
   "cell_type": "code",
   "execution_count": 11,
   "metadata": {},
   "outputs": [
    {
     "data": {
      "text/html": [
       "<div>\n",
       "<style scoped>\n",
       "    .dataframe tbody tr th:only-of-type {\n",
       "        vertical-align: middle;\n",
       "    }\n",
       "\n",
       "    .dataframe tbody tr th {\n",
       "        vertical-align: top;\n",
       "    }\n",
       "\n",
       "    .dataframe thead th {\n",
       "        text-align: right;\n",
       "    }\n",
       "</style>\n",
       "<table border=\"1\" class=\"dataframe\">\n",
       "  <thead>\n",
       "    <tr style=\"text-align: right;\">\n",
       "      <th></th>\n",
       "      <th>AAPL</th>\n",
       "      <th>IBM</th>\n",
       "      <th>MSFT</th>\n",
       "      <th>GOOGL</th>\n",
       "    </tr>\n",
       "    <tr>\n",
       "      <th>Date</th>\n",
       "      <th></th>\n",
       "      <th></th>\n",
       "      <th></th>\n",
       "      <th></th>\n",
       "    </tr>\n",
       "  </thead>\n",
       "  <tbody>\n",
       "    <tr>\n",
       "      <th>2009-12-31</th>\n",
       "      <td>2.264592e+09</td>\n",
       "      <td>3.592513e+08</td>\n",
       "      <td>7.468087e+08</td>\n",
       "      <td>7.562516e+08</td>\n",
       "    </tr>\n",
       "    <tr>\n",
       "      <th>2010-01-04</th>\n",
       "      <td>3.222090e+09</td>\n",
       "      <td>5.297824e+08</td>\n",
       "      <td>9.122087e+08</td>\n",
       "      <td>1.226048e+09</td>\n",
       "    </tr>\n",
       "    <tr>\n",
       "      <th>2010-01-05</th>\n",
       "      <td>3.934834e+09</td>\n",
       "      <td>5.817213e+08</td>\n",
       "      <td>1.181926e+09</td>\n",
       "      <td>1.874903e+09</td>\n",
       "    </tr>\n",
       "    <tr>\n",
       "      <th>2010-01-06</th>\n",
       "      <td>3.552221e+09</td>\n",
       "      <td>4.735202e+08</td>\n",
       "      <td>1.373785e+09</td>\n",
       "      <td>2.420084e+09</td>\n",
       "    </tr>\n",
       "    <tr>\n",
       "      <th>2010-01-07</th>\n",
       "      <td>3.063862e+09</td>\n",
       "      <td>4.916899e+08</td>\n",
       "      <td>1.181385e+09</td>\n",
       "      <td>3.810735e+09</td>\n",
       "    </tr>\n",
       "  </tbody>\n",
       "</table>\n",
       "</div>"
      ],
      "text/plain": [
       "                    AAPL           IBM          MSFT         GOOGL\n",
       "Date                                                              \n",
       "2009-12-31  2.264592e+09  3.592513e+08  7.468087e+08  7.562516e+08\n",
       "2010-01-04  3.222090e+09  5.297824e+08  9.122087e+08  1.226048e+09\n",
       "2010-01-05  3.934834e+09  5.817213e+08  1.181926e+09  1.874903e+09\n",
       "2010-01-06  3.552221e+09  4.735202e+08  1.373785e+09  2.420084e+09\n",
       "2010-01-07  3.063862e+09  4.916899e+08  1.181385e+09  3.810735e+09"
      ]
     },
     "execution_count": 11,
     "metadata": {},
     "output_type": "execute_result"
    }
   ],
   "source": [
    "price.head() * volume.head()"
   ]
  },
  {
   "cell_type": "code",
   "execution_count": 12,
   "metadata": {},
   "outputs": [],
   "source": [
    "vwap = (price * volume).sum() / volume.sum()"
   ]
  },
  {
   "cell_type": "code",
   "execution_count": 14,
   "metadata": {},
   "outputs": [
    {
     "data": {
      "text/plain": [
       "(AAPL      15.345857\n",
       " IBM      110.330778\n",
       " MSFT      29.922578\n",
       " GOOGL     20.255270\n",
       " dtype: float64,\n",
       " AAPL      15.345857\n",
       " IBM      110.330778\n",
       " MSFT      29.922578\n",
       " GOOGL     20.255270\n",
       " dtype: float64)"
      ]
     },
     "execution_count": 14,
     "metadata": {},
     "output_type": "execute_result"
    }
   ],
   "source": [
    "vwap, vwap.dropna()"
   ]
  },
  {
   "cell_type": "markdown",
   "metadata": {},
   "source": [
    "Since SPX wasn’t found in volume, you can choose to explicitly discard that at any point. Should you wish to align by hand, you can use DataFrame’s align method, which returns a tuple of reindexed versions of the two objects:"
   ]
  },
  {
   "cell_type": "code",
   "execution_count": 17,
   "metadata": {},
   "outputs": [
    {
     "data": {
      "text/plain": [
       "(                 AAPL         IBM       MSFT      GOOGL\n",
       " Date                                                   \n",
       " 2009-12-31   6.426000   81.321327  23.389154  15.515015\n",
       " 2010-01-04   6.526021   82.284233  23.749805  15.684434\n",
       " 2010-01-05   6.537303   81.290230  23.757488  15.615365\n",
       " 2010-01-06   6.433319   80.762161  23.611691  15.221722\n",
       " 2010-01-07   6.421424   80.482620  23.366137  14.867367\n",
       " ...               ...         ...        ...        ...\n",
       " 2017-05-25  36.365360  114.259567  65.071732  49.592999\n",
       " 2017-05-26  36.303917  113.730026  65.389511  49.663502\n",
       " 2017-05-30  36.318092  113.163223  65.810104  49.808498\n",
       " 2017-05-31  36.103020  113.834473  65.277336  49.354500\n",
       " 2017-06-01  36.202290  113.864311  65.520363  49.414501\n",
       " \n",
       " [1867 rows x 4 columns],\n",
       "                    AAPL        IBM        MSFT        GOOGL\n",
       " Date                                                       \n",
       " 2009-12-31  352410800.0  4417676.0  31929700.0   48743208.0\n",
       " 2010-01-04  493729600.0  6438444.0  38409100.0   78169752.0\n",
       " 2010-01-05  601904800.0  7156104.0  49749600.0  120067812.0\n",
       " 2010-01-06  552160000.0  5863144.0  58182400.0  158988852.0\n",
       " 2010-01-07  477131200.0  6109268.0  50559700.0  256315428.0\n",
       " ...                 ...        ...         ...          ...\n",
       " 2017-05-25   76942400.0  2701504.0  21854100.0   39082000.0\n",
       " 2017-05-26   87710400.0  2555692.0  19827900.0   32728000.0\n",
       " 2017-05-30   80507600.0  3834636.0  17072800.0   30324000.0\n",
       " 2017-05-31   97804800.0  3706396.0  30436400.0   34482000.0\n",
       " 2017-06-01   65616400.0  3052333.0  21603600.0   26128000.0\n",
       " \n",
       " [1867 rows x 4 columns])"
      ]
     },
     "execution_count": 17,
     "metadata": {},
     "output_type": "execute_result"
    }
   ],
   "source": [
    "price.align(volume, join = 'inner')"
   ]
  },
  {
   "cell_type": "markdown",
   "metadata": {},
   "source": [
    "Another indispensable feature is constructing a DataFrame from a collection of potentially differently indexed Series:"
   ]
  },
  {
   "cell_type": "code",
   "execution_count": 18,
   "metadata": {},
   "outputs": [],
   "source": [
    "s1 = Series(range(3), index = list('abc'))\n",
    "\n",
    "s2 = Series(range(4), index = list('dbce'))\n",
    "\n",
    "s3 = Series(range(3), index = list('fac'))"
   ]
  },
  {
   "cell_type": "code",
   "execution_count": 19,
   "metadata": {},
   "outputs": [
    {
     "data": {
      "text/html": [
       "<div>\n",
       "<style scoped>\n",
       "    .dataframe tbody tr th:only-of-type {\n",
       "        vertical-align: middle;\n",
       "    }\n",
       "\n",
       "    .dataframe tbody tr th {\n",
       "        vertical-align: top;\n",
       "    }\n",
       "\n",
       "    .dataframe thead th {\n",
       "        text-align: right;\n",
       "    }\n",
       "</style>\n",
       "<table border=\"1\" class=\"dataframe\">\n",
       "  <thead>\n",
       "    <tr style=\"text-align: right;\">\n",
       "      <th></th>\n",
       "      <th>one</th>\n",
       "      <th>two</th>\n",
       "      <th>three</th>\n",
       "    </tr>\n",
       "  </thead>\n",
       "  <tbody>\n",
       "    <tr>\n",
       "      <th>a</th>\n",
       "      <td>0.0</td>\n",
       "      <td>NaN</td>\n",
       "      <td>1.0</td>\n",
       "    </tr>\n",
       "    <tr>\n",
       "      <th>b</th>\n",
       "      <td>1.0</td>\n",
       "      <td>1.0</td>\n",
       "      <td>NaN</td>\n",
       "    </tr>\n",
       "    <tr>\n",
       "      <th>c</th>\n",
       "      <td>2.0</td>\n",
       "      <td>2.0</td>\n",
       "      <td>2.0</td>\n",
       "    </tr>\n",
       "    <tr>\n",
       "      <th>d</th>\n",
       "      <td>NaN</td>\n",
       "      <td>0.0</td>\n",
       "      <td>NaN</td>\n",
       "    </tr>\n",
       "    <tr>\n",
       "      <th>e</th>\n",
       "      <td>NaN</td>\n",
       "      <td>3.0</td>\n",
       "      <td>NaN</td>\n",
       "    </tr>\n",
       "    <tr>\n",
       "      <th>f</th>\n",
       "      <td>NaN</td>\n",
       "      <td>NaN</td>\n",
       "      <td>0.0</td>\n",
       "    </tr>\n",
       "  </tbody>\n",
       "</table>\n",
       "</div>"
      ],
      "text/plain": [
       "   one  two  three\n",
       "a  0.0  NaN    1.0\n",
       "b  1.0  1.0    NaN\n",
       "c  2.0  2.0    2.0\n",
       "d  NaN  0.0    NaN\n",
       "e  NaN  3.0    NaN\n",
       "f  NaN  NaN    0.0"
      ]
     },
     "execution_count": 19,
     "metadata": {},
     "output_type": "execute_result"
    }
   ],
   "source": [
    "DataFrame({'one':s1, 'two': s2, 'three': s3})"
   ]
  },
  {
   "cell_type": "markdown",
   "metadata": {},
   "source": [
    "As you have seen earlier, you can of course specify explicitly the index of the result, discarding the rest of the data:"
   ]
  },
  {
   "cell_type": "code",
   "execution_count": 20,
   "metadata": {},
   "outputs": [
    {
     "data": {
      "text/html": [
       "<div>\n",
       "<style scoped>\n",
       "    .dataframe tbody tr th:only-of-type {\n",
       "        vertical-align: middle;\n",
       "    }\n",
       "\n",
       "    .dataframe tbody tr th {\n",
       "        vertical-align: top;\n",
       "    }\n",
       "\n",
       "    .dataframe thead th {\n",
       "        text-align: right;\n",
       "    }\n",
       "</style>\n",
       "<table border=\"1\" class=\"dataframe\">\n",
       "  <thead>\n",
       "    <tr style=\"text-align: right;\">\n",
       "      <th></th>\n",
       "      <th>one</th>\n",
       "      <th>two</th>\n",
       "      <th>three</th>\n",
       "    </tr>\n",
       "  </thead>\n",
       "  <tbody>\n",
       "    <tr>\n",
       "      <th>f</th>\n",
       "      <td>NaN</td>\n",
       "      <td>NaN</td>\n",
       "      <td>0.0</td>\n",
       "    </tr>\n",
       "    <tr>\n",
       "      <th>a</th>\n",
       "      <td>0.0</td>\n",
       "      <td>NaN</td>\n",
       "      <td>1.0</td>\n",
       "    </tr>\n",
       "    <tr>\n",
       "      <th>c</th>\n",
       "      <td>2.0</td>\n",
       "      <td>2.0</td>\n",
       "      <td>2.0</td>\n",
       "    </tr>\n",
       "    <tr>\n",
       "      <th>e</th>\n",
       "      <td>NaN</td>\n",
       "      <td>3.0</td>\n",
       "      <td>NaN</td>\n",
       "    </tr>\n",
       "  </tbody>\n",
       "</table>\n",
       "</div>"
      ],
      "text/plain": [
       "   one  two  three\n",
       "f  NaN  NaN    0.0\n",
       "a  0.0  NaN    1.0\n",
       "c  2.0  2.0    2.0\n",
       "e  NaN  3.0    NaN"
      ]
     },
     "execution_count": 20,
     "metadata": {},
     "output_type": "execute_result"
    }
   ],
   "source": [
    "DataFrame({'one':s1, 'two': s2, 'three': s3}, index = list('face'))"
   ]
  }
 ],
 "metadata": {
  "kernelspec": {
   "display_name": "Python 3.10.7 64-bit (microsoft store)",
   "language": "python",
   "name": "python3"
  },
  "language_info": {
   "codemirror_mode": {
    "name": "ipython",
    "version": 3
   },
   "file_extension": ".py",
   "mimetype": "text/x-python",
   "name": "python",
   "nbconvert_exporter": "python",
   "pygments_lexer": "ipython3",
   "version": "3.10.7"
  },
  "orig_nbformat": 4,
  "vscode": {
   "interpreter": {
    "hash": "ffea71f7b71092eabe4cd0b8ca5f97eab7e23656a5f6413a198e81db1d0ce6b2"
   }
  }
 },
 "nbformat": 4,
 "nbformat_minor": 2
}

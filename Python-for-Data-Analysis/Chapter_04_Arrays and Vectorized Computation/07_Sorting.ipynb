{
 "cells": [
  {
   "cell_type": "markdown",
   "metadata": {},
   "source": [
    "## Sorting\n",
    "\n",
    "Like Python’s built-in list type, NumPy arrays can be sorted in-place using the sort method:"
   ]
  },
  {
   "cell_type": "code",
   "execution_count": 1,
   "metadata": {},
   "outputs": [],
   "source": [
    "import numpy as np\n",
    "from numpy import random"
   ]
  },
  {
   "cell_type": "code",
   "execution_count": 54,
   "metadata": {},
   "outputs": [
    {
     "data": {
      "text/plain": [
       "array([-1.13199694, -0.05304625,  0.21395881,  0.01674246,  1.49218603,\n",
       "       -0.04150519,  0.24443328,  1.3119543 ,  0.09854913, -1.02337609,\n",
       "       -0.28195458,  1.69227297,  0.84276198,  0.42955094,  0.40510425,\n",
       "       -1.17803258, -0.62970462,  0.03406009,  2.15553193, -0.45198914])"
      ]
     },
     "execution_count": 54,
     "metadata": {},
     "output_type": "execute_result"
    }
   ],
   "source": [
    "arr = random.randn(20)\n",
    "\n",
    "np.array(arr, dtype=np.float64)"
   ]
  },
  {
   "cell_type": "code",
   "execution_count": 59,
   "metadata": {},
   "outputs": [
    {
     "data": {
      "text/plain": [
       "array([-1.17803258, -1.13199694, -1.02337609, -0.62970462, -0.45198914,\n",
       "       -0.28195458, -0.05304625, -0.04150519,  0.01674246,  0.03406009,\n",
       "        0.09854913,  0.21395881,  0.24443328,  0.40510425,  0.42955094,\n",
       "        0.84276198,  1.3119543 ,  1.49218603,  1.69227297,  2.15553193])"
      ]
     },
     "execution_count": 59,
     "metadata": {},
     "output_type": "execute_result"
    }
   ],
   "source": [
    "arr.sort()\n",
    "\n",
    "arr"
   ]
  },
  {
   "cell_type": "markdown",
   "metadata": {},
   "source": [
    "Multidimensional arrays can have each 1D section of values sorted in-place along an axis by passing the axis number to sort:"
   ]
  },
  {
   "cell_type": "code",
   "execution_count": 77,
   "metadata": {},
   "outputs": [],
   "source": [
    "arr = random.randn(5,3)\n",
    "\n",
    "arr = arr *60"
   ]
  },
  {
   "cell_type": "code",
   "execution_count": 78,
   "metadata": {},
   "outputs": [
    {
     "data": {
      "text/plain": [
       "array([[-97.10446197, -92.73142859, -76.05020526],\n",
       "       [-51.1013867 ,   1.0674354 ,  30.92485023],\n",
       "       [-34.50997598,   6.60537475,  34.70590026],\n",
       "       [-19.75463375,  30.76029514,  82.1160877 ],\n",
       "       [-13.45396916,  43.55506604, 178.70938564]])"
      ]
     },
     "execution_count": 78,
     "metadata": {},
     "output_type": "execute_result"
    }
   ],
   "source": [
    "arr.sort(1), arr.sort(0)\n",
    "\n",
    "# Sorted on both axis\n",
    "\n",
    "arr"
   ]
  },
  {
   "cell_type": "code",
   "execution_count": 67,
   "metadata": {},
   "outputs": [
    {
     "data": {
      "text/plain": [
       "array([-0.68898848,  1.96542293, -2.18155117,  2.32142055, -1.12880548,\n",
       "        0.58855265, -0.12534573, -0.53181532, -0.4829804 , -0.61853033])"
      ]
     },
     "execution_count": 67,
     "metadata": {},
     "output_type": "execute_result"
    }
   ],
   "source": [
    "large_arr = random.randn(10000)\n",
    "\n",
    "large_arr[:10]"
   ]
  },
  {
   "cell_type": "code",
   "execution_count": 69,
   "metadata": {},
   "outputs": [
    {
     "data": {
      "text/plain": [
       "array([-3.83974549, -3.7193878 , -3.69472119, -3.42341941, -3.3528653 ,\n",
       "       -3.22341458, -3.16946589, -3.1543115 , -3.14735427, -3.06743991])"
      ]
     },
     "execution_count": 69,
     "metadata": {},
     "output_type": "execute_result"
    }
   ],
   "source": [
    "large_arr.sort()\n",
    "\n",
    "large_arr[:10]"
   ]
  },
  {
   "cell_type": "code",
   "execution_count": 70,
   "metadata": {},
   "outputs": [
    {
     "data": {
      "text/plain": [
       "-0.0169936412435058"
      ]
     },
     "execution_count": 70,
     "metadata": {},
     "output_type": "execute_result"
    }
   ],
   "source": [
    "large_arr[int(.5 *len(large_arr))] # 5% quantile"
   ]
  }
 ],
 "metadata": {
  "kernelspec": {
   "display_name": "Python 3.10.5 64-bit (windows store)",
   "language": "python",
   "name": "python3"
  },
  "language_info": {
   "codemirror_mode": {
    "name": "ipython",
    "version": 3
   },
   "file_extension": ".py",
   "mimetype": "text/x-python",
   "name": "python",
   "nbconvert_exporter": "python",
   "pygments_lexer": "ipython3",
   "version": "3.10.5"
  },
  "orig_nbformat": 4,
  "vscode": {
   "interpreter": {
    "hash": "ffea71f7b71092eabe4cd0b8ca5f97eab7e23656a5f6413a198e81db1d0ce6b2"
   }
  }
 },
 "nbformat": 4,
 "nbformat_minor": 2
}

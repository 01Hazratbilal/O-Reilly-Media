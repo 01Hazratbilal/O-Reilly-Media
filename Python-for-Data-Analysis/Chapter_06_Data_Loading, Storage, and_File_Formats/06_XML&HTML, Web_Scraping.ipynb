{
 "cells": [
  {
   "cell_type": "markdown",
   "metadata": {},
   "source": [
    "# XML and HTML: Web Scraping\n",
    "\n",
    "Python has many libraries for reading and writing data in the ubiquitous HTML and XML formats. lxml (http://lxml.de) is one that has consistently strong performance in parsing very large files. lxml has multiple programmer interfaces; first I’ll show using  lxml.html for HTML, then parse some XML using lxml.objectify."
   ]
  },
  {
   "cell_type": "markdown",
   "metadata": {},
   "source": [
    "Many websites make data available in HTML tables for viewing in a browser, but not downloadable as an easily machine-readable format like JSON, HTML, or XML. I noticed that this was the case with Yahoo! Finance’s stock options data. If you aren’t familiar with this data; options are derivative contracts giving you the right to buy (call option) or sell (put option) a company’s stock at some particular price (the strike) between now and some fixed point in the future (the expiry). People trade both call and put options across many strikes and expiries; this data can all be found together in tables on Yahoo! Finance."
   ]
  },
  {
   "cell_type": "markdown",
   "metadata": {},
   "source": [
    "> To get started, find the URL you want to extract data from, open it with urllib2 and parse the stream with lxml like so:"
   ]
  },
  {
   "cell_type": "code",
   "execution_count": 2,
   "metadata": {},
   "outputs": [],
   "source": [
    "from lxml.html import parse\n",
    "from urllib.request import Request, urlopen"
   ]
  },
  {
   "cell_type": "code",
   "execution_count": 3,
   "metadata": {},
   "outputs": [],
   "source": [
    "parsed = parse(urlopen('http://www.nytimes.com'))\n",
    "doc = parsed.getroot()"
   ]
  },
  {
   "cell_type": "markdown",
   "metadata": {},
   "source": [
    "Using this object, you can extract all HTML tags of a particular type, such as table tags containing the data of interest. As a simple motivating example, suppose you wanted to get a list of every URL linked to in the document; links are a tags in HTML. Using the document root’s findall method along with an XPath (a means of expressing “queries” on the document):"
   ]
  },
  {
   "cell_type": "code",
   "execution_count": 4,
   "metadata": {},
   "outputs": [
    {
     "data": {
      "text/plain": [
       "[<Element a at 0x1d8e42b7bf0>,\n",
       " <Element a at 0x1d8e42b7470>,\n",
       " <Element a at 0x1d8e42b76a0>,\n",
       " <Element a at 0x1d8e42b7e20>,\n",
       " <Element a at 0x1d8e42b7ce0>,\n",
       " <Element a at 0x1d8e42b7c90>,\n",
       " <Element a at 0x1d8e42b7c40>,\n",
       " <Element a at 0x1d8e42b7dd0>,\n",
       " <Element a at 0x1d8e42b7d30>,\n",
       " <Element a at 0x1d8e42b7330>,\n",
       " <Element a at 0x1d8e42b70b0>,\n",
       " <Element a at 0x1d8e42b72e0>,\n",
       " <Element a at 0x1d8e42b7010>,\n",
       " <Element a at 0x1d8e42b6fc0>,\n",
       " <Element a at 0x1d8e42b6f70>,\n",
       " <Element a at 0x1d8e42b7290>,\n",
       " <Element a at 0x1d8e42b7060>,\n",
       " <Element a at 0x1d8e42b6200>,\n",
       " <Element a at 0x1d8e42b6610>,\n",
       " <Element a at 0x1d8e42b6570>,\n",
       " <Element a at 0x1d8e42b65c0>,\n",
       " <Element a at 0x1d8e42b6de0>,\n",
       " <Element a at 0x1d8e42b73d0>,\n",
       " <Element a at 0x1d8e42b7380>,\n",
       " <Element a at 0x1d8e42b7420>,\n",
       " <Element a at 0x1d8e42b6bb0>,\n",
       " <Element a at 0x1d8e42b6ac0>,\n",
       " <Element a at 0x1d8e42b6b60>,\n",
       " <Element a at 0x1d8e42b69d0>,\n",
       " <Element a at 0x1d8e42b68e0>,\n",
       " <Element a at 0x1d8e42b6930>,\n",
       " <Element a at 0x1d8e42b6980>,\n",
       " <Element a at 0x1d8e42b6a70>,\n",
       " <Element a at 0x1d8e42b6b10>,\n",
       " <Element a at 0x1d8e42b6a20>,\n",
       " <Element a at 0x1d8e42b5940>,\n",
       " <Element a at 0x1d8e42b6890>,\n",
       " <Element a at 0x1d8e42b67a0>,\n",
       " <Element a at 0x1d8e42b6840>,\n",
       " <Element a at 0x1d8e42b6700>,\n",
       " <Element a at 0x1d8e42b66b0>,\n",
       " <Element a at 0x1d8e42b6660>,\n",
       " <Element a at 0x1d8e42b67f0>,\n",
       " <Element a at 0x1d8e42b6750>,\n",
       " <Element a at 0x1d8e4301850>,\n",
       " <Element a at 0x1d8e43017b0>,\n",
       " <Element a at 0x1d8e4301800>,\n",
       " <Element a at 0x1d8e4302890>,\n",
       " <Element a at 0x1d8e4302980>,\n",
       " <Element a at 0x1d8e43028e0>,\n",
       " <Element a at 0x1d8e4302930>,\n",
       " <Element a at 0x1d8e4301ee0>,\n",
       " <Element a at 0x1d8e4301f80>,\n",
       " <Element a at 0x1d8e4301f30>,\n",
       " <Element a at 0x1d8e4302020>,\n",
       " <Element a at 0x1d8e4302070>,\n",
       " <Element a at 0x1d8e4301fd0>,\n",
       " <Element a at 0x1d8e4300130>,\n",
       " <Element a at 0x1d8e4300220>,\n",
       " <Element a at 0x1d8e4300180>,\n",
       " <Element a at 0x1d8e43002c0>,\n",
       " <Element a at 0x1d8e4300310>,\n",
       " <Element a at 0x1d8e4300360>,\n",
       " <Element a at 0x1d8e43001d0>,\n",
       " <Element a at 0x1d8e4300270>,\n",
       " <Element a at 0x1d8e4300810>,\n",
       " <Element a at 0x1d8e43007c0>,\n",
       " <Element a at 0x1d8e4300450>,\n",
       " <Element a at 0x1d8e43003b0>,\n",
       " <Element a at 0x1d8e43004f0>,\n",
       " <Element a at 0x1d8e4300400>,\n",
       " <Element a at 0x1d8e4300590>,\n",
       " <Element a at 0x1d8e43005e0>,\n",
       " <Element a at 0x1d8e4300540>,\n",
       " <Element a at 0x1d8e43004a0>,\n",
       " <Element a at 0x1d8e4300770>,\n",
       " <Element a at 0x1d8e43008b0>,\n",
       " <Element a at 0x1d8e4300860>,\n",
       " <Element a at 0x1d8e4300950>,\n",
       " <Element a at 0x1d8e43015d0>,\n",
       " <Element a at 0x1d8e4300900>,\n",
       " <Element a at 0x1d8e43020c0>,\n",
       " <Element a at 0x1d8e43021b0>,\n",
       " <Element a at 0x1d8e4302110>,\n",
       " <Element a at 0x1d8e4302250>,\n",
       " <Element a at 0x1d8e43022a0>,\n",
       " <Element a at 0x1d8e43022f0>,\n",
       " <Element a at 0x1d8e4302160>,\n",
       " <Element a at 0x1d8e4302200>,\n",
       " <Element a at 0x1d8e4300720>,\n",
       " <Element a at 0x1d8e4300630>,\n",
       " <Element a at 0x1d8e43006d0>,\n",
       " <Element a at 0x1d8e4300680>,\n",
       " <Element a at 0x1d8e4300040>,\n",
       " <Element a at 0x1d8e43009a0>,\n",
       " <Element a at 0x1d8e4300090>,\n",
       " <Element a at 0x1d8e43000e0>,\n",
       " <Element a at 0x1d8e4302430>,\n",
       " <Element a at 0x1d8e4302340>,\n",
       " <Element a at 0x1d8e43023e0>,\n",
       " <Element a at 0x1d8e4302390>,\n",
       " <Element a at 0x1d8e4301c60>,\n",
       " <Element a at 0x1d8e4301d50>,\n",
       " <Element a at 0x1d8e4301cb0>,\n",
       " <Element a at 0x1d8e4301df0>,\n",
       " <Element a at 0x1d8e4301e40>,\n",
       " <Element a at 0x1d8e4301e90>,\n",
       " <Element a at 0x1d8e4301d00>,\n",
       " <Element a at 0x1d8e4301da0>,\n",
       " <Element a at 0x1d8e4302700>,\n",
       " <Element a at 0x1d8e43027a0>,\n",
       " <Element a at 0x1d8e4302750>,\n",
       " <Element a at 0x1d8e43027f0>,\n",
       " <Element a at 0x1d8e4302840>,\n",
       " <Element a at 0x1d8e4301620>,\n",
       " <Element a at 0x1d8e43016c0>,\n",
       " <Element a at 0x1d8e4301670>,\n",
       " <Element a at 0x1d8e4301710>,\n",
       " <Element a at 0x1d8e4301760>,\n",
       " <Element a at 0x1d8e4302480>,\n",
       " <Element a at 0x1d8e4302570>,\n",
       " <Element a at 0x1d8e43024d0>,\n",
       " <Element a at 0x1d8e4302610>,\n",
       " <Element a at 0x1d8e4302660>,\n",
       " <Element a at 0x1d8e43026b0>,\n",
       " <Element a at 0x1d8e4302520>,\n",
       " <Element a at 0x1d8e43025c0>,\n",
       " <Element a at 0x1d8e43018a0>,\n",
       " <Element a at 0x1d8e4301990>,\n",
       " <Element a at 0x1d8e43018f0>,\n",
       " <Element a at 0x1d8e4301a30>,\n",
       " <Element a at 0x1d8e4301a80>,\n",
       " <Element a at 0x1d8e4301ad0>,\n",
       " <Element a at 0x1d8e4301940>,\n",
       " <Element a at 0x1d8e43019e0>,\n",
       " <Element a at 0x1d8e4301c10>,\n",
       " <Element a at 0x1d8e4301b20>,\n",
       " <Element a at 0x1d8e4301bc0>,\n",
       " <Element a at 0x1d8e4301b70>,\n",
       " <Element a at 0x1d8e42eddf0>,\n",
       " <Element a at 0x1d8e42edd00>,\n",
       " <Element a at 0x1d8e42edd50>,\n",
       " <Element a at 0x1d8e42edda0>,\n",
       " <Element a at 0x1d8e42ec540>,\n",
       " <Element a at 0x1d8e42ec3b0>,\n",
       " <Element a at 0x1d8e42ec4a0>,\n",
       " <Element a at 0x1d8e42ec270>,\n",
       " <Element a at 0x1d8e42ec220>,\n",
       " <Element a at 0x1d8e42ed0d0>,\n",
       " <Element a at 0x1d8e42ed120>,\n",
       " <Element a at 0x1d8e42ed1c0>,\n",
       " <Element a at 0x1d8e42ec0e0>,\n",
       " <Element a at 0x1d8e42ec090>,\n",
       " <Element a at 0x1d8e42ec040>,\n",
       " <Element a at 0x1d8e42ece00>,\n",
       " <Element a at 0x1d8e42ec360>,\n",
       " <Element a at 0x1d8e42ed170>,\n",
       " <Element a at 0x1d8e42ec6d0>,\n",
       " <Element a at 0x1d8e42ece50>,\n",
       " <Element a at 0x1d8e42ecc70>,\n",
       " <Element a at 0x1d8e42efce0>,\n",
       " <Element a at 0x1d8e42efe70>,\n",
       " <Element a at 0x1d8e42efec0>,\n",
       " <Element a at 0x1d8e42eff10>,\n",
       " <Element a at 0x1d8e42effb0>,\n",
       " <Element a at 0x1d8e42eff60>,\n",
       " <Element a at 0x1d8e42ec720>,\n",
       " <Element a at 0x1d8e42ec770>,\n",
       " <Element a at 0x1d8e42eccc0>,\n",
       " <Element a at 0x1d8e4319300>,\n",
       " <Element a at 0x1d8e4319350>,\n",
       " <Element a at 0x1d8e43193a0>,\n",
       " <Element a at 0x1d8e4319620>]"
      ]
     },
     "execution_count": 4,
     "metadata": {},
     "output_type": "execute_result"
    }
   ],
   "source": [
    "link = doc.findall('.//a')\n",
    "\n",
    "link"
   ]
  },
  {
   "cell_type": "markdown",
   "metadata": {},
   "source": [
    "But these are objects representing HTML elements; to get the URL and link text you have to use each element’s get method (for the URL) and text_content method (for the display text):"
   ]
  },
  {
   "cell_type": "code",
   "execution_count": 5,
   "metadata": {},
   "outputs": [
    {
     "data": {
      "text/plain": [
       "<Element a at 0x1d8e42b7290>"
      ]
     },
     "execution_count": 5,
     "metadata": {},
     "output_type": "execute_result"
    }
   ],
   "source": [
    "lnk = link[15]\n",
    "\n",
    "lnk"
   ]
  },
  {
   "cell_type": "code",
   "execution_count": 6,
   "metadata": {},
   "outputs": [],
   "source": [
    "lnk.get('herf')"
   ]
  },
  {
   "cell_type": "code",
   "execution_count": 7,
   "metadata": {},
   "outputs": [
    {
     "data": {
      "text/plain": [
       "'Politics'"
      ]
     },
     "execution_count": 7,
     "metadata": {},
     "output_type": "execute_result"
    }
   ],
   "source": [
    "lnk.text_content()"
   ]
  },
  {
   "cell_type": "code",
   "execution_count": 8,
   "metadata": {},
   "outputs": [
    {
     "name": "stdout",
     "output_type": "stream",
     "text": [
      "Skip to content  \n",
      "Skip to site index  \n",
      "  \n",
      "U.S.  \n",
      "International  \n",
      "Canada  \n",
      "Español  \n",
      "中文  \n",
      "Log in  \n",
      "  \n",
      "Today’s Paper  \n",
      "  \n",
      "  \n",
      "World  \n",
      "U.S.  \n",
      "Politics  \n",
      "N.Y.  \n",
      "Business  \n",
      "Opinion  \n",
      "Tech  \n",
      "Science  \n",
      "Health  \n",
      "Sports  \n",
      "Arts  \n",
      "Books  \n",
      "Style  \n",
      "Food  \n",
      "Travel  \n",
      "Magazine  \n",
      "T Magazine  \n",
      "Real Estate  \n",
      "Video  \n",
      "World  \n",
      "U.S.  \n",
      "Politics  \n",
      "N.Y.  \n",
      "Business  \n",
      "Opinion  \n",
      "Tech  \n",
      "Science  \n",
      "Health  \n",
      "Sports  \n",
      "Arts  \n",
      "Books  \n",
      "Style  \n",
      "Food  \n",
      "Travel  \n",
      "Magazine  \n",
      "T Magazine  \n",
      "Real Estate  \n",
      "Video  \n",
      "Jan. 6 Panel After 8 Hearings: Where Will the Evidence Lead?Analysis: Comprehensive and compelling, the hearings on the Capitol riot laid out a powerful account of Donald Trump’s efforts to overturn the 2020 election.But it’s unclear if that will be enough to achieve the panel’s legal and political goals.Haiyun Jiang/The New York Times  \n",
      "Bannon Found Guilty of Contempt in Case Related to Capitol Riot InquirySteve Bannon is the first close aide to former President Trump to be convicted as a result of an investigation into the Jan. 6 attack.  \n",
      "Continue reading the main story  \n",
      "Russia-Ukraine War  \n",
      "Maps: Russia's Invasion  \n",
      "Photos  \n",
      "Ukraine’s War Dead  \n",
      "Attacks on Civilians  \n",
      "LIVERussian Strikes on Odesa Raise Doubts About Grain DealExplosions rocked the Ukrainian port city, an official said, less than 24 hours after Russia agreed to unblock grain shipments by sea. Follow updates.  \n",
      "Latest Photos From Ukraine  \n",
      "Russia and Ukraine’s grain deal was welcomed in parts of Africa, where soaring prices have exacerbated a food crisis.  \n",
      "Is the N.B.A. doing and saying enough about Brittney Griner’s detainment in Russia?  \n",
      "One Day in the Heat: What Cooling Off Looks Like in New YorkHow do you stay cool when the weather is so hot? The answers are as diverse as the city itself.  \n",
      "  \n",
      "How the Government Is Failing Americans Uprooted by CalamityClimate change is creating a growing class of displaced Americans, and the federal government is struggling to decide on how to help them.  \n",
      "Web Comics Are Bringing in New ReadersThe explosion of online, vertical-scroll comics has been driven by an audience that the industry had long overlooked: young, female readers.Rachel Smythe/Webtoon  \n",
      "The U.S. Needs to Keep Building Houses, Even if No One Wants to BuyRight now, builders have too many projects and not enough buyers. In the long term, Americans have the opposite problem: a housing shortage.Philip Cheung for The New York Times  \n",
      "Mario Draghi’s Fall Reverberates Beyond ItalyThe sudden end of the Italian prime minister’s tenure has raised concerns about the power of populist movements and their impact on opposing Russia.Andreas Solaro/Agence France-Presse, via Getty Images  \n",
      "The Coronavirus Pandemic  \n",
      "Map and Cases  \n",
      "How Novavax Vaccine Works  \n",
      "What to Know About BA.5  \n",
      "Covid Questions, Answered  \n",
      "Tracking the Coronavirus ›  \n",
      "United States ›\n",
      "\n",
      "  \n",
      "U.S. hot spots ›\n",
      "\t\t\t\t\t\n",
      "\t\t\t  \n",
      "Vaccinations ›\n",
      "\t\t\t\t\t\n",
      "\t\t\t  \n",
      "Global hot spots ›\n",
      "\t\t\t\t\t\n",
      "\t\t\t  \n",
      "Pa.  \n",
      "Ohio  \n",
      "Del.  \n",
      "W.Va.  \n",
      "County lookup  \n",
      "Pa.  \n",
      "Ohio  \n",
      "Del.  \n",
      "W.Va.  \n",
      "County lookup  \n",
      "Global vaccinations  \n",
      "After Roe, Pregnant Women With Cancer May Face Wrenching ChoicesUrgent questions have arisen about how the care of pregnant women with cancer could change in states where abortions are banned.Wassana Somsakorn/Alamy  \n",
      "The Weekender: Inside New York’s $25 Billion Airport OverhaulAlso in this edition: an exhibition on the tales told by Jewish delis, and overlooked treasures at five U.S. national parks.  \n",
      "Did you follow the news this week? Take our quiz.  \n",
      "Continue reading the main story  \n",
      "Mary Inhea Kang for The New York TimesLiz Holtzman Wants Another Crack at Congress, 50 Years LaterShe shattered glass ceilings, voted to impeach Richard Nixon and helped chase out Nazis. But can she overcome one more political hurdle: her age?  \n",
      "Is there any hope left for enjoying summer?  \n",
      "Pack the perfect beach cooler with these expert tips.  \n",
      "Opinion  \n",
      "Michelle GoldbergThe Myth of the Good Trump Official  \n",
      "Michelle CottleThe Good, the Bad and the Chicken on Jan. 6Jordan Gale for The New York Times  \n",
      "Jamelle BouieThere’s a Reason Trump Could Try to Overturn the Results of the 2020 Election  \n",
      "Jeremy KamilI’m a Virologist, and I’m Setting the Record Straight on Variants and Reinfections  \n",
      "Peter CoyChina Is Playing Hardball with Troubled Debtors. That’s Dangerous for All of Us.  \n",
      "Linda GreenhouseReligious Doctrine, Not the Constitution, Drove the Dobbs DecisionSophy Hollington  \n",
      "Eight Opinion Columnists Got Things Wrong, and They’re Telling You Why  \n",
      "We Are Retired Generals and Admirals. Trump’s Actions on Jan. 6 Were a Dereliction of Duty.  \n",
      "David BroderThe Future Is Italy, and It’s Bleak  \n",
      "Farhad ManjooI Feel Utterly Hopeless About American Climate Policy  \n",
      "David BrooksIs Life a Story or a Game?  \n",
      "Paul KrugmanWhy Republicans Are Having Gas Pains  \n",
      "Letters From Our ReadersAs a Mob Attacked the Capitol, Trump Stood By  \n",
      "‘The Ezra Klein Show’A Top Mental Health Expert on Where America Went Wrong  \n",
      "Paul KrugmanWhat’s the Matter With Italy?  \n",
      "Nancy GibbsPresident Biden Has Covid. Now What?  \n",
      "See more highlights from Monday.  \n",
      "See more highlights from Tuesday.  \n",
      "See more highlights from Wednesday.  \n",
      "See more highlights from Thursday.  \n",
      "Check out more late-night moments:  \n",
      "Trevor Noah Mocks Joe Biden for That Fist Bump  \n",
      "  \n",
      "Stephen Colbert Skewers Steve Bannon  \n",
      "  \n",
      "Continue reading the main story  \n",
      "Read the Watching NewsletterThis week’s recommendations include a thrilling cartoon, a bright Britcom and the return of “Blown Away.”  \n",
      "Listen to the ‘Modern Love Podcast’He considered himself a “toothfish,” curating his dating profile to hide the gaps in his teeth.  \n",
      "Read the On Soccer NewsletterDoes soccer still need the header?  \n",
      "Read the Climate Forward NewsletterWe explain how to keep people cool, including those most at risk, without cooking the planet.  \n",
      "In Japan, Abe Murder Suspect’s Grudge Against Unification Church Is FamiliarThe man accused of killing former prime minister Shinzo Abe said his mother’s church donations bankrupted his family. Others have similar stories.  \n",
      "Luxury Rental Buildings Take ‘Working From Home’ to the Next LevelDevelopers are adding professional office spaces to the list of amenities in some buildings in U.S. cities.  \n",
      "Like Much of the U.S., Biden Learns to Live With Virus RisksEarly on, President Biden was a leader in a bubble. But like many other Americans, he has loosened up in recent months.  \n",
      "For a Revered Art House Cinema, a Season of Off-Screen TurmoilThe Jacob Burns Film Center in Westchester, N.Y., has been roiled by the dismissal of one of its original leaders, who was accused of bullying.Karsten Moran for The New York Times  \n",
      "Wes Moore Wins Democratic Primary for Maryland Governor  \n",
      "Rare Case of Polio Prompts Alarm and Investigation in New York  \n",
      "2 Dead and 1 Missing After Flash Flooding in New Mexico  \n",
      "Baltimore Prosecutor Is Defeated in Democratic Primary Amid Legal Woes  \n",
      "Executors of Jeffrey Epstein’s Estate Are Accused of Moving $13 Million  \n",
      "Sydney McLaughlin Sets Another World Record at Track Championships  \n",
      "Jail Officer Charged in Killing Claims Toy Pellets Felt Like Glass Shards  \n",
      "Logan R. Cyrus for The New York TimesA 30-Minute Swim Workout for Beginners  \n",
      "Aaron Wojack for The New York TimesThe Reluctant Rider’s Guide to Biking  \n",
      "Gracia LamThe Secret to Good Health May Be a Walk in the Park  \n",
      "Erik CarterBreaking Up With Peloton  \n",
      "Melody Melamed for The New York TimesIce for Sore Muscles? Think Again.  \n",
      "Continue reading the main story  \n",
      "HBONewman and Woodward, Mr. and Mrs. Movie StarEthan Hawke’s HBO Max documentary “The Last Movie Stars” explores the careers and fraught marriage of Paul Newman and Joanne Woodward, our critic writes.  \n",
      "Sean Kelly, Early National Lampoon Troublemaker, DiesHe helped set the magazine’s irreverent tone with his pitch-perfect parodies. He was 81.  \n",
      "‘Nope’ and the Story of ‘The Horse in Motion’Is the rider in the 19th-century photographic experiments really unknown, as Jordan Peele’s film implies? It’s complicated.  \n",
      "Review: A New Opera Tells an Original Story With an Open Heart“Castor and Patience,” a work by Gregory Spears and Tracy K. Smith with an intense yet relaxed score, premieres at Cincinnati Opera.  \n",
      "Billie Eilish Contemplates Distraction, and 10 More New SongsHear tracks by Flo Milli, Jessie Ware, Montell Fish and others.  \n",
      "Continue reading the main story  \n",
      "Spelling BeeHow many words can you make with 7 letters?  \n",
      "The CrosswordGet clued in with wordplay, every day.  \n",
      "Chess ReplayPlay historic chess games.  \n",
      "Letter BoxedCreate words using letters around the square.  \n",
      "TilesMatch visual elements and keep your chain going.  \n",
      "VertexConnect the dots to reveal the hidden picture.  \n",
      "© 2022 The New York Times Company  \n",
      "NYTCo  \n",
      "Contact Us  \n",
      "Accessibility  \n",
      "Work with us  \n",
      "Advertise  \n",
      "T Brand Studio  \n",
      "Your Ad Choices  \n",
      "Privacy Policy  \n",
      "Terms of Service  \n",
      "Terms of Sale  \n",
      "Site Map  \n",
      "Canada  \n",
      "International  \n",
      "Help  \n",
      "Subscriptions  \n"
     ]
    }
   ],
   "source": [
    "for i in range(len(link)):\n",
    "    v = link[i].text_content()\n",
    "\n",
    "    print(v, \" \")"
   ]
  },
  {
   "cell_type": "markdown",
   "metadata": {},
   "source": [
    "hus, getting a list of all URLs in the document is a matter of writing this list comprehension:"
   ]
  },
  {
   "cell_type": "code",
   "execution_count": 9,
   "metadata": {},
   "outputs": [
    {
     "data": {
      "text/plain": [
       "[None,\n",
       " None,\n",
       " None,\n",
       " None,\n",
       " None,\n",
       " None,\n",
       " None,\n",
       " None,\n",
       " None,\n",
       " None,\n",
       " None,\n",
       " None,\n",
       " None,\n",
       " None,\n",
       " None,\n",
       " None,\n",
       " None,\n",
       " None,\n",
       " None,\n",
       " None,\n",
       " None,\n",
       " None,\n",
       " None,\n",
       " None,\n",
       " None,\n",
       " None,\n",
       " None,\n",
       " None,\n",
       " None,\n",
       " None,\n",
       " None,\n",
       " None,\n",
       " None,\n",
       " None,\n",
       " None,\n",
       " None,\n",
       " None,\n",
       " None,\n",
       " None,\n",
       " None,\n",
       " None,\n",
       " None,\n",
       " None,\n",
       " None,\n",
       " None,\n",
       " None,\n",
       " None,\n",
       " None,\n",
       " None,\n",
       " None,\n",
       " None,\n",
       " None,\n",
       " None,\n",
       " None,\n",
       " None,\n",
       " None,\n",
       " None,\n",
       " None,\n",
       " None,\n",
       " None,\n",
       " None,\n",
       " None,\n",
       " None,\n",
       " None,\n",
       " None,\n",
       " None,\n",
       " None,\n",
       " None,\n",
       " None,\n",
       " None,\n",
       " None,\n",
       " None,\n",
       " None,\n",
       " None,\n",
       " None,\n",
       " None,\n",
       " None,\n",
       " None,\n",
       " None,\n",
       " None,\n",
       " None,\n",
       " None,\n",
       " None,\n",
       " None,\n",
       " None,\n",
       " None,\n",
       " None,\n",
       " None,\n",
       " None,\n",
       " None,\n",
       " None,\n",
       " None,\n",
       " None,\n",
       " None,\n",
       " None,\n",
       " None,\n",
       " None,\n",
       " None,\n",
       " None,\n",
       " None,\n",
       " None,\n",
       " None,\n",
       " None,\n",
       " None,\n",
       " None,\n",
       " None,\n",
       " None,\n",
       " None,\n",
       " None,\n",
       " None,\n",
       " None,\n",
       " None,\n",
       " None,\n",
       " None,\n",
       " None,\n",
       " None,\n",
       " None,\n",
       " None,\n",
       " None,\n",
       " None,\n",
       " None,\n",
       " None,\n",
       " None,\n",
       " None,\n",
       " None,\n",
       " None,\n",
       " None,\n",
       " None,\n",
       " None,\n",
       " None,\n",
       " None,\n",
       " None,\n",
       " None,\n",
       " None,\n",
       " None,\n",
       " None,\n",
       " None,\n",
       " None,\n",
       " None,\n",
       " None,\n",
       " None,\n",
       " None,\n",
       " None,\n",
       " None,\n",
       " None,\n",
       " None,\n",
       " None,\n",
       " None,\n",
       " None,\n",
       " None,\n",
       " None,\n",
       " None,\n",
       " None,\n",
       " None,\n",
       " None,\n",
       " None,\n",
       " None,\n",
       " None,\n",
       " None,\n",
       " None,\n",
       " None,\n",
       " None,\n",
       " None,\n",
       " None,\n",
       " None,\n",
       " None,\n",
       " None,\n",
       " None,\n",
       " None,\n",
       " None,\n",
       " None,\n",
       " None,\n",
       " None]"
      ]
     },
     "execution_count": 9,
     "metadata": {},
     "output_type": "execute_result"
    }
   ],
   "source": [
    "urls = [lnk.get('herf') for lnk in doc.findall('.//a')]\n",
    "\n",
    "\n",
    "urls"
   ]
  },
  {
   "cell_type": "markdown",
   "metadata": {},
   "source": [
    "Now, finding the right tables in the document can be a matter of trial and error; some websites make it easier by giving a table of interest an id attribute. I determined that these were the two tables containing the call data and put data, respectively:"
   ]
  },
  {
   "cell_type": "code",
   "execution_count": 10,
   "metadata": {},
   "outputs": [],
   "source": [
    "tables = doc.findall('.//table')\n",
    "calls = tables[0]\n",
    "puts = tables[0]"
   ]
  },
  {
   "cell_type": "markdown",
   "metadata": {},
   "source": [
    "Each table has a header row followed by each of the data rows:"
   ]
  },
  {
   "cell_type": "code",
   "execution_count": 11,
   "metadata": {},
   "outputs": [
    {
     "data": {
      "text/plain": [
       "[<Element tr at 0x1d8e431afc0>,\n",
       " <Element tr at 0x1d8e431b010>,\n",
       " <Element tr at 0x1d8e431b060>,\n",
       " <Element tr at 0x1d8e431b0b0>]"
      ]
     },
     "execution_count": 11,
     "metadata": {},
     "output_type": "execute_result"
    }
   ],
   "source": [
    "rows = calls.findall('.//tr')\n",
    "rows"
   ]
  },
  {
   "cell_type": "markdown",
   "metadata": {},
   "source": [
    "For the header as well as the data rows, we want to extract the text from each cell; in the case of the header these are th cells and td cells for the data:"
   ]
  },
  {
   "cell_type": "code",
   "execution_count": 12,
   "metadata": {},
   "outputs": [],
   "source": [
    "def unpack(row, kind = 'td'):\n",
    "    elts = row.findall('.//%s' % kind)\n",
    "    return [val.text_content() for val in elts]"
   ]
  },
  {
   "cell_type": "code",
   "execution_count": 14,
   "metadata": {},
   "outputs": [
    {
     "data": {
      "text/plain": [
       "['United States\\xa0›', 'United StatesAvg. on Jul. 22', '14-day change']"
      ]
     },
     "execution_count": 14,
     "metadata": {},
     "output_type": "execute_result"
    }
   ],
   "source": [
    "unpack(rows[0], kind = 'th')"
   ]
  },
  {
   "cell_type": "markdown",
   "metadata": {},
   "source": [
    "Now, it’s a matter of combining all of these steps together to convert this data into a DataFrame. Since the numerical data is still in string format, we want to convert some, but perhaps not all of the columns to floating point format. You could do this by hand, but, luckily, pandas has a class TextParser that is used internally in the read_csv and other parsing functions to do the appropriate automatic type conversion:"
   ]
  },
  {
   "cell_type": "code",
   "execution_count": 15,
   "metadata": {},
   "outputs": [],
   "source": [
    "from pandas.io.parsers import TextParser"
   ]
  },
  {
   "cell_type": "code",
   "execution_count": 16,
   "metadata": {},
   "outputs": [],
   "source": [
    "def parse_options_data(table):\n",
    " rows = table.findall('.//tr')\n",
    " header = unpack(rows[0], kind='th')\n",
    " data = [unpack(r) for r in rows[1:]]\n",
    " return TextParser(data, names=header).get_chunk()"
   ]
  },
  {
   "cell_type": "markdown",
   "metadata": {},
   "source": [
    "Finally, we invoke this parsing function on the lxml table objects and get DataFrame results:"
   ]
  },
  {
   "cell_type": "code",
   "execution_count": 17,
   "metadata": {},
   "outputs": [],
   "source": [
    "call_data = parse_options_data(calls)\n",
    "put_data = parse_options_data(puts)"
   ]
  },
  {
   "cell_type": "code",
   "execution_count": 18,
   "metadata": {},
   "outputs": [
    {
     "data": {
      "text/html": [
       "<div>\n",
       "<style scoped>\n",
       "    .dataframe tbody tr th:only-of-type {\n",
       "        vertical-align: middle;\n",
       "    }\n",
       "\n",
       "    .dataframe tbody tr th {\n",
       "        vertical-align: top;\n",
       "    }\n",
       "\n",
       "    .dataframe thead th {\n",
       "        text-align: right;\n",
       "    }\n",
       "</style>\n",
       "<table border=\"1\" class=\"dataframe\">\n",
       "  <thead>\n",
       "    <tr style=\"text-align: right;\">\n",
       "      <th></th>\n",
       "      <th>United States ›</th>\n",
       "      <th>United StatesAvg. on Jul. 22</th>\n",
       "      <th>14-day change</th>\n",
       "    </tr>\n",
       "  </thead>\n",
       "  <tbody>\n",
       "    <tr>\n",
       "      <th>New cases</th>\n",
       "      <td>127,569</td>\n",
       "      <td>+18%</td>\n",
       "      <td>NaN</td>\n",
       "    </tr>\n",
       "    <tr>\n",
       "      <th>Hospitalized</th>\n",
       "      <td>42,710</td>\n",
       "      <td>+17%</td>\n",
       "      <td>NaN</td>\n",
       "    </tr>\n",
       "    <tr>\n",
       "      <th>New deaths</th>\n",
       "      <td>444</td>\n",
       "      <td>+38%</td>\n",
       "      <td>NaN</td>\n",
       "    </tr>\n",
       "  </tbody>\n",
       "</table>\n",
       "</div>"
      ],
      "text/plain": [
       "             United States › United StatesAvg. on Jul. 22  14-day change\n",
       "New cases            127,569                         +18%            NaN\n",
       "Hospitalized          42,710                         +17%            NaN\n",
       "New deaths               444                         +38%            NaN"
      ]
     },
     "execution_count": 18,
     "metadata": {},
     "output_type": "execute_result"
    }
   ],
   "source": [
    "call_data[:10]"
   ]
  },
  {
   "cell_type": "markdown",
   "metadata": {},
   "source": [
    "# Parsing XML with lxml.objectify\n",
    "\n",
    "XML (extensible markup language) is another common structured data format supporting hierarchical, nested data with metadata. The files that generate the book you are reading actually form a series of large XML documents.\n",
    "\n",
    "Above, I showed the lxml library and its lxml.html interface. Here I show an alternate interface that’s convenient for XML data, lxml.objectify."
   ]
  },
  {
   "cell_type": "markdown",
   "metadata": {},
   "source": [
    "Using lxml.objectify, we parse the file and get a reference to the root node of the XML file with getroot"
   ]
  },
  {
   "cell_type": "code",
   "execution_count": 25,
   "metadata": {},
   "outputs": [],
   "source": [
    "from lxml import objectify\n",
    "from pandas import DataFrame"
   ]
  },
  {
   "cell_type": "code",
   "execution_count": 22,
   "metadata": {},
   "outputs": [],
   "source": [
    "path = '../../CSV Files/O_Reilly/ch06/Performance_MNR.xml'\n",
    "parsed = objectify.parse(open(path))\n",
    "root = parsed.getroot()"
   ]
  },
  {
   "cell_type": "markdown",
   "metadata": {},
   "source": [
    "root.INDICATOR return a generator yielding each INDICATOR XML element. For each record, we can populate a dict of tag names (like YTD_ACTUAL) to data values (excluding a few tags):"
   ]
  },
  {
   "cell_type": "code",
   "execution_count": 24,
   "metadata": {},
   "outputs": [],
   "source": [
    "data = []\n",
    "\n",
    "skip_fields = ['PARENT_SEQ', 'INDICATOR_SEQ',\n",
    "                'DESIRED_CHANGE', 'DECIMAL_PLACES']\n",
    "\n",
    "for elt in root:\n",
    " el_data = {}\n",
    " for child in elt.getchildren():\n",
    "    if child.tag in skip_fields:\n",
    "        continue\n",
    "    el_data[child.tag] = child.pyval\n",
    " data.append(el_data)"
   ]
  },
  {
   "cell_type": "markdown",
   "metadata": {},
   "source": [
    "Lastly, convert this list of dicts into a DataFrame:"
   ]
  },
  {
   "cell_type": "code",
   "execution_count": 26,
   "metadata": {},
   "outputs": [
    {
     "data": {
      "text/html": [
       "<div>\n",
       "<style scoped>\n",
       "    .dataframe tbody tr th:only-of-type {\n",
       "        vertical-align: middle;\n",
       "    }\n",
       "\n",
       "    .dataframe tbody tr th {\n",
       "        vertical-align: top;\n",
       "    }\n",
       "\n",
       "    .dataframe thead th {\n",
       "        text-align: right;\n",
       "    }\n",
       "</style>\n",
       "<table border=\"1\" class=\"dataframe\">\n",
       "  <thead>\n",
       "    <tr style=\"text-align: right;\">\n",
       "      <th></th>\n",
       "      <th>AGENCY_NAME</th>\n",
       "      <th>INDICATOR_NAME</th>\n",
       "      <th>DESCRIPTION</th>\n",
       "      <th>PERIOD_YEAR</th>\n",
       "      <th>PERIOD_MONTH</th>\n",
       "      <th>CATEGORY</th>\n",
       "      <th>FREQUENCY</th>\n",
       "      <th>INDICATOR_UNIT</th>\n",
       "      <th>YTD_TARGET</th>\n",
       "      <th>YTD_ACTUAL</th>\n",
       "      <th>MONTHLY_TARGET</th>\n",
       "      <th>MONTHLY_ACTUAL</th>\n",
       "    </tr>\n",
       "  </thead>\n",
       "  <tbody>\n",
       "    <tr>\n",
       "      <th>0</th>\n",
       "      <td>Metro-North Railroad</td>\n",
       "      <td>Escalator Availability</td>\n",
       "      <td>Percent of the time that escalators are operat...</td>\n",
       "      <td>2011</td>\n",
       "      <td>12</td>\n",
       "      <td>Service Indicators</td>\n",
       "      <td>M</td>\n",
       "      <td>%</td>\n",
       "      <td>97.0</td>\n",
       "      <td></td>\n",
       "      <td>97.0</td>\n",
       "      <td></td>\n",
       "    </tr>\n",
       "  </tbody>\n",
       "</table>\n",
       "</div>"
      ],
      "text/plain": [
       "            AGENCY_NAME          INDICATOR_NAME  \\\n",
       "0  Metro-North Railroad  Escalator Availability   \n",
       "\n",
       "                                         DESCRIPTION  PERIOD_YEAR  \\\n",
       "0  Percent of the time that escalators are operat...         2011   \n",
       "\n",
       "   PERIOD_MONTH            CATEGORY FREQUENCY INDICATOR_UNIT  YTD_TARGET  \\\n",
       "0            12  Service Indicators         M              %        97.0   \n",
       "\n",
       "  YTD_ACTUAL  MONTHLY_TARGET MONTHLY_ACTUAL  \n",
       "0                       97.0                 "
      ]
     },
     "execution_count": 26,
     "metadata": {},
     "output_type": "execute_result"
    }
   ],
   "source": [
    "perf = DataFrame(data)\n",
    "\n",
    "perf"
   ]
  },
  {
   "cell_type": "markdown",
   "metadata": {},
   "source": [
    "ML data can get much more complicated than this example. Each tag can have metadata, too. Consider an HTML link tag which is also valid XML:"
   ]
  },
  {
   "cell_type": "code",
   "execution_count": 28,
   "metadata": {},
   "outputs": [],
   "source": [
    "from io import StringIO\n",
    "tag = '<a href=\"http://www.google.com\">Google</a>'\n",
    "\n",
    "root = objectify.parse(StringIO(tag)).getroot()"
   ]
  },
  {
   "cell_type": "markdown",
   "metadata": {},
   "source": [
    "You can now access any of the fields (like href) in the tag or the link text:"
   ]
  },
  {
   "cell_type": "code",
   "execution_count": 29,
   "metadata": {},
   "outputs": [
    {
     "data": {
      "text/plain": [
       "<Element a at 0x1d8eba331c0>"
      ]
     },
     "execution_count": 29,
     "metadata": {},
     "output_type": "execute_result"
    }
   ],
   "source": [
    "root"
   ]
  },
  {
   "cell_type": "code",
   "execution_count": 30,
   "metadata": {},
   "outputs": [],
   "source": [
    "root.get('herf')"
   ]
  },
  {
   "cell_type": "code",
   "execution_count": 32,
   "metadata": {},
   "outputs": [
    {
     "data": {
      "text/plain": [
       "'Google'"
      ]
     },
     "execution_count": 32,
     "metadata": {},
     "output_type": "execute_result"
    }
   ],
   "source": [
    "root.text"
   ]
  }
 ],
 "metadata": {
  "kernelspec": {
   "display_name": "Python 3.10.5 64-bit (windows store)",
   "language": "python",
   "name": "python3"
  },
  "language_info": {
   "codemirror_mode": {
    "name": "ipython",
    "version": 3
   },
   "file_extension": ".py",
   "mimetype": "text/x-python",
   "name": "python",
   "nbconvert_exporter": "python",
   "pygments_lexer": "ipython3",
   "version": "3.10.5"
  },
  "orig_nbformat": 4,
  "vscode": {
   "interpreter": {
    "hash": "ffea71f7b71092eabe4cd0b8ca5f97eab7e23656a5f6413a198e81db1d0ce6b2"
   }
  }
 },
 "nbformat": 4,
 "nbformat_minor": 2
}

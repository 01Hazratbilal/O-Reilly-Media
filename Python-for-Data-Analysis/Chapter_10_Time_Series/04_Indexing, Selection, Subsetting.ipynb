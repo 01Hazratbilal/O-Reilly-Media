{
 "cells": [
  {
   "cell_type": "markdown",
   "metadata": {},
   "source": [
    "# Indexing, Selection, Subsetting\n",
    "\n",
    "TimeSeries is a sbuclass of Series and thus behaves in the same way with regard to indexing and selecting data based in label:"
   ]
  },
  {
   "cell_type": "code",
   "execution_count": 1,
   "metadata": {},
   "outputs": [],
   "source": [
    "from datetime import datetime\n",
    "import numpy as np\n",
    "import pandas as pd\n",
    "from pandas import DataFrame, Series"
   ]
  },
  {
   "cell_type": "code",
   "execution_count": 2,
   "metadata": {},
   "outputs": [],
   "source": [
    "dates = [datetime(2011, 1, 2), datetime(2011, 1, 5), datetime(2011, 1, 7),\n",
    "        datetime(2011, 1, 8), datetime(2011, 1, 10), datetime(2011, 1, 12)]"
   ]
  },
  {
   "cell_type": "code",
   "execution_count": 5,
   "metadata": {},
   "outputs": [],
   "source": [
    "ts = Series(np.arange(6), index = dates)"
   ]
  },
  {
   "cell_type": "code",
   "execution_count": 7,
   "metadata": {},
   "outputs": [
    {
     "data": {
      "text/plain": [
       "2"
      ]
     },
     "execution_count": 7,
     "metadata": {},
     "output_type": "execute_result"
    }
   ],
   "source": [
    "stamp = ts.index[2]\n",
    "\n",
    "ts[stamp]"
   ]
  },
  {
   "cell_type": "markdown",
   "metadata": {},
   "source": [
    "As a convenience, you can also pass a string that is interpretable as a date:"
   ]
  },
  {
   "cell_type": "code",
   "execution_count": 12,
   "metadata": {},
   "outputs": [
    {
     "data": {
      "text/plain": [
       "(4, 4)"
      ]
     },
     "execution_count": 12,
     "metadata": {},
     "output_type": "execute_result"
    }
   ],
   "source": [
    "ts['1/10/2011'], ts['20110110']"
   ]
  },
  {
   "cell_type": "markdown",
   "metadata": {},
   "source": [
    "For longer time series, a year or only a year and month can be passed to easily selet slices of data:"
   ]
  },
  {
   "cell_type": "code",
   "execution_count": 15,
   "metadata": {},
   "outputs": [],
   "source": [
    "longer_ts = Series(np.random.randn(1000),\n",
    "                index = pd.date_range('1/1/2000', periods = 1000))"
   ]
  },
  {
   "cell_type": "code",
   "execution_count": 16,
   "metadata": {},
   "outputs": [
    {
     "data": {
      "text/plain": [
       "2000-01-01    0.402672\n",
       "2000-01-02    1.410485\n",
       "2000-01-03    0.953895\n",
       "2000-01-04   -0.576692\n",
       "2000-01-05    0.104537\n",
       "                ...   \n",
       "2002-09-22   -0.471728\n",
       "2002-09-23   -0.417972\n",
       "2002-09-24    0.113356\n",
       "2002-09-25    0.377913\n",
       "2002-09-26   -0.138039\n",
       "Freq: D, Length: 1000, dtype: float64"
      ]
     },
     "execution_count": 16,
     "metadata": {},
     "output_type": "execute_result"
    }
   ],
   "source": [
    "longer_ts"
   ]
  },
  {
   "cell_type": "code",
   "execution_count": 17,
   "metadata": {},
   "outputs": [
    {
     "data": {
      "text/plain": [
       "(2001-01-01    0.269884\n",
       " 2001-01-02    0.217753\n",
       " 2001-01-03   -0.996793\n",
       " 2001-01-04   -2.995544\n",
       " 2001-01-05   -0.238005\n",
       "                 ...   \n",
       " 2001-12-27   -1.038909\n",
       " 2001-12-28   -1.723215\n",
       " 2001-12-29    0.259803\n",
       " 2001-12-30    0.017401\n",
       " 2001-12-31    0.445740\n",
       " Freq: D, Length: 365, dtype: float64,\n",
       " 2001-05-01    0.582064\n",
       " 2001-05-02    1.115155\n",
       " 2001-05-03   -1.285084\n",
       " 2001-05-04   -1.141618\n",
       " 2001-05-05    0.761272\n",
       " 2001-05-06   -0.137796\n",
       " 2001-05-07    0.195033\n",
       " 2001-05-08   -0.679612\n",
       " 2001-05-09    0.233599\n",
       " 2001-05-10    0.472539\n",
       " 2001-05-11    0.917074\n",
       " 2001-05-12   -0.521201\n",
       " 2001-05-13    0.489207\n",
       " 2001-05-14   -1.517220\n",
       " 2001-05-15   -1.254942\n",
       " 2001-05-16    0.493229\n",
       " 2001-05-17   -0.167290\n",
       " 2001-05-18   -1.795093\n",
       " 2001-05-19   -0.174348\n",
       " 2001-05-20   -2.618196\n",
       " 2001-05-21   -1.324433\n",
       " 2001-05-22   -0.970721\n",
       " 2001-05-23   -0.703807\n",
       " 2001-05-24   -0.523259\n",
       " 2001-05-25   -1.503593\n",
       " 2001-05-26    0.902467\n",
       " 2001-05-27    0.693617\n",
       " 2001-05-28   -2.685334\n",
       " 2001-05-29   -0.045765\n",
       " 2001-05-30   -2.289499\n",
       " 2001-05-31    0.101861\n",
       " Freq: D, dtype: float64,\n",
       " 0.5820644504926086)"
      ]
     },
     "execution_count": 17,
     "metadata": {},
     "output_type": "execute_result"
    }
   ],
   "source": [
    "longer_ts['2001'], longer_ts['2001/05'], longer_ts['2001-05-01']"
   ]
  },
  {
   "cell_type": "markdown",
   "metadata": {},
   "source": [
    "Slicing with dates works just like with a regular Series:"
   ]
  },
  {
   "cell_type": "code",
   "execution_count": 19,
   "metadata": {},
   "outputs": [
    {
     "data": {
      "text/plain": [
       "2011-01-05    1\n",
       "2011-01-07    2\n",
       "2011-01-08    3\n",
       "2011-01-10    4\n",
       "2011-01-12    5\n",
       "dtype: int32"
      ]
     },
     "execution_count": 19,
     "metadata": {},
     "output_type": "execute_result"
    }
   ],
   "source": [
    "ts[datetime(2011, 1, 3):]"
   ]
  },
  {
   "cell_type": "markdown",
   "metadata": {},
   "source": [
    "Because most time series data is ordared chronologically, you can slice with timestamps not contained in a time series to perform a range query:"
   ]
  },
  {
   "cell_type": "code",
   "execution_count": 21,
   "metadata": {},
   "outputs": [
    {
     "data": {
      "text/plain": [
       "(2011-01-02    0\n",
       " 2011-01-05    1\n",
       " 2011-01-07    2\n",
       " 2011-01-08    3\n",
       " 2011-01-10    4\n",
       " 2011-01-12    5\n",
       " dtype: int32,\n",
       " 2011-01-07    2\n",
       " 2011-01-08    3\n",
       " 2011-01-10    4\n",
       " dtype: int32)"
      ]
     },
     "execution_count": 21,
     "metadata": {},
     "output_type": "execute_result"
    }
   ],
   "source": [
    "ts, ts['1/06/2011': '1/11/2011']"
   ]
  },
  {
   "cell_type": "markdown",
   "metadata": {},
   "source": [
    "As before you can pass either a string date, datetime, or Timestamp. Remember that slicing in this manner produces views on the source time series just like slicing NumPy arrays. There is an equivalent instance method truncate which slices a TimeSeries between two dates:"
   ]
  },
  {
   "cell_type": "code",
   "execution_count": 22,
   "metadata": {},
   "outputs": [
    {
     "data": {
      "text/plain": [
       "2011-01-02    0\n",
       "2011-01-05    1\n",
       "2011-01-07    2\n",
       "2011-01-08    3\n",
       "dtype: int32"
      ]
     },
     "execution_count": 22,
     "metadata": {},
     "output_type": "execute_result"
    }
   ],
   "source": [
    "ts.truncate(after = '1/9/2011')"
   ]
  },
  {
   "cell_type": "markdown",
   "metadata": {},
   "source": [
    "All of the above holds true for DataFrame as well, indexing on its rows:"
   ]
  },
  {
   "cell_type": "code",
   "execution_count": 23,
   "metadata": {},
   "outputs": [],
   "source": [
    "dates = pd.date_range('1/1/2000', periods= 200, freq='W-WED')"
   ]
  },
  {
   "cell_type": "code",
   "execution_count": 26,
   "metadata": {},
   "outputs": [],
   "source": [
    "long_df = DataFrame(np.random.randn(200, 4),\n",
    "            index = dates,\n",
    "            columns = ['A', 'B', 'C', 'D'])"
   ]
  },
  {
   "cell_type": "code",
   "execution_count": 28,
   "metadata": {},
   "outputs": [
    {
     "data": {
      "text/html": [
       "<div>\n",
       "<style scoped>\n",
       "    .dataframe tbody tr th:only-of-type {\n",
       "        vertical-align: middle;\n",
       "    }\n",
       "\n",
       "    .dataframe tbody tr th {\n",
       "        vertical-align: top;\n",
       "    }\n",
       "\n",
       "    .dataframe thead th {\n",
       "        text-align: right;\n",
       "    }\n",
       "</style>\n",
       "<table border=\"1\" class=\"dataframe\">\n",
       "  <thead>\n",
       "    <tr style=\"text-align: right;\">\n",
       "      <th></th>\n",
       "      <th>A</th>\n",
       "      <th>B</th>\n",
       "      <th>C</th>\n",
       "      <th>D</th>\n",
       "    </tr>\n",
       "  </thead>\n",
       "  <tbody>\n",
       "    <tr>\n",
       "      <th>2001-05-02</th>\n",
       "      <td>-1.012030</td>\n",
       "      <td>1.072159</td>\n",
       "      <td>1.013872</td>\n",
       "      <td>0.700652</td>\n",
       "    </tr>\n",
       "    <tr>\n",
       "      <th>2001-05-09</th>\n",
       "      <td>-0.425584</td>\n",
       "      <td>-1.280605</td>\n",
       "      <td>-1.158004</td>\n",
       "      <td>-0.659768</td>\n",
       "    </tr>\n",
       "    <tr>\n",
       "      <th>2001-05-16</th>\n",
       "      <td>0.693483</td>\n",
       "      <td>0.111303</td>\n",
       "      <td>1.409487</td>\n",
       "      <td>-0.833265</td>\n",
       "    </tr>\n",
       "    <tr>\n",
       "      <th>2001-05-23</th>\n",
       "      <td>0.120371</td>\n",
       "      <td>-0.762161</td>\n",
       "      <td>0.061648</td>\n",
       "      <td>1.193289</td>\n",
       "    </tr>\n",
       "    <tr>\n",
       "      <th>2001-05-30</th>\n",
       "      <td>-0.247413</td>\n",
       "      <td>-0.741180</td>\n",
       "      <td>-0.564556</td>\n",
       "      <td>-0.775398</td>\n",
       "    </tr>\n",
       "  </tbody>\n",
       "</table>\n",
       "</div>"
      ],
      "text/plain": [
       "                   A         B         C         D\n",
       "2001-05-02 -1.012030  1.072159  1.013872  0.700652\n",
       "2001-05-09 -0.425584 -1.280605 -1.158004 -0.659768\n",
       "2001-05-16  0.693483  0.111303  1.409487 -0.833265\n",
       "2001-05-23  0.120371 -0.762161  0.061648  1.193289\n",
       "2001-05-30 -0.247413 -0.741180 -0.564556 -0.775398"
      ]
     },
     "execution_count": 28,
     "metadata": {},
     "output_type": "execute_result"
    }
   ],
   "source": [
    "long_df.loc['05-2001']"
   ]
  }
 ],
 "metadata": {
  "kernelspec": {
   "display_name": "Python 3.10.6 64-bit (windows store)",
   "language": "python",
   "name": "python3"
  },
  "language_info": {
   "codemirror_mode": {
    "name": "ipython",
    "version": 3
   },
   "file_extension": ".py",
   "mimetype": "text/x-python",
   "name": "python",
   "nbconvert_exporter": "python",
   "pygments_lexer": "ipython3",
   "version": "3.10.6"
  },
  "orig_nbformat": 4,
  "vscode": {
   "interpreter": {
    "hash": "ffea71f7b71092eabe4cd0b8ca5f97eab7e23656a5f6413a198e81db1d0ce6b2"
   }
  }
 },
 "nbformat": 4,
 "nbformat_minor": 2
}

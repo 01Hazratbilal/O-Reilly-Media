{
 "cells": [
  {
   "cell_type": "markdown",
   "metadata": {},
   "source": [
    "# Time Series Plotting\n",
    "\n",
    "Plots with pandas time series have improved date formatting compared with matplotlib out of the box. As an example:"
   ]
  },
  {
   "cell_type": "code",
   "execution_count": 1,
   "metadata": {},
   "outputs": [],
   "source": [
    "import pandas as pd\n",
    "import numpy as np\n",
    "from pandas import DataFrame, Series"
   ]
  },
  {
   "cell_type": "code",
   "execution_count": 2,
   "metadata": {},
   "outputs": [],
   "source": [
    "data = pd.read_csv('../../CSV Files/O_Reilly/ch09/stock_px.csv',\n",
    "            parse_dates=True, index_col=0)"
   ]
  },
  {
   "cell_type": "code",
   "execution_count": 3,
   "metadata": {},
   "outputs": [],
   "source": [
    "close_px = data[['AAPL', 'MSFT', 'XOM']]"
   ]
  },
  {
   "cell_type": "code",
   "execution_count": 4,
   "metadata": {},
   "outputs": [],
   "source": [
    "close_px = close_px.resample('B').agg('ffill')"
   ]
  },
  {
   "cell_type": "code",
   "execution_count": 5,
   "metadata": {},
   "outputs": [
    {
     "name": "stdout",
     "output_type": "stream",
     "text": [
      "<class 'pandas.core.frame.DataFrame'>\n",
      "DatetimeIndex: 2292 entries, 2003-01-02 to 2011-10-14\n",
      "Freq: B\n",
      "Data columns (total 3 columns):\n",
      " #   Column  Non-Null Count  Dtype  \n",
      "---  ------  --------------  -----  \n",
      " 0   AAPL    2292 non-null   float64\n",
      " 1   MSFT    2292 non-null   float64\n",
      " 2   XOM     2292 non-null   float64\n",
      "dtypes: float64(3)\n",
      "memory usage: 71.6 KB\n"
     ]
    }
   ],
   "source": [
    "close_px.info()"
   ]
  },
  {
   "cell_type": "markdown",
   "metadata": {},
   "source": [
    "Calling *plot* on one of the columns grenerates a simple plot:"
   ]
  },
  {
   "cell_type": "code",
   "execution_count": 6,
   "metadata": {},
   "outputs": [
    {
     "ename": "ImportError",
     "evalue": "matplotlib is required for plotting when the default backend \"matplotlib\" is selected.",
     "output_type": "error",
     "traceback": [
      "\u001b[1;31m---------------------------------------------------------------------------\u001b[0m",
      "\u001b[1;31mImportError\u001b[0m                               Traceback (most recent call last)",
      "Cell \u001b[1;32mIn [6], line 1\u001b[0m\n\u001b[1;32m----> 1\u001b[0m \u001b[43mclose_px\u001b[49m\u001b[43m[\u001b[49m\u001b[38;5;124;43m'\u001b[39;49m\u001b[38;5;124;43mAAPL\u001b[39;49m\u001b[38;5;124;43m'\u001b[39;49m\u001b[43m]\u001b[49m\u001b[38;5;241;43m.\u001b[39;49m\u001b[43mplot\u001b[49m\u001b[43m(\u001b[49m\u001b[43mcolor\u001b[49m\u001b[43m \u001b[49m\u001b[38;5;241;43m=\u001b[39;49m\u001b[43m \u001b[49m\u001b[38;5;124;43m'\u001b[39;49m\u001b[38;5;124;43mBlue\u001b[39;49m\u001b[38;5;124;43m'\u001b[39;49m\u001b[43m,\u001b[49m\u001b[43m \u001b[49m\u001b[43mgrid\u001b[49m\u001b[43m \u001b[49m\u001b[38;5;241;43m=\u001b[39;49m\u001b[43m \u001b[49m\u001b[38;5;28;43;01mTrue\u001b[39;49;00m\u001b[43m,\u001b[49m\u001b[43m \u001b[49m\u001b[43mlabel\u001b[49m\u001b[43m \u001b[49m\u001b[38;5;241;43m=\u001b[39;49m\u001b[43m \u001b[49m\u001b[38;5;124;43m'\u001b[39;49m\u001b[38;5;124;43mAAPL Daily Price\u001b[39;49m\u001b[38;5;124;43m'\u001b[39;49m\u001b[43m)\u001b[49m\n",
      "File \u001b[1;32m~\\AppData\\Local\\Packages\\PythonSoftwareFoundation.Python.3.10_qbz5n2kfra8p0\\LocalCache\\local-packages\\Python310\\site-packages\\pandas\\plotting\\_core.py:892\u001b[0m, in \u001b[0;36mPlotAccessor.__call__\u001b[1;34m(self, *args, **kwargs)\u001b[0m\n\u001b[0;32m    891\u001b[0m \u001b[39mdef\u001b[39;00m \u001b[39m__call__\u001b[39m(\u001b[39mself\u001b[39m, \u001b[39m*\u001b[39margs, \u001b[39m*\u001b[39m\u001b[39m*\u001b[39mkwargs):\n\u001b[1;32m--> 892\u001b[0m     plot_backend \u001b[39m=\u001b[39m _get_plot_backend(kwargs\u001b[39m.\u001b[39;49mpop(\u001b[39m\"\u001b[39;49m\u001b[39mbackend\u001b[39;49m\u001b[39m\"\u001b[39;49m, \u001b[39mNone\u001b[39;49;00m))\n\u001b[0;32m    894\u001b[0m     x, y, kind, kwargs \u001b[39m=\u001b[39m \u001b[39mself\u001b[39m\u001b[39m.\u001b[39m_get_call_args(\n\u001b[0;32m    895\u001b[0m         plot_backend\u001b[39m.\u001b[39m\u001b[39m__name__\u001b[39m, \u001b[39mself\u001b[39m\u001b[39m.\u001b[39m_parent, args, kwargs\n\u001b[0;32m    896\u001b[0m     )\n\u001b[0;32m    898\u001b[0m     kind \u001b[39m=\u001b[39m \u001b[39mself\u001b[39m\u001b[39m.\u001b[39m_kind_aliases\u001b[39m.\u001b[39mget(kind, kind)\n",
      "File \u001b[1;32m~\\AppData\\Local\\Packages\\PythonSoftwareFoundation.Python.3.10_qbz5n2kfra8p0\\LocalCache\\local-packages\\Python310\\site-packages\\pandas\\plotting\\_core.py:1849\u001b[0m, in \u001b[0;36m_get_plot_backend\u001b[1;34m(backend)\u001b[0m\n\u001b[0;32m   1846\u001b[0m \u001b[39mif\u001b[39;00m backend \u001b[39min\u001b[39;00m _backends:\n\u001b[0;32m   1847\u001b[0m     \u001b[39mreturn\u001b[39;00m _backends[backend]\n\u001b[1;32m-> 1849\u001b[0m module \u001b[39m=\u001b[39m _load_backend(backend)\n\u001b[0;32m   1850\u001b[0m _backends[backend] \u001b[39m=\u001b[39m module\n\u001b[0;32m   1851\u001b[0m \u001b[39mreturn\u001b[39;00m module\n",
      "File \u001b[1;32m~\\AppData\\Local\\Packages\\PythonSoftwareFoundation.Python.3.10_qbz5n2kfra8p0\\LocalCache\\local-packages\\Python310\\site-packages\\pandas\\plotting\\_core.py:1787\u001b[0m, in \u001b[0;36m_load_backend\u001b[1;34m(backend)\u001b[0m\n\u001b[0;32m   1785\u001b[0m         module \u001b[39m=\u001b[39m importlib\u001b[39m.\u001b[39mimport_module(\u001b[39m\"\u001b[39m\u001b[39mpandas.plotting._matplotlib\u001b[39m\u001b[39m\"\u001b[39m)\n\u001b[0;32m   1786\u001b[0m     \u001b[39mexcept\u001b[39;00m \u001b[39mImportError\u001b[39;00m:\n\u001b[1;32m-> 1787\u001b[0m         \u001b[39mraise\u001b[39;00m \u001b[39mImportError\u001b[39;00m(\n\u001b[0;32m   1788\u001b[0m             \u001b[39m\"\u001b[39m\u001b[39mmatplotlib is required for plotting when the \u001b[39m\u001b[39m\"\u001b[39m\n\u001b[0;32m   1789\u001b[0m             \u001b[39m'\u001b[39m\u001b[39mdefault backend \u001b[39m\u001b[39m\"\u001b[39m\u001b[39mmatplotlib\u001b[39m\u001b[39m\"\u001b[39m\u001b[39m is selected.\u001b[39m\u001b[39m'\u001b[39m\n\u001b[0;32m   1790\u001b[0m         ) \u001b[39mfrom\u001b[39;00m \u001b[39mNone\u001b[39m\n\u001b[0;32m   1791\u001b[0m     \u001b[39mreturn\u001b[39;00m module\n\u001b[0;32m   1793\u001b[0m found_backend \u001b[39m=\u001b[39m \u001b[39mFalse\u001b[39;00m\n",
      "\u001b[1;31mImportError\u001b[0m: matplotlib is required for plotting when the default backend \"matplotlib\" is selected."
     ]
    }
   ],
   "source": [
    "close_px['AAPL'].plot(color = 'Blue', grid = True, label = 'AAPL Daily Price')"
   ]
  },
  {
   "cell_type": "markdown",
   "metadata": {},
   "source": [
    "When called on a DataFrame, as you would expect, all of the time series are drawn on a single subplot with a legend indicating which is which. I’ll plot only the year 2009 data so you can see how both months and years are formatted on the X axis; "
   ]
  },
  {
   "cell_type": "code",
   "execution_count": null,
   "metadata": {},
   "outputs": [
    {
     "data": {
      "text/plain": [
       "<AxesSubplot:>"
      ]
     },
     "execution_count": 29,
     "metadata": {},
     "output_type": "execute_result"
    },
    {
     "data": {
      "image/png": "[encoded data removed]",
      "text/plain": [
       "<Figure size 432x288 with 1 Axes>"
      ]
     },
     "metadata": {
      "needs_background": "light"
     },
     "output_type": "display_data"
    }
   ],
   "source": [
    "close_px.loc['2009'].plot()"
   ]
  },
  {
   "cell_type": "code",
   "execution_count": null,
   "metadata": {},
   "outputs": [
    {
     "data": {
      "application/vnd.plotly.v1+json": {
       "config": {
        "plotlyServerURL": "https://plot.ly"
       },
       "data": [
        {
         "hovertemplate": "variable=AAPL<br>index=%{x}<br>value=%{y}<extra></extra>",
         "legendgroup": "AAPL",
         "line": {
          "color": "#636efa",
          "dash": "solid"
         },
         "marker": {
          "symbol": "circle"
         },
         "mode": "lines",
         "name": "AAPL",
         "orientation": "v",
         "showlegend": true,
         "type": "scatter",
         "x": [
          "2009-01-01T00:00:00",
          "2009-01-02T00:00:00",
          "2009-01-05T00:00:00",
          "2009-01-06T00:00:00",
          "2009-01-07T00:00:00",
          "2009-01-08T00:00:00",
          "2009-01-09T00:00:00",
          "2009-01-12T00:00:00",
          "2009-01-13T00:00:00",
          "2009-01-14T00:00:00",
          "2009-01-15T00:00:00",
          "2009-01-16T00:00:00",
          "2009-01-19T00:00:00",
          "2009-01-20T00:00:00",
          "2009-01-21T00:00:00",
          "2009-01-22T00:00:00",
          "2009-01-23T00:00:00",
          "2009-01-26T00:00:00",
          "2009-01-27T00:00:00",
          "2009-01-28T00:00:00",
          "2009-01-29T00:00:00",
          "2009-01-30T00:00:00",
          "2009-02-02T00:00:00",
          "2009-02-03T00:00:00",
          "2009-02-04T00:00:00",
          "2009-02-05T00:00:00",
          "2009-02-06T00:00:00",
          "2009-02-09T00:00:00",
          "2009-02-10T00:00:00",
          "2009-02-11T00:00:00",
          "2009-02-12T00:00:00",
          "2009-02-13T00:00:00",
          "2009-02-16T00:00:00",
          "2009-02-17T00:00:00",
          "2009-02-18T00:00:00",
          "2009-02-19T00:00:00",
          "2009-02-20T00:00:00",
          "2009-02-23T00:00:00",
          "2009-02-24T00:00:00",
          "2009-02-25T00:00:00",
          "2009-02-26T00:00:00",
          "2009-02-27T00:00:00",
          "2009-03-02T00:00:00",
          "2009-03-03T00:00:00",
          "2009-03-04T00:00:00",
          "2009-03-05T00:00:00",
          "2009-03-06T00:00:00",
          "2009-03-09T00:00:00",
          "2009-03-10T00:00:00",
          "2009-03-11T00:00:00",
          "2009-03-12T00:00:00",
          "2009-03-13T00:00:00",
          "2009-03-16T00:00:00",
          "2009-03-17T00:00:00",
          "2009-03-18T00:00:00",
          "2009-03-19T00:00:00",
          "2009-03-20T00:00:00",
          "2009-03-23T00:00:00",
          "2009-03-24T00:00:00",
          "2009-03-25T00:00:00",
          "2009-03-26T00:00:00",
          "2009-03-27T00:00:00",
          "2009-03-30T00:00:00",
          "2009-03-31T00:00:00",
          "2009-04-01T00:00:00",
          "2009-04-02T00:00:00",
          "2009-04-03T00:00:00",
          "2009-04-06T00:00:00",
          "2009-04-07T00:00:00",
          "2009-04-08T00:00:00",
          "2009-04-09T00:00:00",
          "2009-04-10T00:00:00",
          "2009-04-13T00:00:00",
          "2009-04-14T00:00:00",
          "2009-04-15T00:00:00",
          "2009-04-16T00:00:00",
          "2009-04-17T00:00:00",
          "2009-04-20T00:00:00",
          "2009-04-21T00:00:00",
          "2009-04-22T00:00:00",
          "2009-04-23T00:00:00",
          "2009-04-24T00:00:00",
          "2009-04-27T00:00:00",
          "2009-04-28T00:00:00",
          "2009-04-29T00:00:00",
          "2009-04-30T00:00:00",
          "2009-05-01T00:00:00",
          "2009-05-04T00:00:00",
          "2009-05-05T00:00:00",
          "2009-05-06T00:00:00",
          "2009-05-07T00:00:00",
          "2009-05-08T00:00:00",
          "2009-05-11T00:00:00",
          "2009-05-12T00:00:00",
          "2009-05-13T00:00:00",
          "2009-05-14T00:00:00",
          "2009-05-15T00:00:00",
          "2009-05-18T00:00:00",
          "2009-05-19T00:00:00",
          "2009-05-20T00:00:00",
          "2009-05-21T00:00:00",
          "2009-05-22T00:00:00",
          "2009-05-25T00:00:00",
          "2009-05-26T00:00:00",
          "2009-05-27T00:00:00",
          "2009-05-28T00:00:00",
          "2009-05-29T00:00:00",
          "2009-06-01T00:00:00",
          "2009-06-02T00:00:00",
          "2009-06-03T00:00:00",
          "2009-06-04T00:00:00",
          "2009-06-05T00:00:00",
          "2009-06-08T00:00:00",
          "2009-06-09T00:00:00",
          "2009-06-10T00:00:00",
          "2009-06-11T00:00:00",
          "2009-06-12T00:00:00",
          "2009-06-15T00:00:00",
          "2009-06-16T00:00:00",
          "2009-06-17T00:00:00",
          "2009-06-18T00:00:00",
          "2009-06-19T00:00:00",
          "2009-06-22T00:00:00",
          "2009-06-23T00:00:00",
          "2009-06-24T00:00:00",
          "2009-06-25T00:00:00",
          "2009-06-26T00:00:00",
          "2009-06-29T00:00:00",
          "2009-06-30T00:00:00",
          "2009-07-01T00:00:00",
          "2009-07-02T00:00:00",
          "2009-07-03T00:00:00",
          "2009-07-06T00:00:00",
          "2009-07-07T00:00:00",
          "2009-07-08T00:00:00",
          "2009-07-09T00:00:00",
          "2009-07-10T00:00:00",
          "2009-07-13T00:00:00",
          "2009-07-14T00:00:00",
          "2009-07-15T00:00:00",
          "2009-07-16T00:00:00",
          "2009-07-17T00:00:00",
          "2009-07-20T00:00:00",
          "2009-07-21T00:00:00",
          "2009-07-22T00:00:00",
          "2009-07-23T00:00:00",
          "2009-07-24T00:00:00",
          "2009-07-27T00:00:00",
          "2009-07-28T00:00:00",
          "2009-07-29T00:00:00",
          "2009-07-30T00:00:00",
          "2009-07-31T00:00:00",
          "2009-08-03T00:00:00",
          "2009-08-04T00:00:00",
          "2009-08-05T00:00:00",
          "2009-08-06T00:00:00",
          "2009-08-07T00:00:00",
          "2009-08-10T00:00:00",
          "2009-08-11T00:00:00",
          "2009-08-12T00:00:00",
          "2009-08-13T00:00:00",
          "2009-08-14T00:00:00",
          "2009-08-17T00:00:00",
          "2009-08-18T00:00:00",
          "2009-08-19T00:00:00",
          "2009-08-20T00:00:00",
          "2009-08-21T00:00:00",
          "2009-08-24T00:00:00",
          "2009-08-25T00:00:00",
          "2009-08-26T00:00:00",
          "2009-08-27T00:00:00",
          "2009-08-28T00:00:00",
          "2009-08-31T00:00:00",
          "2009-09-01T00:00:00",
          "2009-09-02T00:00:00",
          "2009-09-03T00:00:00",
          "2009-09-04T00:00:00",
          "2009-09-07T00:00:00",
          "2009-09-08T00:00:00",
          "2009-09-09T00:00:00",
          "2009-09-10T00:00:00",
          "2009-09-11T00:00:00",
          "2009-09-14T00:00:00",
          "2009-09-15T00:00:00",
          "2009-09-16T00:00:00",
          "2009-09-17T00:00:00",
          "2009-09-18T00:00:00",
          "2009-09-21T00:00:00",
          "2009-09-22T00:00:00",
          "2009-09-23T00:00:00",
          "2009-09-24T00:00:00",
          "2009-09-25T00:00:00",
          "2009-09-28T00:00:00",
          "2009-09-29T00:00:00",
          "2009-09-30T00:00:00",
          "2009-10-01T00:00:00",
          "2009-10-02T00:00:00",
          "2009-10-05T00:00:00",
          "2009-10-06T00:00:00",
          "2009-10-07T00:00:00",
          "2009-10-08T00:00:00",
          "2009-10-09T00:00:00",
          "2009-10-12T00:00:00",
          "2009-10-13T00:00:00",
          "2009-10-14T00:00:00",
          "2009-10-15T00:00:00",
          "2009-10-16T00:00:00",
          "2009-10-19T00:00:00",
          "2009-10-20T00:00:00",
          "2009-10-21T00:00:00",
          "2009-10-22T00:00:00",
          "2009-10-23T00:00:00",
          "2009-10-26T00:00:00",
          "2009-10-27T00:00:00",
          "2009-10-28T00:00:00",
          "2009-10-29T00:00:00",
          "2009-10-30T00:00:00",
          "2009-11-02T00:00:00",
          "2009-11-03T00:00:00",
          "2009-11-04T00:00:00",
          "2009-11-05T00:00:00",
          "2009-11-06T00:00:00",
          "2009-11-09T00:00:00",
          "2009-11-10T00:00:00",
          "2009-11-11T00:00:00",
          "2009-11-12T00:00:00",
          "2009-11-13T00:00:00",
          "2009-11-16T00:00:00",
          "2009-11-17T00:00:00",
          "2009-11-18T00:00:00",
          "2009-11-19T00:00:00",
          "2009-11-20T00:00:00",
          "2009-11-23T00:00:00",
          "2009-11-24T00:00:00",
          "2009-11-25T00:00:00",
          "2009-11-26T00:00:00",
          "2009-11-27T00:00:00",
          "2009-11-30T00:00:00",
          "2009-12-01T00:00:00",
          "2009-12-02T00:00:00",
          "2009-12-03T00:00:00",
          "2009-12-04T00:00:00",
          "2009-12-07T00:00:00",
          "2009-12-08T00:00:00",
          "2009-12-09T00:00:00",
          "2009-12-10T00:00:00",
          "2009-12-11T00:00:00",
          "2009-12-14T00:00:00",
          "2009-12-15T00:00:00",
          "2009-12-16T00:00:00",
          "2009-12-17T00:00:00",
          "2009-12-18T00:00:00",
          "2009-12-21T00:00:00",
          "2009-12-22T00:00:00",
          "2009-12-23T00:00:00",
          "2009-12-24T00:00:00",
          "2009-12-25T00:00:00",
          "2009-12-28T00:00:00",
          "2009-12-29T00:00:00",
          "2009-12-30T00:00:00",
          "2009-12-31T00:00:00"
         ],
         "xaxis": "x",
         "y": [
          85.35,
          90.75,
          94.58,
          93.02,
          91.01,
          92.7,
          90.58,
          88.66,
          87.71,
          85.33,
          83.38,
          82.33,
          82.33,
          78.2,
          82.83,
          88.36,
          88.36,
          89.64,
          90.73,
          94.2,
          93,
          90.13,
          91.51,
          92.98,
          93.55,
          96.46,
          99.72,
          102.51,
          97.83,
          96.82,
          99.27,
          99.16,
          99.16,
          94.53,
          94.37,
          90.64,
          91.2,
          86.95,
          90.25,
          91.16,
          89.19,
          89.31,
          87.94,
          88.37,
          91.17,
          88.84,
          85.3,
          83.11,
          88.63,
          92.68,
          96.35,
          95.93,
          95.42,
          99.66,
          101.52,
          101.62,
          101.59,
          107.66,
          106.5,
          106.49,
          109.87,
          106.85,
          104.49,
          105.12,
          108.69,
          112.71,
          115.99,
          118.45,
          115,
          116.32,
          119.57,
          119.57,
          120.22,
          118.31,
          117.64,
          121.45,
          123.42,
          120.5,
          121.76,
          121.51,
          125.4,
          123.9,
          124.73,
          123.9,
          125.14,
          125.83,
          127.24,
          132.07,
          132.71,
          132.5,
          129.06,
          129.19,
          129.57,
          124.42,
          119.49,
          122.95,
          122.42,
          126.65,
          127.45,
          125.87,
          124.18,
          122.5,
          122.5,
          130.78,
          133.05,
          135.07,
          135.81,
          139.35,
          139.49,
          140.95,
          143.74,
          144.67,
          143.85,
          142.72,
          140.25,
          139.95,
          136.97,
          136.09,
          136.35,
          135.58,
          135.88,
          139.48,
          137.37,
          134.01,
          136.22,
          139.86,
          142.44,
          141.97,
          142.43,
          142.83,
          140.02,
          140.02,
          138.61,
          135.4,
          137.22,
          136.36,
          138.52,
          142.34,
          142.27,
          146.88,
          147.52,
          151.75,
          152.91,
          151.51,
          156.74,
          157.82,
          159.99,
          160.1,
          160,
          160.03,
          162.79,
          163.39,
          166.43,
          165.55,
          165.11,
          163.91,
          165.51,
          164.72,
          162.83,
          165.31,
          168.42,
          166.78,
          159.59,
          164,
          164.6,
          166.33,
          169.22,
          169.06,
          169.4,
          167.41,
          169.45,
          170.05,
          168.21,
          165.3,
          165.18,
          166.55,
          170.31,
          170.31,
          172.93,
          171.14,
          172.56,
          172.16,
          173.72,
          175.16,
          181.87,
          184.55,
          185.02,
          184.02,
          184.48,
          185.5,
          183.82,
          182.37,
          186.15,
          185.38,
          185.35,
          180.86,
          184.9,
          186.02,
          190.01,
          190.25,
          189.27,
          190.47,
          190.81,
          190.02,
          191.29,
          190.56,
          188.05,
          189.86,
          198.76,
          204.92,
          205.2,
          203.94,
          202.48,
          197.37,
          192.4,
          196.35,
          188.5,
          189.31,
          188.75,
          190.81,
          194.03,
          194.34,
          201.46,
          202.98,
          203.25,
          201.99,
          204.45,
          206.63,
          207,
          205.96,
          200.51,
          199.92,
          205.88,
          204.44,
          204.19,
          204.19,
          200.59,
          199.91,
          196.97,
          196.23,
          196.48,
          193.32,
          188.95,
          189.87,
          197.8,
          196.43,
          194.67,
          196.98,
          194.17,
          195.03,
          191.86,
          195.43,
          198.23,
          200.36,
          202.1,
          209.04,
          209.04,
          211.61,
          209.1,
          211.64,
          210.73
         ],
         "yaxis": "y"
        },
        {
         "hovertemplate": "variable=MSFT<br>index=%{x}<br>value=%{y}<extra></extra>",
         "legendgroup": "MSFT",
         "line": {
          "color": "#EF553B",
          "dash": "solid"
         },
         "marker": {
          "symbol": "circle"
         },
         "mode": "lines",
         "name": "MSFT",
         "orientation": "v",
         "showlegend": true,
         "type": "scatter",
         "x": [
          "2009-01-01T00:00:00",
          "2009-01-02T00:00:00",
          "2009-01-05T00:00:00",
          "2009-01-06T00:00:00",
          "2009-01-07T00:00:00",
          "2009-01-08T00:00:00",
          "2009-01-09T00:00:00",
          "2009-01-12T00:00:00",
          "2009-01-13T00:00:00",
          "2009-01-14T00:00:00",
          "2009-01-15T00:00:00",
          "2009-01-16T00:00:00",
          "2009-01-19T00:00:00",
          "2009-01-20T00:00:00",
          "2009-01-21T00:00:00",
          "2009-01-22T00:00:00",
          "2009-01-23T00:00:00",
          "2009-01-26T00:00:00",
          "2009-01-27T00:00:00",
          "2009-01-28T00:00:00",
          "2009-01-29T00:00:00",
          "2009-01-30T00:00:00",
          "2009-02-02T00:00:00",
          "2009-02-03T00:00:00",
          "2009-02-04T00:00:00",
          "2009-02-05T00:00:00",
          "2009-02-06T00:00:00",
          "2009-02-09T00:00:00",
          "2009-02-10T00:00:00",
          "2009-02-11T00:00:00",
          "2009-02-12T00:00:00",
          "2009-02-13T00:00:00",
          "2009-02-16T00:00:00",
          "2009-02-17T00:00:00",
          "2009-02-18T00:00:00",
          "2009-02-19T00:00:00",
          "2009-02-20T00:00:00",
          "2009-02-23T00:00:00",
          "2009-02-24T00:00:00",
          "2009-02-25T00:00:00",
          "2009-02-26T00:00:00",
          "2009-02-27T00:00:00",
          "2009-03-02T00:00:00",
          "2009-03-03T00:00:00",
          "2009-03-04T00:00:00",
          "2009-03-05T00:00:00",
          "2009-03-06T00:00:00",
          "2009-03-09T00:00:00",
          "2009-03-10T00:00:00",
          "2009-03-11T00:00:00",
          "2009-03-12T00:00:00",
          "2009-03-13T00:00:00",
          "2009-03-16T00:00:00",
          "2009-03-17T00:00:00",
          "2009-03-18T00:00:00",
          "2009-03-19T00:00:00",
          "2009-03-20T00:00:00",
          "2009-03-23T00:00:00",
          "2009-03-24T00:00:00",
          "2009-03-25T00:00:00",
          "2009-03-26T00:00:00",
          "2009-03-27T00:00:00",
          "2009-03-30T00:00:00",
          "2009-03-31T00:00:00",
          "2009-04-01T00:00:00",
          "2009-04-02T00:00:00",
          "2009-04-03T00:00:00",
          "2009-04-06T00:00:00",
          "2009-04-07T00:00:00",
          "2009-04-08T00:00:00",
          "2009-04-09T00:00:00",
          "2009-04-10T00:00:00",
          "2009-04-13T00:00:00",
          "2009-04-14T00:00:00",
          "2009-04-15T00:00:00",
          "2009-04-16T00:00:00",
          "2009-04-17T00:00:00",
          "2009-04-20T00:00:00",
          "2009-04-21T00:00:00",
          "2009-04-22T00:00:00",
          "2009-04-23T00:00:00",
          "2009-04-24T00:00:00",
          "2009-04-27T00:00:00",
          "2009-04-28T00:00:00",
          "2009-04-29T00:00:00",
          "2009-04-30T00:00:00",
          "2009-05-01T00:00:00",
          "2009-05-04T00:00:00",
          "2009-05-05T00:00:00",
          "2009-05-06T00:00:00",
          "2009-05-07T00:00:00",
          "2009-05-08T00:00:00",
          "2009-05-11T00:00:00",
          "2009-05-12T00:00:00",
          "2009-05-13T00:00:00",
          "2009-05-14T00:00:00",
          "2009-05-15T00:00:00",
          "2009-05-18T00:00:00",
          "2009-05-19T00:00:00",
          "2009-05-20T00:00:00",
          "2009-05-21T00:00:00",
          "2009-05-22T00:00:00",
          "2009-05-25T00:00:00",
          "2009-05-26T00:00:00",
          "2009-05-27T00:00:00",
          "2009-05-28T00:00:00",
          "2009-05-29T00:00:00",
          "2009-06-01T00:00:00",
          "2009-06-02T00:00:00",
          "2009-06-03T00:00:00",
          "2009-06-04T00:00:00",
          "2009-06-05T00:00:00",
          "2009-06-08T00:00:00",
          "2009-06-09T00:00:00",
          "2009-06-10T00:00:00",
          "2009-06-11T00:00:00",
          "2009-06-12T00:00:00",
          "2009-06-15T00:00:00",
          "2009-06-16T00:00:00",
          "2009-06-17T00:00:00",
          "2009-06-18T00:00:00",
          "2009-06-19T00:00:00",
          "2009-06-22T00:00:00",
          "2009-06-23T00:00:00",
          "2009-06-24T00:00:00",
          "2009-06-25T00:00:00",
          "2009-06-26T00:00:00",
          "2009-06-29T00:00:00",
          "2009-06-30T00:00:00",
          "2009-07-01T00:00:00",
          "2009-07-02T00:00:00",
          "2009-07-03T00:00:00",
          "2009-07-06T00:00:00",
          "2009-07-07T00:00:00",
          "2009-07-08T00:00:00",
          "2009-07-09T00:00:00",
          "2009-07-10T00:00:00",
          "2009-07-13T00:00:00",
          "2009-07-14T00:00:00",
          "2009-07-15T00:00:00",
          "2009-07-16T00:00:00",
          "2009-07-17T00:00:00",
          "2009-07-20T00:00:00",
          "2009-07-21T00:00:00",
          "2009-07-22T00:00:00",
          "2009-07-23T00:00:00",
          "2009-07-24T00:00:00",
          "2009-07-27T00:00:00",
          "2009-07-28T00:00:00",
          "2009-07-29T00:00:00",
          "2009-07-30T00:00:00",
          "2009-07-31T00:00:00",
          "2009-08-03T00:00:00",
          "2009-08-04T00:00:00",
          "2009-08-05T00:00:00",
          "2009-08-06T00:00:00",
          "2009-08-07T00:00:00",
          "2009-08-10T00:00:00",
          "2009-08-11T00:00:00",
          "2009-08-12T00:00:00",
          "2009-08-13T00:00:00",
          "2009-08-14T00:00:00",
          "2009-08-17T00:00:00",
          "2009-08-18T00:00:00",
          "2009-08-19T00:00:00",
          "2009-08-20T00:00:00",
          "2009-08-21T00:00:00",
          "2009-08-24T00:00:00",
          "2009-08-25T00:00:00",
          "2009-08-26T00:00:00",
          "2009-08-27T00:00:00",
          "2009-08-28T00:00:00",
          "2009-08-31T00:00:00",
          "2009-09-01T00:00:00",
          "2009-09-02T00:00:00",
          "2009-09-03T00:00:00",
          "2009-09-04T00:00:00",
          "2009-09-07T00:00:00",
          "2009-09-08T00:00:00",
          "2009-09-09T00:00:00",
          "2009-09-10T00:00:00",
          "2009-09-11T00:00:00",
          "2009-09-14T00:00:00",
          "2009-09-15T00:00:00",
          "2009-09-16T00:00:00",
          "2009-09-17T00:00:00",
          "2009-09-18T00:00:00",
          "2009-09-21T00:00:00",
          "2009-09-22T00:00:00",
          "2009-09-23T00:00:00",
          "2009-09-24T00:00:00",
          "2009-09-25T00:00:00",
          "2009-09-28T00:00:00",
          "2009-09-29T00:00:00",
          "2009-09-30T00:00:00",
          "2009-10-01T00:00:00",
          "2009-10-02T00:00:00",
          "2009-10-05T00:00:00",
          "2009-10-06T00:00:00",
          "2009-10-07T00:00:00",
          "2009-10-08T00:00:00",
          "2009-10-09T00:00:00",
          "2009-10-12T00:00:00",
          "2009-10-13T00:00:00",
          "2009-10-14T00:00:00",
          "2009-10-15T00:00:00",
          "2009-10-16T00:00:00",
          "2009-10-19T00:00:00",
          "2009-10-20T00:00:00",
          "2009-10-21T00:00:00",
          "2009-10-22T00:00:00",
          "2009-10-23T00:00:00",
          "2009-10-26T00:00:00",
          "2009-10-27T00:00:00",
          "2009-10-28T00:00:00",
          "2009-10-29T00:00:00",
          "2009-10-30T00:00:00",
          "2009-11-02T00:00:00",
          "2009-11-03T00:00:00",
          "2009-11-04T00:00:00",
          "2009-11-05T00:00:00",
          "2009-11-06T00:00:00",
          "2009-11-09T00:00:00",
          "2009-11-10T00:00:00",
          "2009-11-11T00:00:00",
          "2009-11-12T00:00:00",
          "2009-11-13T00:00:00",
          "2009-11-16T00:00:00",
          "2009-11-17T00:00:00",
          "2009-11-18T00:00:00",
          "2009-11-19T00:00:00",
          "2009-11-20T00:00:00",
          "2009-11-23T00:00:00",
          "2009-11-24T00:00:00",
          "2009-11-25T00:00:00",
          "2009-11-26T00:00:00",
          "2009-11-27T00:00:00",
          "2009-11-30T00:00:00",
          "2009-12-01T00:00:00",
          "2009-12-02T00:00:00",
          "2009-12-03T00:00:00",
          "2009-12-04T00:00:00",
          "2009-12-07T00:00:00",
          "2009-12-08T00:00:00",
          "2009-12-09T00:00:00",
          "2009-12-10T00:00:00",
          "2009-12-11T00:00:00",
          "2009-12-14T00:00:00",
          "2009-12-15T00:00:00",
          "2009-12-16T00:00:00",
          "2009-12-17T00:00:00",
          "2009-12-18T00:00:00",
          "2009-12-21T00:00:00",
          "2009-12-22T00:00:00",
          "2009-12-23T00:00:00",
          "2009-12-24T00:00:00",
          "2009-12-25T00:00:00",
          "2009-12-28T00:00:00",
          "2009-12-29T00:00:00",
          "2009-12-30T00:00:00",
          "2009-12-31T00:00:00"
         ],
         "xaxis": "x",
         "y": [
          18.26,
          19.1,
          19.28,
          19.5,
          18.33,
          18.9,
          18.34,
          18.29,
          18.62,
          17.93,
          18.07,
          18.52,
          18.52,
          17.36,
          18.21,
          16.07,
          16.16,
          16.56,
          16.59,
          16.95,
          16.52,
          16.06,
          16.75,
          17.38,
          17.5,
          17.89,
          18.47,
          18.26,
          17.66,
          18.05,
          18.09,
          17.93,
          17.93,
          17.11,
          17.14,
          16.94,
          17.03,
          16.28,
          16.24,
          16.04,
          15.53,
          15.28,
          14.93,
          15.02,
          15.25,
          14.44,
          14.45,
          14.33,
          15.59,
          16.18,
          16.09,
          15.75,
          15.37,
          15.98,
          16.04,
          16.21,
          16.14,
          17.34,
          16.96,
          16.91,
          17.81,
          17.15,
          16.53,
          17.38,
          18.26,
          18.25,
          17.73,
          17.74,
          17.74,
          18.15,
          18.6,
          18.6,
          18.53,
          18.3,
          17.81,
          18.69,
          18.16,
          17.6,
          17.94,
          17.76,
          17.9,
          19.78,
          19.3,
          18.85,
          19.15,
          19.16,
          19.14,
          19.1,
          18.72,
          18.72,
          18.27,
          18.37,
          18.27,
          18.81,
          18.68,
          18.97,
          19.12,
          19.48,
          19.33,
          19.4,
          18.87,
          18.8,
          18.8,
          19.36,
          19.16,
          19.47,
          19.88,
          20.37,
          20.37,
          20.68,
          20.78,
          21.07,
          20.99,
          21.02,
          21.46,
          21.73,
          22.21,
          22.29,
          22.32,
          22.54,
          22.37,
          22.91,
          22.16,
          22.22,
          22.34,
          22.64,
          22.23,
          22.71,
          22.63,
          22.88,
          22.24,
          22.24,
          22.08,
          21.45,
          21.47,
          21.36,
          21.31,
          22.11,
          22,
          22.96,
          23.26,
          23.12,
          23.35,
          23.63,
          23.61,
          24.33,
          22.32,
          22,
          22.34,
          22.65,
          22.66,
          22.39,
          22.68,
          22.63,
          22.66,
          22.33,
          22.43,
          22.29,
          22.02,
          22.4,
          22.48,
          22.55,
          22.13,
          22.57,
          22.64,
          22.66,
          23.37,
          23.59,
          23.59,
          23.5,
          23.63,
          23.62,
          23.59,
          22.97,
          22.84,
          23.08,
          23.57,
          23.57,
          23.76,
          23.72,
          23.93,
          23.8,
          23.93,
          24.12,
          24.12,
          24.22,
          24.18,
          24.22,
          24.67,
          24.61,
          24.83,
          24.46,
          24.72,
          24.65,
          24.62,
          23.82,
          23.89,
          23.59,
          24.04,
          24.03,
          24.57,
          24.46,
          24.62,
          24.71,
          24.85,
          25.57,
          25.37,
          25.23,
          25.24,
          25.44,
          25.45,
          26.82,
          27.45,
          27.37,
          26.82,
          27.01,
          26.54,
          26.69,
          26.35,
          26.86,
          27.25,
          27.3,
          27.75,
          27.77,
          27.87,
          28.1,
          28.36,
          28.28,
          28.84,
          28.95,
          28.63,
          28.48,
          28.79,
          28.76,
          28.64,
          28.64,
          28.09,
          28.28,
          28.85,
          28.63,
          28.68,
          28.82,
          28.64,
          28.43,
          28.56,
          28.72,
          28.7,
          28.95,
          28.86,
          28.94,
          28.46,
          29.19,
          29.34,
          29.63,
          29.73,
          29.8,
          29.8,
          29.97,
          30.18,
          29.77,
          29.3
         ],
         "yaxis": "y"
        },
        {
         "hovertemplate": "variable=XOM<br>index=%{x}<br>value=%{y}<extra></extra>",
         "legendgroup": "XOM",
         "line": {
          "color": "#00cc96",
          "dash": "solid"
         },
         "marker": {
          "symbol": "circle"
         },
         "mode": "lines",
         "name": "XOM",
         "orientation": "v",
         "showlegend": true,
         "type": "scatter",
         "x": [
          "2009-01-01T00:00:00",
          "2009-01-02T00:00:00",
          "2009-01-05T00:00:00",
          "2009-01-06T00:00:00",
          "2009-01-07T00:00:00",
          "2009-01-08T00:00:00",
          "2009-01-09T00:00:00",
          "2009-01-12T00:00:00",
          "2009-01-13T00:00:00",
          "2009-01-14T00:00:00",
          "2009-01-15T00:00:00",
          "2009-01-16T00:00:00",
          "2009-01-19T00:00:00",
          "2009-01-20T00:00:00",
          "2009-01-21T00:00:00",
          "2009-01-22T00:00:00",
          "2009-01-23T00:00:00",
          "2009-01-26T00:00:00",
          "2009-01-27T00:00:00",
          "2009-01-28T00:00:00",
          "2009-01-29T00:00:00",
          "2009-01-30T00:00:00",
          "2009-02-02T00:00:00",
          "2009-02-03T00:00:00",
          "2009-02-04T00:00:00",
          "2009-02-05T00:00:00",
          "2009-02-06T00:00:00",
          "2009-02-09T00:00:00",
          "2009-02-10T00:00:00",
          "2009-02-11T00:00:00",
          "2009-02-12T00:00:00",
          "2009-02-13T00:00:00",
          "2009-02-16T00:00:00",
          "2009-02-17T00:00:00",
          "2009-02-18T00:00:00",
          "2009-02-19T00:00:00",
          "2009-02-20T00:00:00",
          "2009-02-23T00:00:00",
          "2009-02-24T00:00:00",
          "2009-02-25T00:00:00",
          "2009-02-26T00:00:00",
          "2009-02-27T00:00:00",
          "2009-03-02T00:00:00",
          "2009-03-03T00:00:00",
          "2009-03-04T00:00:00",
          "2009-03-05T00:00:00",
          "2009-03-06T00:00:00",
          "2009-03-09T00:00:00",
          "2009-03-10T00:00:00",
          "2009-03-11T00:00:00",
          "2009-03-12T00:00:00",
          "2009-03-13T00:00:00",
          "2009-03-16T00:00:00",
          "2009-03-17T00:00:00",
          "2009-03-18T00:00:00",
          "2009-03-19T00:00:00",
          "2009-03-20T00:00:00",
          "2009-03-23T00:00:00",
          "2009-03-24T00:00:00",
          "2009-03-25T00:00:00",
          "2009-03-26T00:00:00",
          "2009-03-27T00:00:00",
          "2009-03-30T00:00:00",
          "2009-03-31T00:00:00",
          "2009-04-01T00:00:00",
          "2009-04-02T00:00:00",
          "2009-04-03T00:00:00",
          "2009-04-06T00:00:00",
          "2009-04-07T00:00:00",
          "2009-04-08T00:00:00",
          "2009-04-09T00:00:00",
          "2009-04-10T00:00:00",
          "2009-04-13T00:00:00",
          "2009-04-14T00:00:00",
          "2009-04-15T00:00:00",
          "2009-04-16T00:00:00",
          "2009-04-17T00:00:00",
          "2009-04-20T00:00:00",
          "2009-04-21T00:00:00",
          "2009-04-22T00:00:00",
          "2009-04-23T00:00:00",
          "2009-04-24T00:00:00",
          "2009-04-27T00:00:00",
          "2009-04-28T00:00:00",
          "2009-04-29T00:00:00",
          "2009-04-30T00:00:00",
          "2009-05-01T00:00:00",
          "2009-05-04T00:00:00",
          "2009-05-05T00:00:00",
          "2009-05-06T00:00:00",
          "2009-05-07T00:00:00",
          "2009-05-08T00:00:00",
          "2009-05-11T00:00:00",
          "2009-05-12T00:00:00",
          "2009-05-13T00:00:00",
          "2009-05-14T00:00:00",
          "2009-05-15T00:00:00",
          "2009-05-18T00:00:00",
          "2009-05-19T00:00:00",
          "2009-05-20T00:00:00",
          "2009-05-21T00:00:00",
          "2009-05-22T00:00:00",
          "2009-05-25T00:00:00",
          "2009-05-26T00:00:00",
          "2009-05-27T00:00:00",
          "2009-05-28T00:00:00",
          "2009-05-29T00:00:00",
          "2009-06-01T00:00:00",
          "2009-06-02T00:00:00",
          "2009-06-03T00:00:00",
          "2009-06-04T00:00:00",
          "2009-06-05T00:00:00",
          "2009-06-08T00:00:00",
          "2009-06-09T00:00:00",
          "2009-06-10T00:00:00",
          "2009-06-11T00:00:00",
          "2009-06-12T00:00:00",
          "2009-06-15T00:00:00",
          "2009-06-16T00:00:00",
          "2009-06-17T00:00:00",
          "2009-06-18T00:00:00",
          "2009-06-19T00:00:00",
          "2009-06-22T00:00:00",
          "2009-06-23T00:00:00",
          "2009-06-24T00:00:00",
          "2009-06-25T00:00:00",
          "2009-06-26T00:00:00",
          "2009-06-29T00:00:00",
          "2009-06-30T00:00:00",
          "2009-07-01T00:00:00",
          "2009-07-02T00:00:00",
          "2009-07-03T00:00:00",
          "2009-07-06T00:00:00",
          "2009-07-07T00:00:00",
          "2009-07-08T00:00:00",
          "2009-07-09T00:00:00",
          "2009-07-10T00:00:00",
          "2009-07-13T00:00:00",
          "2009-07-14T00:00:00",
          "2009-07-15T00:00:00",
          "2009-07-16T00:00:00",
          "2009-07-17T00:00:00",
          "2009-07-20T00:00:00",
          "2009-07-21T00:00:00",
          "2009-07-22T00:00:00",
          "2009-07-23T00:00:00",
          "2009-07-24T00:00:00",
          "2009-07-27T00:00:00",
          "2009-07-28T00:00:00",
          "2009-07-29T00:00:00",
          "2009-07-30T00:00:00",
          "2009-07-31T00:00:00",
          "2009-08-03T00:00:00",
          "2009-08-04T00:00:00",
          "2009-08-05T00:00:00",
          "2009-08-06T00:00:00",
          "2009-08-07T00:00:00",
          "2009-08-10T00:00:00",
          "2009-08-11T00:00:00",
          "2009-08-12T00:00:00",
          "2009-08-13T00:00:00",
          "2009-08-14T00:00:00",
          "2009-08-17T00:00:00",
          "2009-08-18T00:00:00",
          "2009-08-19T00:00:00",
          "2009-08-20T00:00:00",
          "2009-08-21T00:00:00",
          "2009-08-24T00:00:00",
          "2009-08-25T00:00:00",
          "2009-08-26T00:00:00",
          "2009-08-27T00:00:00",
          "2009-08-28T00:00:00",
          "2009-08-31T00:00:00",
          "2009-09-01T00:00:00",
          "2009-09-02T00:00:00",
          "2009-09-03T00:00:00",
          "2009-09-04T00:00:00",
          "2009-09-07T00:00:00",
          "2009-09-08T00:00:00",
          "2009-09-09T00:00:00",
          "2009-09-10T00:00:00",
          "2009-09-11T00:00:00",
          "2009-09-14T00:00:00",
          "2009-09-15T00:00:00",
          "2009-09-16T00:00:00",
          "2009-09-17T00:00:00",
          "2009-09-18T00:00:00",
          "2009-09-21T00:00:00",
          "2009-09-22T00:00:00",
          "2009-09-23T00:00:00",
          "2009-09-24T00:00:00",
          "2009-09-25T00:00:00",
          "2009-09-28T00:00:00",
          "2009-09-29T00:00:00",
          "2009-09-30T00:00:00",
          "2009-10-01T00:00:00",
          "2009-10-02T00:00:00",
          "2009-10-05T00:00:00",
          "2009-10-06T00:00:00",
          "2009-10-07T00:00:00",
          "2009-10-08T00:00:00",
          "2009-10-09T00:00:00",
          "2009-10-12T00:00:00",
          "2009-10-13T00:00:00",
          "2009-10-14T00:00:00",
          "2009-10-15T00:00:00",
          "2009-10-16T00:00:00",
          "2009-10-19T00:00:00",
          "2009-10-20T00:00:00",
          "2009-10-21T00:00:00",
          "2009-10-22T00:00:00",
          "2009-10-23T00:00:00",
          "2009-10-26T00:00:00",
          "2009-10-27T00:00:00",
          "2009-10-28T00:00:00",
          "2009-10-29T00:00:00",
          "2009-10-30T00:00:00",
          "2009-11-02T00:00:00",
          "2009-11-03T00:00:00",
          "2009-11-04T00:00:00",
          "2009-11-05T00:00:00",
          "2009-11-06T00:00:00",
          "2009-11-09T00:00:00",
          "2009-11-10T00:00:00",
          "2009-11-11T00:00:00",
          "2009-11-12T00:00:00",
          "2009-11-13T00:00:00",
          "2009-11-16T00:00:00",
          "2009-11-17T00:00:00",
          "2009-11-18T00:00:00",
          "2009-11-19T00:00:00",
          "2009-11-20T00:00:00",
          "2009-11-23T00:00:00",
          "2009-11-24T00:00:00",
          "2009-11-25T00:00:00",
          "2009-11-26T00:00:00",
          "2009-11-27T00:00:00",
          "2009-11-30T00:00:00",
          "2009-12-01T00:00:00",
          "2009-12-02T00:00:00",
          "2009-12-03T00:00:00",
          "2009-12-04T00:00:00",
          "2009-12-07T00:00:00",
          "2009-12-08T00:00:00",
          "2009-12-09T00:00:00",
          "2009-12-10T00:00:00",
          "2009-12-11T00:00:00",
          "2009-12-14T00:00:00",
          "2009-12-15T00:00:00",
          "2009-12-16T00:00:00",
          "2009-12-17T00:00:00",
          "2009-12-18T00:00:00",
          "2009-12-21T00:00:00",
          "2009-12-22T00:00:00",
          "2009-12-23T00:00:00",
          "2009-12-24T00:00:00",
          "2009-12-25T00:00:00",
          "2009-12-28T00:00:00",
          "2009-12-29T00:00:00",
          "2009-12-30T00:00:00",
          "2009-12-31T00:00:00"
         ],
         "xaxis": "x",
         "y": [
          74.65,
          76.35,
          76.34,
          75.09,
          73.18,
          73.96,
          72.54,
          71.58,
          72.87,
          70.23,
          71.69,
          73.04,
          73.04,
          71.34,
          74.12,
          73.16,
          72.98,
          73.5,
          73.8,
          74.11,
          72.01,
          71.52,
          71.72,
          73.05,
          72.62,
          74.61,
          75.51,
          74.7,
          71.56,
          70.1,
          70.7,
          70.1,
          70.1,
          66.99,
          67.61,
          67.82,
          66.95,
          65.13,
          67.76,
          67.72,
          66.68,
          63.82,
          61.01,
          60.49,
          61.73,
          58.48,
          60.18,
          60.69,
          63.34,
          61.82,
          63.11,
          63.16,
          62.94,
          64.94,
          65.01,
          64.22,
          62.12,
          66.29,
          65.21,
          65.94,
          66.95,
          65.77,
          64.5,
          64.01,
          65.07,
          66.03,
          66.2,
          65.84,
          64.58,
          64.81,
          65.64,
          65.64,
          63.93,
          63.63,
          64.04,
          63.36,
          62.74,
          61.36,
          62.25,
          60.86,
          61.76,
          62.57,
          62.15,
          63.05,
          64.32,
          62.66,
          63.92,
          64.1,
          63.58,
          64.46,
          64.79,
          66.54,
          65.49,
          66.96,
          65.97,
          65.96,
          65.34,
          66.66,
          66.68,
          65.81,
          64.66,
          65.08,
          65.08,
          66,
          64.58,
          65.46,
          65.57,
          67.85,
          68.94,
          68.15,
          69,
          68.99,
          69.18,
          69.13,
          69.81,
          70.01,
          69.76,
          68.84,
          67.72,
          67.53,
          67.54,
          67.18,
          65.09,
          65.19,
          64.72,
          66.07,
          65.29,
          66.73,
          66.1,
          66.71,
          64.76,
          64.76,
          64.39,
          62.93,
          62.65,
          62.37,
          61.57,
          62.12,
          62.61,
          64.71,
          64.73,
          64.78,
          65.18,
          66.63,
          66.17,
          67.71,
          68.35,
          68.78,
          67.97,
          67.54,
          66.86,
          66.55,
          66.8,
          66.75,
          66.21,
          65.93,
          65.68,
          65.41,
          64.81,
          65.74,
          65.4,
          64.88,
          63.31,
          63.25,
          64.69,
          65.25,
          66.51,
          67.82,
          67.23,
          67.89,
          67.41,
          66.7,
          65.78,
          65.08,
          64.86,
          64.93,
          65.81,
          65.81,
          67.21,
          67.06,
          67.21,
          66.57,
          66.59,
          66.1,
          66.91,
          66.44,
          66.58,
          66.18,
          66.43,
          65.64,
          65.57,
          65.35,
          66.2,
          65.7,
          65.27,
          63.99,
          63.33,
          64.29,
          65.31,
          65.32,
          65.68,
          65.89,
          66.71,
          66.84,
          68.34,
          69.38,
          69.56,
          70.03,
          69.46,
          69.74,
          70.81,
          69.98,
          69.66,
          71.26,
          70.24,
          70.35,
          68.18,
          68.63,
          68.24,
          67.82,
          68.97,
          69.04,
          69.7,
          69.47,
          69.76,
          68.79,
          69.34,
          71.21,
          71.79,
          72.02,
          71.42,
          71.17,
          72.43,
          72.69,
          73.17,
          73.17,
          71.63,
          71.83,
          72.75,
          72.52,
          71.75,
          71.04,
          70.58,
          69.8,
          69.64,
          69.27,
          69.68,
          66.68,
          66.18,
          65.47,
          65.27,
          65.26,
          65.55,
          65.61,
          65.31,
          65.69,
          65.69,
          66.1,
          65.87,
          65.8,
          65.24
         ],
         "yaxis": "y"
        }
       ],
       "layout": {
        "legend": {
         "title": {
          "text": "variable"
         },
         "tracegroupgap": 0
        },
        "margin": {
         "t": 60
        },
        "template": {
         "data": {
          "bar": [
           {
            "error_x": {
             "color": "#2a3f5f"
            },
            "error_y": {
             "color": "#2a3f5f"
            },
            "marker": {
             "line": {
              "color": "#E5ECF6",
              "width": 0.5
             },
             "pattern": {
              "fillmode": "overlay",
              "size": 10,
              "solidity": 0.2
             }
            },
            "type": "bar"
           }
          ],
          "barpolar": [
           {
            "marker": {
             "line": {
              "color": "#E5ECF6",
              "width": 0.5
             },
             "pattern": {
              "fillmode": "overlay",
              "size": 10,
              "solidity": 0.2
             }
            },
            "type": "barpolar"
           }
          ],
          "carpet": [
           {
            "aaxis": {
             "endlinecolor": "#2a3f5f",
             "gridcolor": "white",
             "linecolor": "white",
             "minorgridcolor": "white",
             "startlinecolor": "#2a3f5f"
            },
            "baxis": {
             "endlinecolor": "#2a3f5f",
             "gridcolor": "white",
             "linecolor": "white",
             "minorgridcolor": "white",
             "startlinecolor": "#2a3f5f"
            },
            "type": "carpet"
           }
          ],
          "choropleth": [
           {
            "colorbar": {
             "outlinewidth": 0,
             "ticks": ""
            },
            "type": "choropleth"
           }
          ],
          "contour": [
           {
            "colorbar": {
             "outlinewidth": 0,
             "ticks": ""
            },
            "colorscale": [
             [
              0,
              "#0d0887"
             ],
             [
              0.1111111111111111,
              "#46039f"
             ],
             [
              0.2222222222222222,
              "#7201a8"
             ],
             [
              0.3333333333333333,
              "#9c179e"
             ],
             [
              0.4444444444444444,
              "#bd3786"
             ],
             [
              0.5555555555555556,
              "#d8576b"
             ],
             [
              0.6666666666666666,
              "#ed7953"
             ],
             [
              0.7777777777777778,
              "#fb9f3a"
             ],
             [
              0.8888888888888888,
              "#fdca26"
             ],
             [
              1,
              "#f0f921"
             ]
            ],
            "type": "contour"
           }
          ],
          "contourcarpet": [
           {
            "colorbar": {
             "outlinewidth": 0,
             "ticks": ""
            },
            "type": "contourcarpet"
           }
          ],
          "heatmap": [
           {
            "colorbar": {
             "outlinewidth": 0,
             "ticks": ""
            },
            "colorscale": [
             [
              0,
              "#0d0887"
             ],
             [
              0.1111111111111111,
              "#46039f"
             ],
             [
              0.2222222222222222,
              "#7201a8"
             ],
             [
              0.3333333333333333,
              "#9c179e"
             ],
             [
              0.4444444444444444,
              "#bd3786"
             ],
             [
              0.5555555555555556,
              "#d8576b"
             ],
             [
              0.6666666666666666,
              "#ed7953"
             ],
             [
              0.7777777777777778,
              "#fb9f3a"
             ],
             [
              0.8888888888888888,
              "#fdca26"
             ],
             [
              1,
              "#f0f921"
             ]
            ],
            "type": "heatmap"
           }
          ],
          "heatmapgl": [
           {
            "colorbar": {
             "outlinewidth": 0,
             "ticks": ""
            },
            "colorscale": [
             [
              0,
              "#0d0887"
             ],
             [
              0.1111111111111111,
              "#46039f"
             ],
             [
              0.2222222222222222,
              "#7201a8"
             ],
             [
              0.3333333333333333,
              "#9c179e"
             ],
             [
              0.4444444444444444,
              "#bd3786"
             ],
             [
              0.5555555555555556,
              "#d8576b"
             ],
             [
              0.6666666666666666,
              "#ed7953"
             ],
             [
              0.7777777777777778,
              "#fb9f3a"
             ],
             [
              0.8888888888888888,
              "#fdca26"
             ],
             [
              1,
              "#f0f921"
             ]
            ],
            "type": "heatmapgl"
           }
          ],
          "histogram": [
           {
            "marker": {
             "pattern": {
              "fillmode": "overlay",
              "size": 10,
              "solidity": 0.2
             }
            },
            "type": "histogram"
           }
          ],
          "histogram2d": [
           {
            "colorbar": {
             "outlinewidth": 0,
             "ticks": ""
            },
            "colorscale": [
             [
              0,
              "#0d0887"
             ],
             [
              0.1111111111111111,
              "#46039f"
             ],
             [
              0.2222222222222222,
              "#7201a8"
             ],
             [
              0.3333333333333333,
              "#9c179e"
             ],
             [
              0.4444444444444444,
              "#bd3786"
             ],
             [
              0.5555555555555556,
              "#d8576b"
             ],
             [
              0.6666666666666666,
              "#ed7953"
             ],
             [
              0.7777777777777778,
              "#fb9f3a"
             ],
             [
              0.8888888888888888,
              "#fdca26"
             ],
             [
              1,
              "#f0f921"
             ]
            ],
            "type": "histogram2d"
           }
          ],
          "histogram2dcontour": [
           {
            "colorbar": {
             "outlinewidth": 0,
             "ticks": ""
            },
            "colorscale": [
             [
              0,
              "#0d0887"
             ],
             [
              0.1111111111111111,
              "#46039f"
             ],
             [
              0.2222222222222222,
              "#7201a8"
             ],
             [
              0.3333333333333333,
              "#9c179e"
             ],
             [
              0.4444444444444444,
              "#bd3786"
             ],
             [
              0.5555555555555556,
              "#d8576b"
             ],
             [
              0.6666666666666666,
              "#ed7953"
             ],
             [
              0.7777777777777778,
              "#fb9f3a"
             ],
             [
              0.8888888888888888,
              "#fdca26"
             ],
             [
              1,
              "#f0f921"
             ]
            ],
            "type": "histogram2dcontour"
           }
          ],
          "mesh3d": [
           {
            "colorbar": {
             "outlinewidth": 0,
             "ticks": ""
            },
            "type": "mesh3d"
           }
          ],
          "parcoords": [
           {
            "line": {
             "colorbar": {
              "outlinewidth": 0,
              "ticks": ""
             }
            },
            "type": "parcoords"
           }
          ],
          "pie": [
           {
            "automargin": true,
            "type": "pie"
           }
          ],
          "scatter": [
           {
            "fillpattern": {
             "fillmode": "overlay",
             "size": 10,
             "solidity": 0.2
            },
            "type": "scatter"
           }
          ],
          "scatter3d": [
           {
            "line": {
             "colorbar": {
              "outlinewidth": 0,
              "ticks": ""
             }
            },
            "marker": {
             "colorbar": {
              "outlinewidth": 0,
              "ticks": ""
             }
            },
            "type": "scatter3d"
           }
          ],
          "scattercarpet": [
           {
            "marker": {
             "colorbar": {
              "outlinewidth": 0,
              "ticks": ""
             }
            },
            "type": "scattercarpet"
           }
          ],
          "scattergeo": [
           {
            "marker": {
             "colorbar": {
              "outlinewidth": 0,
              "ticks": ""
             }
            },
            "type": "scattergeo"
           }
          ],
          "scattergl": [
           {
            "marker": {
             "colorbar": {
              "outlinewidth": 0,
              "ticks": ""
             }
            },
            "type": "scattergl"
           }
          ],
          "scattermapbox": [
           {
            "marker": {
             "colorbar": {
              "outlinewidth": 0,
              "ticks": ""
             }
            },
            "type": "scattermapbox"
           }
          ],
          "scatterpolar": [
           {
            "marker": {
             "colorbar": {
              "outlinewidth": 0,
              "ticks": ""
             }
            },
            "type": "scatterpolar"
           }
          ],
          "scatterpolargl": [
           {
            "marker": {
             "colorbar": {
              "outlinewidth": 0,
              "ticks": ""
             }
            },
            "type": "scatterpolargl"
           }
          ],
          "scatterternary": [
           {
            "marker": {
             "colorbar": {
              "outlinewidth": 0,
              "ticks": ""
             }
            },
            "type": "scatterternary"
           }
          ],
          "surface": [
           {
            "colorbar": {
             "outlinewidth": 0,
             "ticks": ""
            },
            "colorscale": [
             [
              0,
              "#0d0887"
             ],
             [
              0.1111111111111111,
              "#46039f"
             ],
             [
              0.2222222222222222,
              "#7201a8"
             ],
             [
              0.3333333333333333,
              "#9c179e"
             ],
             [
              0.4444444444444444,
              "#bd3786"
             ],
             [
              0.5555555555555556,
              "#d8576b"
             ],
             [
              0.6666666666666666,
              "#ed7953"
             ],
             [
              0.7777777777777778,
              "#fb9f3a"
             ],
             [
              0.8888888888888888,
              "#fdca26"
             ],
             [
              1,
              "#f0f921"
             ]
            ],
            "type": "surface"
           }
          ],
          "table": [
           {
            "cells": {
             "fill": {
              "color": "#EBF0F8"
             },
             "line": {
              "color": "white"
             }
            },
            "header": {
             "fill": {
              "color": "#C8D4E3"
             },
             "line": {
              "color": "white"
             }
            },
            "type": "table"
           }
          ]
         },
         "layout": {
          "annotationdefaults": {
           "arrowcolor": "#2a3f5f",
           "arrowhead": 0,
           "arrowwidth": 1
          },
          "autotypenumbers": "strict",
          "coloraxis": {
           "colorbar": {
            "outlinewidth": 0,
            "ticks": ""
           }
          },
          "colorscale": {
           "diverging": [
            [
             0,
             "#8e0152"
            ],
            [
             0.1,
             "#c51b7d"
            ],
            [
             0.2,
             "#de77ae"
            ],
            [
             0.3,
             "#f1b6da"
            ],
            [
             0.4,
             "#fde0ef"
            ],
            [
             0.5,
             "#f7f7f7"
            ],
            [
             0.6,
             "#e6f5d0"
            ],
            [
             0.7,
             "#b8e186"
            ],
            [
             0.8,
             "#7fbc41"
            ],
            [
             0.9,
             "#4d9221"
            ],
            [
             1,
             "#276419"
            ]
           ],
           "sequential": [
            [
             0,
             "#0d0887"
            ],
            [
             0.1111111111111111,
             "#46039f"
            ],
            [
             0.2222222222222222,
             "#7201a8"
            ],
            [
             0.3333333333333333,
             "#9c179e"
            ],
            [
             0.4444444444444444,
             "#bd3786"
            ],
            [
             0.5555555555555556,
             "#d8576b"
            ],
            [
             0.6666666666666666,
             "#ed7953"
            ],
            [
             0.7777777777777778,
             "#fb9f3a"
            ],
            [
             0.8888888888888888,
             "#fdca26"
            ],
            [
             1,
             "#f0f921"
            ]
           ],
           "sequentialminus": [
            [
             0,
             "#0d0887"
            ],
            [
             0.1111111111111111,
             "#46039f"
            ],
            [
             0.2222222222222222,
             "#7201a8"
            ],
            [
             0.3333333333333333,
             "#9c179e"
            ],
            [
             0.4444444444444444,
             "#bd3786"
            ],
            [
             0.5555555555555556,
             "#d8576b"
            ],
            [
             0.6666666666666666,
             "#ed7953"
            ],
            [
             0.7777777777777778,
             "#fb9f3a"
            ],
            [
             0.8888888888888888,
             "#fdca26"
            ],
            [
             1,
             "#f0f921"
            ]
           ]
          },
          "colorway": [
           "#636efa",
           "#EF553B",
           "#00cc96",
           "#ab63fa",
           "#FFA15A",
           "#19d3f3",
           "#FF6692",
           "#B6E880",
           "#FF97FF",
           "#FECB52"
          ],
          "font": {
           "color": "#2a3f5f"
          },
          "geo": {
           "bgcolor": "white",
           "lakecolor": "white",
           "landcolor": "#E5ECF6",
           "showlakes": true,
           "showland": true,
           "subunitcolor": "white"
          },
          "hoverlabel": {
           "align": "left"
          },
          "hovermode": "closest",
          "mapbox": {
           "style": "light"
          },
          "paper_bgcolor": "white",
          "plot_bgcolor": "#E5ECF6",
          "polar": {
           "angularaxis": {
            "gridcolor": "white",
            "linecolor": "white",
            "ticks": ""
           },
           "bgcolor": "#E5ECF6",
           "radialaxis": {
            "gridcolor": "white",
            "linecolor": "white",
            "ticks": ""
           }
          },
          "scene": {
           "xaxis": {
            "backgroundcolor": "#E5ECF6",
            "gridcolor": "white",
            "gridwidth": 2,
            "linecolor": "white",
            "showbackground": true,
            "ticks": "",
            "zerolinecolor": "white"
           },
           "yaxis": {
            "backgroundcolor": "#E5ECF6",
            "gridcolor": "white",
            "gridwidth": 2,
            "linecolor": "white",
            "showbackground": true,
            "ticks": "",
            "zerolinecolor": "white"
           },
           "zaxis": {
            "backgroundcolor": "#E5ECF6",
            "gridcolor": "white",
            "gridwidth": 2,
            "linecolor": "white",
            "showbackground": true,
            "ticks": "",
            "zerolinecolor": "white"
           }
          },
          "shapedefaults": {
           "line": {
            "color": "#2a3f5f"
           }
          },
          "ternary": {
           "aaxis": {
            "gridcolor": "white",
            "linecolor": "white",
            "ticks": ""
           },
           "baxis": {
            "gridcolor": "white",
            "linecolor": "white",
            "ticks": ""
           },
           "bgcolor": "#E5ECF6",
           "caxis": {
            "gridcolor": "white",
            "linecolor": "white",
            "ticks": ""
           }
          },
          "title": {
           "x": 0.05
          },
          "xaxis": {
           "automargin": true,
           "gridcolor": "white",
           "linecolor": "white",
           "ticks": "",
           "title": {
            "standoff": 15
           },
           "zerolinecolor": "white",
           "zerolinewidth": 2
          },
          "yaxis": {
           "automargin": true,
           "gridcolor": "white",
           "linecolor": "white",
           "ticks": "",
           "title": {
            "standoff": 15
           },
           "zerolinecolor": "white",
           "zerolinewidth": 2
          }
         }
        },
        "xaxis": {
         "anchor": "y",
         "domain": [
          0,
          1
         ],
         "title": {
          "text": "index"
         }
        },
        "yaxis": {
         "anchor": "x",
         "domain": [
          0,
          1
         ],
         "title": {
          "text": "value"
         }
        }
       }
      }
     },
     "metadata": {},
     "output_type": "display_data"
    }
   ],
   "source": [
    "import plotly as pt\n",
    "\n",
    "pt.plot(close_px.loc['2009'], kind='line')"
   ]
  },
  {
   "cell_type": "code",
   "execution_count": null,
   "metadata": {},
   "outputs": [
    {
     "data": {
      "text/plain": [
       "<AxesSubplot:>"
      ]
     },
     "execution_count": 31,
     "metadata": {},
     "output_type": "execute_result"
    },
    {
     "data": {
      "image/png": "[encoded data removed]",
      "text/plain": [
       "<Figure size 432x288 with 1 Axes>"
      ]
     },
     "metadata": {
      "needs_background": "light"
     },
     "output_type": "display_data"
    }
   ],
   "source": [
    "close_px['AAPL'].loc['01-2011':'03-2011'].plot()"
   ]
  },
  {
   "cell_type": "markdown",
   "metadata": {},
   "source": [
    "Quarterly frequency data is also more nicely formatted with quarterly markers, something that would be quite a bit more work to do by hand."
   ]
  },
  {
   "cell_type": "code",
   "execution_count": null,
   "metadata": {},
   "outputs": [
    {
     "data": {
      "text/plain": [
       "<AxesSubplot:>"
      ]
     },
     "execution_count": 35,
     "metadata": {},
     "output_type": "execute_result"
    },
    {
     "data": {
      "image/png": "[encoded data removed]",
      "text/plain": [
       "<Figure size 432x288 with 1 Axes>"
      ]
     },
     "metadata": {
      "needs_background": "light"
     },
     "output_type": "display_data"
    }
   ],
   "source": [
    "appl = close_px['AAPL'].resample('Q-Dec').agg('ffill')\n",
    "\n",
    "appl.loc['2009'].plot()"
   ]
  }
 ],
 "metadata": {
  "kernelspec": {
   "display_name": "Python 3.10.6 64-bit (windows store)",
   "language": "python",
   "name": "python3"
  },
  "language_info": {
   "codemirror_mode": {
    "name": "ipython",
    "version": 3
   },
   "file_extension": ".py",
   "mimetype": "text/x-python",
   "name": "python",
   "nbconvert_exporter": "python",
   "pygments_lexer": "ipython3",
   "version": "3.10.7"
  },
  "orig_nbformat": 4,
  "vscode": {
   "interpreter": {
    "hash": "ffea71f7b71092eabe4cd0b8ca5f97eab7e23656a5f6413a198e81db1d0ce6b2"
   }
  }
 },
 "nbformat": 4,
 "nbformat_minor": 2
}

{
 "cells": [
  {
   "cell_type": "markdown",
   "metadata": {},
   "source": [
    "# Operations beteen Different Time Zones\n",
    "\n",
    "If two time series with different time zones are combined, the result will be UTC. Since the time stamps are stored under the hood on UTC, this is straightforward operation and requires no conversion to happen:"
   ]
  },
  {
   "cell_type": "code",
   "execution_count": 4,
   "metadata": {},
   "outputs": [],
   "source": [
    "import pandas as pd\n",
    "from pandas import DataFrame, Series\n",
    "import numpy as np"
   ]
  },
  {
   "cell_type": "code",
   "execution_count": 12,
   "metadata": {},
   "outputs": [
    {
     "data": {
      "text/plain": [
       "DatetimeIndex(['2022-08-30 11:30:00', '2022-08-31 11:30:00',\n",
       "               '2022-09-01 11:30:00', '2022-09-02 11:30:00',\n",
       "               '2022-09-05 11:30:00', '2022-09-06 11:30:00',\n",
       "               '2022-09-07 11:30:00', '2022-09-08 11:30:00',\n",
       "               '2022-09-09 11:30:00', '2022-09-12 11:30:00'],\n",
       "              dtype='datetime64[ns]', freq='B')"
      ]
     },
     "execution_count": 12,
     "metadata": {},
     "output_type": "execute_result"
    }
   ],
   "source": [
    "rng = pd.date_range('30/08/2022 11:30', periods = 10, freq = 'B')\n",
    "\n",
    "rng"
   ]
  },
  {
   "cell_type": "code",
   "execution_count": 13,
   "metadata": {},
   "outputs": [
    {
     "data": {
      "text/plain": [
       "2022-08-30 11:30:00    0\n",
       "2022-08-31 11:30:00    1\n",
       "2022-09-01 11:30:00    2\n",
       "2022-09-02 11:30:00    3\n",
       "2022-09-05 11:30:00    4\n",
       "2022-09-06 11:30:00    5\n",
       "2022-09-07 11:30:00    6\n",
       "2022-09-08 11:30:00    7\n",
       "2022-09-09 11:30:00    8\n",
       "2022-09-12 11:30:00    9\n",
       "Freq: B, dtype: int32"
      ]
     },
     "execution_count": 13,
     "metadata": {},
     "output_type": "execute_result"
    }
   ],
   "source": [
    "ts = Series(np.arange(len(rng)), index = rng)\n",
    "\n",
    "ts"
   ]
  },
  {
   "cell_type": "code",
   "execution_count": 24,
   "metadata": {},
   "outputs": [],
   "source": [
    "ts1 = ts[:7].tz_localize('Asia/Karachi')\n",
    "\n",
    "ts2 = ts[2:].tz_localize('Europe/Moscow')"
   ]
  },
  {
   "cell_type": "code",
   "execution_count": 25,
   "metadata": {},
   "outputs": [],
   "source": [
    "res = ts1 + ts2"
   ]
  },
  {
   "cell_type": "code",
   "execution_count": 26,
   "metadata": {},
   "outputs": [
    {
     "data": {
      "text/plain": [
       "(2022-08-30 06:30:00+00:00   NaN\n",
       " 2022-08-31 06:30:00+00:00   NaN\n",
       " 2022-09-01 06:30:00+00:00   NaN\n",
       " 2022-09-01 08:30:00+00:00   NaN\n",
       " 2022-09-02 06:30:00+00:00   NaN\n",
       " 2022-09-02 08:30:00+00:00   NaN\n",
       " 2022-09-05 06:30:00+00:00   NaN\n",
       " 2022-09-05 08:30:00+00:00   NaN\n",
       " 2022-09-06 06:30:00+00:00   NaN\n",
       " 2022-09-06 08:30:00+00:00   NaN\n",
       " 2022-09-07 06:30:00+00:00   NaN\n",
       " 2022-09-07 08:30:00+00:00   NaN\n",
       " 2022-09-08 08:30:00+00:00   NaN\n",
       " 2022-09-09 08:30:00+00:00   NaN\n",
       " 2022-09-12 08:30:00+00:00   NaN\n",
       " dtype: float64,\n",
       " DatetimeIndex(['2022-08-30 06:30:00+00:00', '2022-08-31 06:30:00+00:00',\n",
       "                '2022-09-01 06:30:00+00:00', '2022-09-01 08:30:00+00:00',\n",
       "                '2022-09-02 06:30:00+00:00', '2022-09-02 08:30:00+00:00',\n",
       "                '2022-09-05 06:30:00+00:00', '2022-09-05 08:30:00+00:00',\n",
       "                '2022-09-06 06:30:00+00:00', '2022-09-06 08:30:00+00:00',\n",
       "                '2022-09-07 06:30:00+00:00', '2022-09-07 08:30:00+00:00',\n",
       "                '2022-09-08 08:30:00+00:00', '2022-09-09 08:30:00+00:00',\n",
       "                '2022-09-12 08:30:00+00:00'],\n",
       "               dtype='datetime64[ns, UTC]', freq=None))"
      ]
     },
     "execution_count": 26,
     "metadata": {},
     "output_type": "execute_result"
    }
   ],
   "source": [
    "res, res.index"
   ]
  }
 ],
 "metadata": {
  "kernelspec": {
   "display_name": "Python 3.10.6 64-bit (windows store)",
   "language": "python",
   "name": "python3"
  },
  "language_info": {
   "codemirror_mode": {
    "name": "ipython",
    "version": 3
   },
   "file_extension": ".py",
   "mimetype": "text/x-python",
   "name": "python",
   "nbconvert_exporter": "python",
   "pygments_lexer": "ipython3",
   "version": "3.10.6"
  },
  "orig_nbformat": 4,
  "vscode": {
   "interpreter": {
    "hash": "ffea71f7b71092eabe4cd0b8ca5f97eab7e23656a5f6413a198e81db1d0ce6b2"
   }
  }
 },
 "nbformat": 4,
 "nbformat_minor": 2
}

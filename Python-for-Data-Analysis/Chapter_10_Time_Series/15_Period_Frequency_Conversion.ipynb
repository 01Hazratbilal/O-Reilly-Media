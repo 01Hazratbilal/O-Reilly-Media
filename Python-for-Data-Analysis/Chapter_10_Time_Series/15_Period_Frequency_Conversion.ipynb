{
 "cells": [
  {
   "cell_type": "markdown",
   "metadata": {},
   "source": [
    "# Period Frequency Conversion\n",
    "\n",
    "Periods and *PeriodIndex* objects can be converted to another frequency using their *asfreq* method. As an example, suppose we had an annual period and wanted to convert it into a monthly period either at the start or end of the year. This is fairly straightforward:"
   ]
  },
  {
   "cell_type": "code",
   "execution_count": 1,
   "metadata": {},
   "outputs": [],
   "source": [
    "import pandas as pd\n",
    "import numpy as np\n",
    "from pandas import DataFrame, Series"
   ]
  },
  {
   "cell_type": "code",
   "execution_count": 2,
   "metadata": {},
   "outputs": [],
   "source": [
    "p = pd.Period('2007', freq = 'A-Dec')"
   ]
  },
  {
   "cell_type": "code",
   "execution_count": 5,
   "metadata": {},
   "outputs": [
    {
     "data": {
      "text/plain": [
       "(Period('2007-01', 'M'), Period('2007-12-31', 'B'))"
      ]
     },
     "execution_count": 5,
     "metadata": {},
     "output_type": "execute_result"
    }
   ],
   "source": [
    "p.asfreq('M', how='start'), p.asfreq('B', how = 'end')"
   ]
  },
  {
   "cell_type": "markdown",
   "metadata": {},
   "source": [
    "You can think of Period('2007', 'A-DEC') as being a cursor pointing to a span of time, subdivided by monthly periods. For a fiscal year ending on a month other than December, the monthly subperiods belonging are different:"
   ]
  },
  {
   "cell_type": "code",
   "execution_count": 6,
   "metadata": {},
   "outputs": [],
   "source": [
    "p = pd.Period('2007', freq= 'A-Jun')"
   ]
  },
  {
   "cell_type": "code",
   "execution_count": 8,
   "metadata": {},
   "outputs": [
    {
     "data": {
      "text/plain": [
       "(Period('2006-07-01', 'D'), Period('2007-06-30', 'D'))"
      ]
     },
     "execution_count": 8,
     "metadata": {},
     "output_type": "execute_result"
    }
   ],
   "source": [
    "p.asfreq('D', 'start'), p.asfreq('D', 'end')"
   ]
  },
  {
   "cell_type": "markdown",
   "metadata": {},
   "source": [
    "When converting form high to low frequency, the superperiod will be determined depending on where the subperiod \"belongs\". For example, in **A-JUN** frequency, the month **Aug-2007** is actually part of the **2008** period:"
   ]
  },
  {
   "cell_type": "code",
   "execution_count": 10,
   "metadata": {},
   "outputs": [
    {
     "data": {
      "text/plain": [
       "Period('2008', 'A-JUN')"
      ]
     },
     "execution_count": 10,
     "metadata": {},
     "output_type": "execute_result"
    }
   ],
   "source": [
    "p = pd.Period('2007-08', 'M')\n",
    "\n",
    "p.asfreq('A-Jun')"
   ]
  },
  {
   "cell_type": "markdown",
   "metadata": {},
   "source": [
    "Whole *PeriodIndex* objects or TimeSeries can be similarly converted with the same semantics:"
   ]
  },
  {
   "cell_type": "code",
   "execution_count": 11,
   "metadata": {},
   "outputs": [],
   "source": [
    "rng = pd.period_range('2006', '2009', freq='A-Dec')"
   ]
  },
  {
   "cell_type": "code",
   "execution_count": 12,
   "metadata": {},
   "outputs": [],
   "source": [
    "ts = Series(np.random.randn(len(rng)), index = rng)"
   ]
  },
  {
   "cell_type": "code",
   "execution_count": 13,
   "metadata": {},
   "outputs": [
    {
     "data": {
      "text/plain": [
       "2006   -0.964861\n",
       "2007   -0.302695\n",
       "2008   -1.014765\n",
       "2009   -0.983402\n",
       "Freq: A-DEC, dtype: float64"
      ]
     },
     "execution_count": 13,
     "metadata": {},
     "output_type": "execute_result"
    }
   ],
   "source": [
    "ts"
   ]
  },
  {
   "cell_type": "code",
   "execution_count": 17,
   "metadata": {},
   "outputs": [
    {
     "data": {
      "text/plain": [
       "(2006-01-02   -0.964861\n",
       " 2007-01-01   -0.302695\n",
       " 2008-01-01   -1.014765\n",
       " 2009-01-01   -0.983402\n",
       " Freq: B, dtype: float64,\n",
       " 2006-12   -0.964861\n",
       " 2007-12   -0.302695\n",
       " 2008-12   -1.014765\n",
       " 2009-12   -0.983402\n",
       " Freq: M, dtype: float64)"
      ]
     },
     "execution_count": 17,
     "metadata": {},
     "output_type": "execute_result"
    }
   ],
   "source": [
    "ts.asfreq('B', how = 'start'), ts.asfreq('M', how = 'end')"
   ]
  },
  {
   "cell_type": "markdown",
   "metadata": {},
   "source": [
    "![Period frequency conversion illustration](../../Pictures/Period%20frequency%20conversion%20illustration.png)"
   ]
  }
 ],
 "metadata": {
  "kernelspec": {
   "display_name": "Python 3.10.6 64-bit (windows store)",
   "language": "python",
   "name": "python3"
  },
  "language_info": {
   "codemirror_mode": {
    "name": "ipython",
    "version": 3
   },
   "file_extension": ".py",
   "mimetype": "text/x-python",
   "name": "python",
   "nbconvert_exporter": "python",
   "pygments_lexer": "ipython3",
   "version": "3.10.6"
  },
  "orig_nbformat": 4,
  "vscode": {
   "interpreter": {
    "hash": "ffea71f7b71092eabe4cd0b8ca5f97eab7e23656a5f6413a198e81db1d0ce6b2"
   }
  }
 },
 "nbformat": 4,
 "nbformat_minor": 2
}

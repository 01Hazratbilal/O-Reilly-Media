{
 "cells": [
  {
   "cell_type": "markdown",
   "metadata": {},
   "source": [
    "# Date Ranges, Frequencies, and Shifting\n",
    "\n",
    "Generic time series in pandas are assumed to be irregular: that is, they have no fixed frequency. For many applicatons this is sufficient. However, it's often desirable to work relative to fixed frequency, such as daily, monthly, or every 15 minutes, even if that means introducing missing values into a time series. Fortunately pandas has a full suite generating fixed frequency date ranges. For example, in the example time series, converitng it to be fixed daily frequency can be accomplished by calling *resample*: "
   ]
  },
  {
   "cell_type": "code",
   "execution_count": 1,
   "metadata": {},
   "outputs": [],
   "source": [
    "from datetime import datetime\n",
    "import pandas as pd\n",
    "import numpy as np\n",
    "from pandas import DataFrame, Series"
   ]
  },
  {
   "cell_type": "code",
   "execution_count": 19,
   "metadata": {},
   "outputs": [],
   "source": [
    "dates = [datetime(2011, 1, 2), datetime(2011, 1, 5), datetime(2011, 1, 7),\n",
    "        datetime(2011, 1, 8), datetime(2011, 1, 10), datetime(2011, 1, 12)]"
   ]
  },
  {
   "cell_type": "code",
   "execution_count": 20,
   "metadata": {},
   "outputs": [],
   "source": [
    "ts = Series(np.arange(6), index = dates)"
   ]
  },
  {
   "cell_type": "code",
   "execution_count": 21,
   "metadata": {},
   "outputs": [
    {
     "data": {
      "text/plain": [
       "<pandas.core.resample.DatetimeIndexResampler object at 0x0000027091DAB5B0>"
      ]
     },
     "execution_count": 21,
     "metadata": {},
     "output_type": "execute_result"
    }
   ],
   "source": [
    "ts.resample('D')"
   ]
  },
  {
   "cell_type": "code",
   "execution_count": 22,
   "metadata": {},
   "outputs": [
    {
     "name": "stdout",
     "output_type": "stream",
     "text": [
      "(Timestamp('2011-01-02 00:00:00', freq='D'), 2011-01-02    0\n",
      "dtype: int32)\n",
      "(Timestamp('2011-01-03 00:00:00', freq='D'), Series([], dtype: int32))\n",
      "(Timestamp('2011-01-04 00:00:00', freq='D'), Series([], dtype: int32))\n",
      "(Timestamp('2011-01-05 00:00:00', freq='D'), 2011-01-05    1\n",
      "dtype: int32)\n",
      "(Timestamp('2011-01-06 00:00:00', freq='D'), Series([], dtype: int32))\n",
      "(Timestamp('2011-01-07 00:00:00', freq='D'), 2011-01-07    2\n",
      "dtype: int32)\n",
      "(Timestamp('2011-01-08 00:00:00', freq='D'), 2011-01-08    3\n",
      "dtype: int32)\n",
      "(Timestamp('2011-01-09 00:00:00', freq='D'), Series([], dtype: int32))\n",
      "(Timestamp('2011-01-10 00:00:00', freq='D'), 2011-01-10    4\n",
      "dtype: int32)\n",
      "(Timestamp('2011-01-11 00:00:00', freq='D'), Series([], dtype: int32))\n",
      "(Timestamp('2011-01-12 00:00:00', freq='D'), 2011-01-12    5\n",
      "dtype: int32)\n"
     ]
    }
   ],
   "source": [
    "for i in ts.resample('D'):\n",
    "    print(i)"
   ]
  }
 ],
 "metadata": {
  "kernelspec": {
   "display_name": "Python 3.10.6 64-bit (windows store)",
   "language": "python",
   "name": "python3"
  },
  "language_info": {
   "codemirror_mode": {
    "name": "ipython",
    "version": 3
   },
   "file_extension": ".py",
   "mimetype": "text/x-python",
   "name": "python",
   "nbconvert_exporter": "python",
   "pygments_lexer": "ipython3",
   "version": "3.10.6"
  },
  "orig_nbformat": 4,
  "vscode": {
   "interpreter": {
    "hash": "ffea71f7b71092eabe4cd0b8ca5f97eab7e23656a5f6413a198e81db1d0ce6b2"
   }
  }
 },
 "nbformat": 4,
 "nbformat_minor": 2
}

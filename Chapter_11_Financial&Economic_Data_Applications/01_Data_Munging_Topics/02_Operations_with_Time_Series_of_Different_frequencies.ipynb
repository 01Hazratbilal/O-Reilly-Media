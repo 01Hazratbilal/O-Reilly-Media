{
 "cells": [
  {
   "cell_type": "markdown",
   "metadata": {},
   "source": [
    "# Operations with Time Series of Different Frequencies\n",
    "\n",
    "Economic time series are often of annual, quarterly, monthly, daily, or some other more specialized frequency. Some are completely irregular; for example, earnings revisions for a stock may arrive at any time. The two main tools for frequency conversion and realignment are the resample and reindex methods. resample converts data to a fixed frequency while reindex conforms data to a new index. Both support optional interpolation (such as forward filling) logic."
   ]
  },
  {
   "cell_type": "markdown",
   "metadata": {},
   "source": [
    "Let’s consider a small weekly time series:"
   ]
  },
  {
   "cell_type": "code",
   "execution_count": 1,
   "metadata": {},
   "outputs": [],
   "source": [
    "import numpy as np\n",
    "import pandas as pd\n",
    "from pandas import DataFrame, Series"
   ]
  },
  {
   "cell_type": "code",
   "execution_count": 2,
   "metadata": {},
   "outputs": [
    {
     "name": "stderr",
     "output_type": "stream",
     "text": [
      "C:\\Users\\mbkmu\\AppData\\Local\\Packages\\PythonSoftwareFoundation.Python.3.10_qbz5n2kfra8p0\\LocalCache\\local-packages\\Python310\\site-packages\\IPython\\core\\interactiveshell.py:3378: UserWarning: Parsing '13-06-2022' in DD/MM/YYYY format. Provide format or specify infer_datetime_format=True for consistent parsing.\n",
      "  exec(code_obj, self.user_global_ns, self.user_ns)\n"
     ]
    }
   ],
   "source": [
    "ts1 = Series(np.random.randn(3),\n",
    "            index = pd.date_range('13-06-2022', periods = 3, freq = 'W-Wed'))"
   ]
  },
  {
   "cell_type": "code",
   "execution_count": 3,
   "metadata": {},
   "outputs": [
    {
     "data": {
      "text/plain": [
       "2022-06-15   -0.474621\n",
       "2022-06-22   -0.078615\n",
       "2022-06-29    0.540962\n",
       "Freq: W-WED, dtype: float64"
      ]
     },
     "execution_count": 3,
     "metadata": {},
     "output_type": "execute_result"
    }
   ],
   "source": [
    "ts1"
   ]
  },
  {
   "cell_type": "markdown",
   "metadata": {},
   "source": [
    "If you resample this to business daily (Monday-Friday) frequency, you get holes on the days where there is no data:"
   ]
  },
  {
   "cell_type": "code",
   "execution_count": 4,
   "metadata": {},
   "outputs": [
    {
     "data": {
      "text/plain": [
       "2022-06-15   -0.474621\n",
       "2022-06-16    0.000000\n",
       "2022-06-17    0.000000\n",
       "2022-06-20    0.000000\n",
       "2022-06-21    0.000000\n",
       "2022-06-22   -0.078615\n",
       "2022-06-23    0.000000\n",
       "2022-06-24    0.000000\n",
       "2022-06-27    0.000000\n",
       "2022-06-28    0.000000\n",
       "2022-06-29    0.540962\n",
       "Freq: B, dtype: float64"
      ]
     },
     "execution_count": 4,
     "metadata": {},
     "output_type": "execute_result"
    }
   ],
   "source": [
    "ts1.resample('B').sum()"
   ]
  },
  {
   "cell_type": "code",
   "execution_count": 5,
   "metadata": {},
   "outputs": [
    {
     "name": "stdout",
     "output_type": "stream",
     "text": [
      "                                                   0\n",
      "0                                2022-06-15 00:00:00\n",
      "1  2022-06-15   -0.474621\n",
      "Freq: W-WED, dtype: flo...\n",
      "                                         0\n",
      "0                      2022-06-16 00:00:00\n",
      "1  Series([], Freq: W-WED, dtype: float64)\n",
      "                                         0\n",
      "0                      2022-06-17 00:00:00\n",
      "1  Series([], Freq: W-WED, dtype: float64)\n",
      "                                         0\n",
      "0                      2022-06-20 00:00:00\n",
      "1  Series([], Freq: W-WED, dtype: float64)\n",
      "                                         0\n",
      "0                      2022-06-21 00:00:00\n",
      "1  Series([], Freq: W-WED, dtype: float64)\n",
      "                                                   0\n",
      "0                                2022-06-22 00:00:00\n",
      "1  2022-06-22   -0.078615\n",
      "Freq: W-WED, dtype: flo...\n",
      "                                         0\n",
      "0                      2022-06-23 00:00:00\n",
      "1  Series([], Freq: W-WED, dtype: float64)\n",
      "                                         0\n",
      "0                      2022-06-24 00:00:00\n",
      "1  Series([], Freq: W-WED, dtype: float64)\n",
      "                                         0\n",
      "0                      2022-06-27 00:00:00\n",
      "1  Series([], Freq: W-WED, dtype: float64)\n",
      "                                         0\n",
      "0                      2022-06-28 00:00:00\n",
      "1  Series([], Freq: W-WED, dtype: float64)\n",
      "                                                   0\n",
      "0                                2022-06-29 00:00:00\n",
      "1  2022-06-29    0.540962\n",
      "Freq: W-WED, dtype: flo...\n"
     ]
    }
   ],
   "source": [
    "for i,j in ts1.resample('B'):\n",
    "    print(DataFrame([i,j]))"
   ]
  },
  {
   "cell_type": "markdown",
   "metadata": {},
   "source": [
    "Of course, using 'ffill' as the fill_method forward fills values in those gaps. This is a common practice with lower frequency data as you compute a time series of values on each timestamp having the latest valid or “as of” value:"
   ]
  },
  {
   "cell_type": "code",
   "execution_count": 6,
   "metadata": {},
   "outputs": [
    {
     "data": {
      "text/plain": [
       "2022-06-15   -0.474621\n",
       "2022-06-16   -0.474621\n",
       "2022-06-17   -0.474621\n",
       "2022-06-20   -0.474621\n",
       "2022-06-21   -0.474621\n",
       "2022-06-22   -0.078615\n",
       "2022-06-23   -0.078615\n",
       "2022-06-24   -0.078615\n",
       "2022-06-27   -0.078615\n",
       "2022-06-28   -0.078615\n",
       "2022-06-29    0.540962\n",
       "Freq: B, dtype: float64"
      ]
     },
     "execution_count": 6,
     "metadata": {},
     "output_type": "execute_result"
    }
   ],
   "source": [
    "ts1.resample('B').agg('ffill')"
   ]
  },
  {
   "cell_type": "markdown",
   "metadata": {},
   "source": [
    "In practice, upsampling lower frequency data to a higher, regular frequency is a fine solution, but in the more general irregular time series case it may be a poor fit. Consider an irregularly sampled time series from the same general time period:"
   ]
  },
  {
   "cell_type": "code",
   "execution_count": 7,
   "metadata": {},
   "outputs": [],
   "source": [
    "dates = pd.DatetimeIndex(['2012-6-12', '2012-6-17', '2012-6-18', '2012-6-21', '2012-6-22', '2012-6-29'])"
   ]
  },
  {
   "cell_type": "code",
   "execution_count": 8,
   "metadata": {},
   "outputs": [],
   "source": [
    "ts2 = Series(np.random.randn(6), index = dates)"
   ]
  },
  {
   "cell_type": "code",
   "execution_count": 9,
   "metadata": {},
   "outputs": [
    {
     "data": {
      "text/plain": [
       "2012-06-12    0.819515\n",
       "2012-06-17   -0.333380\n",
       "2012-06-18   -0.061451\n",
       "2012-06-21   -1.013532\n",
       "2012-06-22   -0.466960\n",
       "2012-06-29   -0.113835\n",
       "dtype: float64"
      ]
     },
     "execution_count": 9,
     "metadata": {},
     "output_type": "execute_result"
    }
   ],
   "source": [
    "ts2"
   ]
  },
  {
   "cell_type": "markdown",
   "metadata": {},
   "source": [
    "If you wanted to add the “as of” values in ts1 (forward filling) to ts2. One option would be to resample both to a regular frequency then add, but if you want to maintain the date index in ts2, using reindex is a more precise solution:"
   ]
  },
  {
   "cell_type": "code",
   "execution_count": 13,
   "metadata": {},
   "outputs": [
    {
     "data": {
      "text/plain": [
       "2012-06-12   NaN\n",
       "2012-06-17   NaN\n",
       "2012-06-18   NaN\n",
       "2012-06-21   NaN\n",
       "2012-06-22   NaN\n",
       "2012-06-29   NaN\n",
       "dtype: float64"
      ]
     },
     "execution_count": 13,
     "metadata": {},
     "output_type": "execute_result"
    }
   ],
   "source": [
    "ts1.reindex(ts2.index, method = 'ffill')"
   ]
  },
  {
   "cell_type": "code",
   "execution_count": 14,
   "metadata": {},
   "outputs": [
    {
     "data": {
      "text/plain": [
       "2012-06-12   NaN\n",
       "2012-06-17   NaN\n",
       "2012-06-18   NaN\n",
       "2012-06-21   NaN\n",
       "2012-06-22   NaN\n",
       "2012-06-29   NaN\n",
       "dtype: float64"
      ]
     },
     "execution_count": 14,
     "metadata": {},
     "output_type": "execute_result"
    }
   ],
   "source": [
    "ts2 + ts1.reindex(ts2.index, method='ffill')"
   ]
  },
  {
   "cell_type": "markdown",
   "metadata": {},
   "source": [
    "### Using periods instead of timestamps\n",
    "\n",
    "Periods (representing time spans) provide an alternate means of working with different frequency time series, especially financial or economic series with annual or quarterly frequency having a particular reporting convention. For example, a company might announce its quarterly earnings with fiscal year ending in June, thus having Q-JUN frequency. Consider a pair of macroeconomic time series related to GDP and inflation:"
   ]
  },
  {
   "cell_type": "code",
   "execution_count": 15,
   "metadata": {},
   "outputs": [],
   "source": [
    "gdp = Series([1.78, 1.94, 2.08, 2.01, 2.15, 2.31, 2.46],\n",
    "            index=pd.period_range('1984Q2', periods=7, freq='Q-SEP'))"
   ]
  },
  {
   "cell_type": "code",
   "execution_count": 17,
   "metadata": {},
   "outputs": [],
   "source": [
    "infl = Series([0.025, 0.045, 0.037, 0.04],\n",
    "            index=pd.period_range('1982', periods=4, freq='A-DEC'))"
   ]
  },
  {
   "cell_type": "code",
   "execution_count": 20,
   "metadata": {},
   "outputs": [
    {
     "name": "stdout",
     "output_type": "stream",
     "text": [
      "1984Q2    1.78\n",
      "1984Q3    1.94\n",
      "1984Q4    2.08\n",
      "1985Q1    2.01\n",
      "1985Q2    2.15\n",
      "1985Q3    2.31\n",
      "1985Q4    2.46\n",
      "Freq: Q-SEP, dtype: float64 \n",
      "\n",
      "\n",
      " 1982    0.025\n",
      "1983    0.045\n",
      "1984    0.037\n",
      "1985    0.040\n",
      "Freq: A-DEC, dtype: float64\n"
     ]
    }
   ],
   "source": [
    "print(gdp,'\\n\\n\\n', infl)"
   ]
  },
  {
   "cell_type": "markdown",
   "metadata": {},
   "source": [
    "Unlike time series with timestamps, operations between different-frequency time series\n",
    "indexed by periods are not possible without explicit conversions. In this case, if we\n",
    "know that infl values were observed at the end of each year, we can then convert to *Q-SEP* to get the right periods in that frequency:"
   ]
  },
  {
   "cell_type": "code",
   "execution_count": 21,
   "metadata": {},
   "outputs": [],
   "source": [
    "infl_q = infl.asfreq('Q-Sep', how = 'end')"
   ]
  },
  {
   "cell_type": "code",
   "execution_count": 22,
   "metadata": {},
   "outputs": [
    {
     "data": {
      "text/plain": [
       "1983Q1    0.025\n",
       "1984Q1    0.045\n",
       "1985Q1    0.037\n",
       "1986Q1    0.040\n",
       "Freq: Q-SEP, dtype: float64"
      ]
     },
     "execution_count": 22,
     "metadata": {},
     "output_type": "execute_result"
    }
   ],
   "source": [
    "infl_q"
   ]
  },
  {
   "cell_type": "markdown",
   "metadata": {},
   "source": [
    "That time series can then be reindexed with forward-filling to match gdp:"
   ]
  },
  {
   "cell_type": "code",
   "execution_count": 24,
   "metadata": {},
   "outputs": [
    {
     "data": {
      "text/plain": [
       "1984Q2      NaN\n",
       "1984Q3      NaN\n",
       "1984Q4      NaN\n",
       "1985Q1    0.037\n",
       "1985Q2      NaN\n",
       "1985Q3      NaN\n",
       "1985Q4      NaN\n",
       "Freq: Q-SEP, dtype: float64"
      ]
     },
     "execution_count": 24,
     "metadata": {},
     "output_type": "execute_result"
    }
   ],
   "source": [
    "infl_q.reindex(gdp.index)"
   ]
  },
  {
   "cell_type": "code",
   "execution_count": 25,
   "metadata": {},
   "outputs": [
    {
     "data": {
      "text/plain": [
       "1984Q2    0.045\n",
       "1984Q3    0.045\n",
       "1984Q4    0.045\n",
       "1985Q1    0.037\n",
       "1985Q2    0.037\n",
       "1985Q3    0.037\n",
       "1985Q4    0.037\n",
       "Freq: Q-SEP, dtype: float64"
      ]
     },
     "execution_count": 25,
     "metadata": {},
     "output_type": "execute_result"
    }
   ],
   "source": [
    "infl_q.reindex(gdp.index, method='ffill')"
   ]
  }
 ],
 "metadata": {
  "kernelspec": {
   "display_name": "Python 3.10.7 64-bit (microsoft store)",
   "language": "python",
   "name": "python3"
  },
  "language_info": {
   "codemirror_mode": {
    "name": "ipython",
    "version": 3
   },
   "file_extension": ".py",
   "mimetype": "text/x-python",
   "name": "python",
   "nbconvert_exporter": "python",
   "pygments_lexer": "ipython3",
   "version": "3.10.7"
  },
  "orig_nbformat": 4,
  "vscode": {
   "interpreter": {
    "hash": "ffea71f7b71092eabe4cd0b8ca5f97eab7e23656a5f6413a198e81db1d0ce6b2"
   }
  }
 },
 "nbformat": 4,
 "nbformat_minor": 2
}

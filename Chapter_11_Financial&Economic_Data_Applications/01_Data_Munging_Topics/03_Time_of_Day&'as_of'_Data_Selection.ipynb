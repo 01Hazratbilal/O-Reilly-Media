{
 "cells": [
  {
   "cell_type": "markdown",
   "metadata": {},
   "source": [
    "# Time of Day and “as of” Data Selection\n",
    "\n",
    "Suppose you have a long time series containing intraday market data and you want to extract the prices at a particular time of day on each day of the data. What if the data are irregular such that observations do not fall exactly on the desired time? In practice this task can make for error-prone data munging if you are not careful. Here is an example for illustration purposes:"
   ]
  },
  {
   "cell_type": "code",
   "execution_count": 1,
   "metadata": {},
   "outputs": [],
   "source": [
    "import pandas as pd\n",
    "import numpy as np\n",
    "from pandas import DataFrame, Series"
   ]
  },
  {
   "cell_type": "code",
   "execution_count": 2,
   "metadata": {},
   "outputs": [],
   "source": [
    "# Make an intraday date range and time series\n",
    "\n",
    "rng = pd.date_range('01-06-2022 09:30', '01-06-2022 15:59', freq= 'T')"
   ]
  },
  {
   "cell_type": "code",
   "execution_count": 3,
   "metadata": {},
   "outputs": [],
   "source": [
    "# Make a 5-day series of 9:30-15:59 values\n",
    "\n",
    "rng = rng.append([rng + pd.offsets.BDay(i) for i in range(1, 4)])"
   ]
  },
  {
   "cell_type": "code",
   "execution_count": 4,
   "metadata": {},
   "outputs": [],
   "source": [
    "ts = Series(np.arange(len(rng), dtype=float), index = rng)"
   ]
  },
  {
   "cell_type": "code",
   "execution_count": 5,
   "metadata": {},
   "outputs": [
    {
     "data": {
      "text/plain": [
       "2022-01-06 09:30:00       0.0\n",
       "2022-01-06 09:31:00       1.0\n",
       "2022-01-06 09:32:00       2.0\n",
       "2022-01-06 09:33:00       3.0\n",
       "2022-01-06 09:34:00       4.0\n",
       "                        ...  \n",
       "2022-01-11 15:55:00    1555.0\n",
       "2022-01-11 15:56:00    1556.0\n",
       "2022-01-11 15:57:00    1557.0\n",
       "2022-01-11 15:58:00    1558.0\n",
       "2022-01-11 15:59:00    1559.0\n",
       "Length: 1560, dtype: float64"
      ]
     },
     "execution_count": 5,
     "metadata": {},
     "output_type": "execute_result"
    }
   ],
   "source": [
    "ts"
   ]
  },
  {
   "cell_type": "markdown",
   "metadata": {},
   "source": [
    "Indexing with a Python datetime.time object will extract values at those times:"
   ]
  },
  {
   "cell_type": "code",
   "execution_count": 6,
   "metadata": {},
   "outputs": [],
   "source": [
    "from datetime import  time"
   ]
  },
  {
   "cell_type": "code",
   "execution_count": 7,
   "metadata": {},
   "outputs": [
    {
     "data": {
      "text/plain": [
       "2022-01-06 12:00:00     150.0\n",
       "2022-01-07 12:00:00     540.0\n",
       "2022-01-10 12:00:00     930.0\n",
       "2022-01-11 12:00:00    1320.0\n",
       "dtype: float64"
      ]
     },
     "execution_count": 7,
     "metadata": {},
     "output_type": "execute_result"
    }
   ],
   "source": [
    "ts[time(12, 00)]"
   ]
  },
  {
   "cell_type": "markdown",
   "metadata": {},
   "source": [
    "Under the hood, this uses an instance method at_time (available on individual time series and DataFrame objects alike):"
   ]
  },
  {
   "cell_type": "code",
   "execution_count": 8,
   "metadata": {},
   "outputs": [
    {
     "data": {
      "text/plain": [
       "2022-01-06 10:00:00      30.0\n",
       "2022-01-07 10:00:00     420.0\n",
       "2022-01-10 10:00:00     810.0\n",
       "2022-01-11 10:00:00    1200.0\n",
       "dtype: float64"
      ]
     },
     "execution_count": 8,
     "metadata": {},
     "output_type": "execute_result"
    }
   ],
   "source": [
    "ts.at_time(time(10,0))"
   ]
  },
  {
   "cell_type": "markdown",
   "metadata": {},
   "source": [
    "YOu can select values between two times using the related between_time method:"
   ]
  },
  {
   "cell_type": "code",
   "execution_count": 9,
   "metadata": {},
   "outputs": [
    {
     "data": {
      "text/plain": [
       "2022-01-06 10:00:00      30.0\n",
       "2022-01-06 10:01:00      31.0\n",
       "2022-01-06 10:02:00      32.0\n",
       "2022-01-06 10:03:00      33.0\n",
       "2022-01-06 10:04:00      34.0\n",
       "2022-01-06 10:05:00      35.0\n",
       "2022-01-07 10:00:00     420.0\n",
       "2022-01-07 10:01:00     421.0\n",
       "2022-01-07 10:02:00     422.0\n",
       "2022-01-07 10:03:00     423.0\n",
       "2022-01-07 10:04:00     424.0\n",
       "2022-01-07 10:05:00     425.0\n",
       "2022-01-10 10:00:00     810.0\n",
       "2022-01-10 10:01:00     811.0\n",
       "2022-01-10 10:02:00     812.0\n",
       "2022-01-10 10:03:00     813.0\n",
       "2022-01-10 10:04:00     814.0\n",
       "2022-01-10 10:05:00     815.0\n",
       "2022-01-11 10:00:00    1200.0\n",
       "2022-01-11 10:01:00    1201.0\n",
       "2022-01-11 10:02:00    1202.0\n",
       "2022-01-11 10:03:00    1203.0\n",
       "2022-01-11 10:04:00    1204.0\n",
       "2022-01-11 10:05:00    1205.0\n",
       "dtype: float64"
      ]
     },
     "execution_count": 9,
     "metadata": {},
     "output_type": "execute_result"
    }
   ],
   "source": [
    "ts.between_time(time(10,00), time(10, 5))"
   ]
  },
  {
   "cell_type": "markdown",
   "metadata": {},
   "source": [
    "As mentioned above, it might be the case that no data actually fall exactly at a time like 10 AM, but you might want to know the last known value at 10 AM:"
   ]
  },
  {
   "cell_type": "code",
   "execution_count": 10,
   "metadata": {},
   "outputs": [],
   "source": [
    "# Set most of the time series randomly to NA\n",
    "\n",
    "indexer = np.sort(np.random.permutation(len(ts))[700:])"
   ]
  },
  {
   "cell_type": "code",
   "execution_count": 11,
   "metadata": {},
   "outputs": [
    {
     "data": {
      "text/plain": [
       "array([ 2,  3,  5,  7,  8,  9, 14, 15, 16, 17])"
      ]
     },
     "execution_count": 11,
     "metadata": {},
     "output_type": "execute_result"
    }
   ],
   "source": [
    "indexer[:10]"
   ]
  },
  {
   "cell_type": "code",
   "execution_count": 12,
   "metadata": {},
   "outputs": [],
   "source": [
    "irr_ts = ts.copy()"
   ]
  },
  {
   "cell_type": "code",
   "execution_count": 13,
   "metadata": {},
   "outputs": [],
   "source": [
    "irr_ts[indexer] = np.nan"
   ]
  },
  {
   "cell_type": "code",
   "execution_count": 16,
   "metadata": {},
   "outputs": [
    {
     "data": {
      "text/plain": [
       "2022-01-06 09:30:00       0.0\n",
       "2022-01-06 09:31:00       1.0\n",
       "2022-01-06 09:32:00       NaN\n",
       "2022-01-06 09:33:00       NaN\n",
       "2022-01-06 09:34:00       4.0\n",
       "                        ...  \n",
       "2022-01-11 15:55:00    1555.0\n",
       "2022-01-11 15:56:00       NaN\n",
       "2022-01-11 15:57:00    1557.0\n",
       "2022-01-11 15:58:00       NaN\n",
       "2022-01-11 15:59:00       NaN\n",
       "Length: 1560, dtype: float64"
      ]
     },
     "execution_count": 16,
     "metadata": {},
     "output_type": "execute_result"
    }
   ],
   "source": [
    "irr_ts"
   ]
  },
  {
   "cell_type": "markdown",
   "metadata": {},
   "source": [
    "By passing an array of timestamps to the asof method, you will obtain an array of the last valid (non-NA) values at or before each timestamp. So we construct a date range at 10 AM for each day and pass that to asof:"
   ]
  },
  {
   "cell_type": "code",
   "execution_count": 19,
   "metadata": {},
   "outputs": [],
   "source": [
    "selection = pd.date_range('01-06-2022', periods=4, freq='D')"
   ]
  },
  {
   "cell_type": "code",
   "execution_count": 21,
   "metadata": {},
   "outputs": [
    {
     "data": {
      "text/plain": [
       "2022-01-06      NaN\n",
       "2022-01-07    387.0\n",
       "2022-01-08    779.0\n",
       "2022-01-09    779.0\n",
       "Freq: D, dtype: float64"
      ]
     },
     "execution_count": 21,
     "metadata": {},
     "output_type": "execute_result"
    }
   ],
   "source": [
    "irr_ts.asof(selection)"
   ]
  }
 ],
 "metadata": {
  "kernelspec": {
   "display_name": "Python 3.10.7 64-bit (microsoft store)",
   "language": "python",
   "name": "python3"
  },
  "language_info": {
   "codemirror_mode": {
    "name": "ipython",
    "version": 3
   },
   "file_extension": ".py",
   "mimetype": "text/x-python",
   "name": "python",
   "nbconvert_exporter": "python",
   "pygments_lexer": "ipython3",
   "version": "3.10.7"
  },
  "orig_nbformat": 4,
  "vscode": {
   "interpreter": {
    "hash": "ffea71f7b71092eabe4cd0b8ca5f97eab7e23656a5f6413a198e81db1d0ce6b2"
   }
  }
 },
 "nbformat": 4,
 "nbformat_minor": 2
}

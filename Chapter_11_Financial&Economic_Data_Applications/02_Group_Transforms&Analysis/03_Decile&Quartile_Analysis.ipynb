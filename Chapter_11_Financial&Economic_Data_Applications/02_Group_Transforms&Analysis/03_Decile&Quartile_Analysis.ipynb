{
 "cells": [
  {
   "cell_type": "markdown",
   "metadata": {},
   "source": [
    "# Decile and Quartile Analysis\n",
    "\n",
    "Analyzing data based on sample quantiles is another important tool for financial analysts. For example, the performance of a stock portfolio could be broken down into quartiles (four equal-sized chunks) based on each stock’s price-to-earnings. Using pan das.qcut combined with groupby makes quantile analysis reasonably straightforward.\n",
    "\n",
    "As an example, let’s consider a simple trend following or momentum strategy trading the S&P 500 index via the SPY exchange-traded fund. You can download the price history from Yahoo! Finance:"
   ]
  },
  {
   "cell_type": "code",
   "execution_count": 45,
   "metadata": {},
   "outputs": [],
   "source": [
    "from pandas_datareader import data\n",
    "import pandas as pd\n",
    "import numpy as np"
   ]
  },
  {
   "cell_type": "code",
   "execution_count": 46,
   "metadata": {},
   "outputs": [],
   "source": [
    "dta = pd.read_csv('../../../CSV Files/O_Reilly/ch11/yahoo_data(SPY).csv')"
   ]
  },
  {
   "cell_type": "code",
   "execution_count": 47,
   "metadata": {},
   "outputs": [],
   "source": [
    "# dta = data.get_data_yahoo('SPY', '2006/01/01')"
   ]
  },
  {
   "cell_type": "code",
   "execution_count": 48,
   "metadata": {},
   "outputs": [
    {
     "data": {
      "text/plain": [
       "(<bound method DataFrame.info of       Unnamed: 0        Date        High         Low        Open       Close  \\\n",
       " 0              0  2006-01-03  127.000000  124.389999  125.190002  126.699997   \n",
       " 1              1  2006-01-04  127.489998  126.699997  126.860001  127.300003   \n",
       " 2              2  2006-01-05  127.589996  126.879997  127.150002  127.379997   \n",
       " 3              3  2006-01-06  128.580002  127.360001  128.020004  128.440002   \n",
       " 4              4  2006-01-09  129.059998  128.380005  128.419998  128.770004   \n",
       " ...          ...         ...         ...         ...         ...         ...   \n",
       " 4201        4201  2022-09-12  411.730011  408.459991  408.779999  410.970001   \n",
       " 4202        4202  2022-09-13  403.100006  391.920013  401.829987  393.100006   \n",
       " 4203        4203  2022-09-14  396.200012  391.119995  394.470001  394.600006   \n",
       " 4204        4204  2022-09-15  395.959991  388.779999  392.959991  390.119995   \n",
       " 4205        4205  2022-09-16  385.879913  382.109985  384.140015  383.325012   \n",
       " \n",
       "            Volume   Adj Close  \n",
       " 0      73256700.0   91.780914  \n",
       " 1      51899600.0   92.215576  \n",
       " 2      47307500.0   92.273499  \n",
       " 3      62885900.0   93.041389  \n",
       " 4      43527400.0   93.280411  \n",
       " ...           ...         ...  \n",
       " 4201   69256300.0  410.970001  \n",
       " 4202  122947100.0  393.100006  \n",
       " 4203   85023700.0  394.600006  \n",
       " 4204   87350200.0  390.119995  \n",
       " 4205   51666077.0  383.325012  \n",
       " \n",
       " [4206 rows x 8 columns]>,\n",
       " Index(['Unnamed: 0', 'Date', 'High', 'Low', 'Open', 'Close', 'Volume',\n",
       "        'Adj Close'],\n",
       "       dtype='object'))"
      ]
     },
     "execution_count": 48,
     "metadata": {},
     "output_type": "execute_result"
    }
   ],
   "source": [
    "dta.info, dta.columns"
   ]
  },
  {
   "cell_type": "code",
   "execution_count": 49,
   "metadata": {},
   "outputs": [],
   "source": [
    "dta.to_csv('../../../CSV Files/O_Reilly/ch11/yahoo_data(SPY).csv')"
   ]
  },
  {
   "cell_type": "markdown",
   "metadata": {},
   "source": [
    "Now, we’ll compute daily returns and a function for transforming the returns into a trend signal formed from a lagged moving sum:"
   ]
  },
  {
   "cell_type": "code",
   "execution_count": 50,
   "metadata": {},
   "outputs": [],
   "source": [
    "px = dta['Adj Close']\n",
    "\n",
    "returns = px.pct_change()"
   ]
  },
  {
   "cell_type": "code",
   "execution_count": 51,
   "metadata": {},
   "outputs": [],
   "source": [
    "def to_index(rets):\n",
    "    index = (1 + rets).cumprod()\n",
    "    first_loc = max(index.notnull().argmax() -1, 0)\n",
    "    index.values[first_loc] = 1\n",
    "    return index"
   ]
  },
  {
   "cell_type": "code",
   "execution_count": 52,
   "metadata": {},
   "outputs": [],
   "source": [
    "def trend_signal(rets, lookback, lag):\n",
    "    signal = rets.rolling(lookback, min_periods = lookback - 5).sum()\n",
    "    return signal.shift(lag)"
   ]
  },
  {
   "cell_type": "markdown",
   "metadata": {},
   "source": [
    "Using this function, we can (naively) create and test a trading strategy that trades this momentum signal  every Friday:"
   ]
  },
  {
   "cell_type": "code",
   "execution_count": 87,
   "metadata": {},
   "outputs": [
    {
     "data": {
      "text/plain": [
       "0             NaT\n",
       "1             NaT\n",
       "2             NaT\n",
       "3             NaT\n",
       "4             NaT\n",
       "          ...    \n",
       "4201   1970-01-01\n",
       "4202   1970-01-01\n",
       "4203   1970-01-01\n",
       "4204   1970-01-01\n",
       "4205   1970-01-01\n",
       "Name: Adj Close, Length: 4206, dtype: datetime64[ns]"
      ]
     },
     "execution_count": 87,
     "metadata": {},
     "output_type": "execute_result"
    }
   ],
   "source": [
    "pd.to_datetime(signal)"
   ]
  },
  {
   "cell_type": "code",
   "execution_count": 53,
   "metadata": {},
   "outputs": [],
   "source": [
    "signal = trend_signal(returns, 100, 3)"
   ]
  },
  {
   "cell_type": "code",
   "execution_count": 75,
   "metadata": {},
   "outputs": [],
   "source": [
    "aa = pd.DataFrame(pd.to_datetime(signal))\n",
    "\n",
    "bb = aa.dropna()"
   ]
  },
  {
   "cell_type": "code",
   "execution_count": 95,
   "metadata": {},
   "outputs": [
    {
     "ename": "TypeError",
     "evalue": "Only valid with DatetimeIndex, TimedeltaIndex or PeriodIndex, but got an instance of 'Int64Index'",
     "output_type": "error",
     "traceback": [
      "\u001b[1;31m---------------------------------------------------------------------------\u001b[0m",
      "\u001b[1;31mTypeError\u001b[0m                                 Traceback (most recent call last)",
      "Cell \u001b[1;32mIn [95], line 1\u001b[0m\n\u001b[1;32m----> 1\u001b[0m trade_friday \u001b[38;5;241m=\u001b[39m \u001b[43mbb\u001b[49m\u001b[38;5;241;43m.\u001b[39;49m\u001b[43mresample\u001b[49m\u001b[43m(\u001b[49m\u001b[38;5;124;43m'\u001b[39;49m\u001b[38;5;124;43mB\u001b[39;49m\u001b[38;5;124;43m'\u001b[39;49m\u001b[43m)\u001b[49m\n",
      "File \u001b[1;32m~\\AppData\\Local\\Packages\\PythonSoftwareFoundation.Python.3.10_qbz5n2kfra8p0\\LocalCache\\local-packages\\Python310\\site-packages\\pandas\\core\\frame.py:10550\u001b[0m, in \u001b[0;36mDataFrame.resample\u001b[1;34m(self, rule, axis, closed, label, convention, kind, loffset, base, on, level, origin, offset)\u001b[0m\n\u001b[0;32m  10534\u001b[0m \u001b[39m@doc\u001b[39m(NDFrame\u001b[39m.\u001b[39mresample, \u001b[39m*\u001b[39m\u001b[39m*\u001b[39m_shared_doc_kwargs)\n\u001b[0;32m  10535\u001b[0m \u001b[39mdef\u001b[39;00m \u001b[39mresample\u001b[39m(\n\u001b[0;32m  10536\u001b[0m     \u001b[39mself\u001b[39m,\n\u001b[1;32m   (...)\u001b[0m\n\u001b[0;32m  10548\u001b[0m     offset: TimedeltaConvertibleTypes \u001b[39m|\u001b[39m \u001b[39mNone\u001b[39;00m \u001b[39m=\u001b[39m \u001b[39mNone\u001b[39;00m,\n\u001b[0;32m  10549\u001b[0m ) \u001b[39m-\u001b[39m\u001b[39m>\u001b[39m Resampler:\n\u001b[1;32m> 10550\u001b[0m     \u001b[39mreturn\u001b[39;00m \u001b[39msuper\u001b[39;49m()\u001b[39m.\u001b[39;49mresample(\n\u001b[0;32m  10551\u001b[0m         rule\u001b[39m=\u001b[39;49mrule,\n\u001b[0;32m  10552\u001b[0m         axis\u001b[39m=\u001b[39;49maxis,\n\u001b[0;32m  10553\u001b[0m         closed\u001b[39m=\u001b[39;49mclosed,\n\u001b[0;32m  10554\u001b[0m         label\u001b[39m=\u001b[39;49mlabel,\n\u001b[0;32m  10555\u001b[0m         convention\u001b[39m=\u001b[39;49mconvention,\n\u001b[0;32m  10556\u001b[0m         kind\u001b[39m=\u001b[39;49mkind,\n\u001b[0;32m  10557\u001b[0m         loffset\u001b[39m=\u001b[39;49mloffset,\n\u001b[0;32m  10558\u001b[0m         base\u001b[39m=\u001b[39;49mbase,\n\u001b[0;32m  10559\u001b[0m         on\u001b[39m=\u001b[39;49mon,\n\u001b[0;32m  10560\u001b[0m         level\u001b[39m=\u001b[39;49mlevel,\n\u001b[0;32m  10561\u001b[0m         origin\u001b[39m=\u001b[39;49morigin,\n\u001b[0;32m  10562\u001b[0m         offset\u001b[39m=\u001b[39;49moffset,\n\u001b[0;32m  10563\u001b[0m     )\n",
      "File \u001b[1;32m~\\AppData\\Local\\Packages\\PythonSoftwareFoundation.Python.3.10_qbz5n2kfra8p0\\LocalCache\\local-packages\\Python310\\site-packages\\pandas\\core\\generic.py:8313\u001b[0m, in \u001b[0;36mNDFrame.resample\u001b[1;34m(self, rule, axis, closed, label, convention, kind, loffset, base, on, level, origin, offset)\u001b[0m\n\u001b[0;32m   8310\u001b[0m \u001b[39mfrom\u001b[39;00m \u001b[39mpandas\u001b[39;00m\u001b[39m.\u001b[39;00m\u001b[39mcore\u001b[39;00m\u001b[39m.\u001b[39;00m\u001b[39mresample\u001b[39;00m \u001b[39mimport\u001b[39;00m get_resampler\n\u001b[0;32m   8312\u001b[0m axis \u001b[39m=\u001b[39m \u001b[39mself\u001b[39m\u001b[39m.\u001b[39m_get_axis_number(axis)\n\u001b[1;32m-> 8313\u001b[0m \u001b[39mreturn\u001b[39;00m get_resampler(\n\u001b[0;32m   8314\u001b[0m     \u001b[39mself\u001b[39;49m,\n\u001b[0;32m   8315\u001b[0m     freq\u001b[39m=\u001b[39;49mrule,\n\u001b[0;32m   8316\u001b[0m     label\u001b[39m=\u001b[39;49mlabel,\n\u001b[0;32m   8317\u001b[0m     closed\u001b[39m=\u001b[39;49mclosed,\n\u001b[0;32m   8318\u001b[0m     axis\u001b[39m=\u001b[39;49maxis,\n\u001b[0;32m   8319\u001b[0m     kind\u001b[39m=\u001b[39;49mkind,\n\u001b[0;32m   8320\u001b[0m     loffset\u001b[39m=\u001b[39;49mloffset,\n\u001b[0;32m   8321\u001b[0m     convention\u001b[39m=\u001b[39;49mconvention,\n\u001b[0;32m   8322\u001b[0m     base\u001b[39m=\u001b[39;49mbase,\n\u001b[0;32m   8323\u001b[0m     key\u001b[39m=\u001b[39;49mon,\n\u001b[0;32m   8324\u001b[0m     level\u001b[39m=\u001b[39;49mlevel,\n\u001b[0;32m   8325\u001b[0m     origin\u001b[39m=\u001b[39;49morigin,\n\u001b[0;32m   8326\u001b[0m     offset\u001b[39m=\u001b[39;49moffset,\n\u001b[0;32m   8327\u001b[0m )\n",
      "File \u001b[1;32m~\\AppData\\Local\\Packages\\PythonSoftwareFoundation.Python.3.10_qbz5n2kfra8p0\\LocalCache\\local-packages\\Python310\\site-packages\\pandas\\core\\resample.py:1423\u001b[0m, in \u001b[0;36mget_resampler\u001b[1;34m(obj, kind, **kwds)\u001b[0m\n\u001b[0;32m   1419\u001b[0m \u001b[39m\"\"\"\u001b[39;00m\n\u001b[0;32m   1420\u001b[0m \u001b[39mCreate a TimeGrouper and return our resampler.\u001b[39;00m\n\u001b[0;32m   1421\u001b[0m \u001b[39m\"\"\"\u001b[39;00m\n\u001b[0;32m   1422\u001b[0m tg \u001b[39m=\u001b[39m TimeGrouper(\u001b[39m*\u001b[39m\u001b[39m*\u001b[39mkwds)\n\u001b[1;32m-> 1423\u001b[0m \u001b[39mreturn\u001b[39;00m tg\u001b[39m.\u001b[39;49m_get_resampler(obj, kind\u001b[39m=\u001b[39;49mkind)\n",
      "File \u001b[1;32m~\\AppData\\Local\\Packages\\PythonSoftwareFoundation.Python.3.10_qbz5n2kfra8p0\\LocalCache\\local-packages\\Python310\\site-packages\\pandas\\core\\resample.py:1599\u001b[0m, in \u001b[0;36mTimeGrouper._get_resampler\u001b[1;34m(self, obj, kind)\u001b[0m\n\u001b[0;32m   1596\u001b[0m \u001b[39melif\u001b[39;00m \u001b[39misinstance\u001b[39m(ax, TimedeltaIndex):\n\u001b[0;32m   1597\u001b[0m     \u001b[39mreturn\u001b[39;00m TimedeltaIndexResampler(obj, groupby\u001b[39m=\u001b[39m\u001b[39mself\u001b[39m, axis\u001b[39m=\u001b[39m\u001b[39mself\u001b[39m\u001b[39m.\u001b[39maxis)\n\u001b[1;32m-> 1599\u001b[0m \u001b[39mraise\u001b[39;00m \u001b[39mTypeError\u001b[39;00m(\n\u001b[0;32m   1600\u001b[0m     \u001b[39m\"\u001b[39m\u001b[39mOnly valid with DatetimeIndex, \u001b[39m\u001b[39m\"\u001b[39m\n\u001b[0;32m   1601\u001b[0m     \u001b[39m\"\u001b[39m\u001b[39mTimedeltaIndex or PeriodIndex, \u001b[39m\u001b[39m\"\u001b[39m\n\u001b[0;32m   1602\u001b[0m     \u001b[39mf\u001b[39m\u001b[39m\"\u001b[39m\u001b[39mbut got an instance of \u001b[39m\u001b[39m'\u001b[39m\u001b[39m{\u001b[39;00m\u001b[39mtype\u001b[39m(ax)\u001b[39m.\u001b[39m\u001b[39m__name__\u001b[39m\u001b[39m}\u001b[39;00m\u001b[39m'\u001b[39m\u001b[39m\"\u001b[39m\n\u001b[0;32m   1603\u001b[0m )\n",
      "\u001b[1;31mTypeError\u001b[0m: Only valid with DatetimeIndex, TimedeltaIndex or PeriodIndex, but got an instance of 'Int64Index'"
     ]
    }
   ],
   "source": [
    "\n",
    "trade_friday = bb.resample('B')"
   ]
  },
  {
   "cell_type": "code",
   "execution_count": 55,
   "metadata": {},
   "outputs": [
    {
     "ename": "NameError",
     "evalue": "name 'trade_friday' is not defined",
     "output_type": "error",
     "traceback": [
      "\u001b[1;31m---------------------------------------------------------------------------\u001b[0m",
      "\u001b[1;31mNameError\u001b[0m                                 Traceback (most recent call last)",
      "Cell \u001b[1;32mIn [55], line 1\u001b[0m\n\u001b[1;32m----> 1\u001b[0m trade_rets \u001b[38;5;241m=\u001b[39m \u001b[43mtrade_friday\u001b[49m\u001b[38;5;241m.\u001b[39mshift(\u001b[38;5;241m1\u001b[39m) \u001b[38;5;241m*\u001b[39m returns\n",
      "\u001b[1;31mNameError\u001b[0m: name 'trade_friday' is not defined"
     ]
    }
   ],
   "source": [
    "trade_rets = trade_friday.shift(1) * returns"
   ]
  },
  {
   "cell_type": "markdown",
   "metadata": {},
   "source": [
    "We can then convert the strategy returns to a return index an plot them:"
   ]
  },
  {
   "cell_type": "code",
   "execution_count": null,
   "metadata": {},
   "outputs": [],
   "source": [
    "to_index(trade_rets).plot()"
   ]
  },
  {
   "cell_type": "markdown",
   "metadata": {},
   "source": [
    "Suppose you wanted to decompose the strategy performance into more and less volatile periods of trading. Trailing one-year annualized standard deviation is a simple measure of volatility, and we can compute Sharpe ratios to assess the reward-to-risk ratio in various volatility regimes:"
   ]
  },
  {
   "cell_type": "code",
   "execution_count": null,
   "metadata": {},
   "outputs": [],
   "source": [
    "vol = pd.rolling_std(returns, 250, min_periods = 200)* np.sqrt(250)"
   ]
  },
  {
   "cell_type": "code",
   "execution_count": null,
   "metadata": {},
   "outputs": [],
   "source": [
    "def sharpe(rets, ann = 250):\n",
    "    return rets.mean()/ rets.std() * np.sqrt(ann)"
   ]
  },
  {
   "cell_type": "markdown",
   "metadata": {},
   "source": [
    "Now, dividing vol into quartiles with qcut and aggregating with sharpe we obtain:"
   ]
  },
  {
   "cell_type": "code",
   "execution_count": null,
   "metadata": {},
   "outputs": [],
   "source": [
    "trade_rets.groupby(pd.qcut(vol, 4)).agg(sharpe)"
   ]
  },
  {
   "cell_type": "markdown",
   "metadata": {},
   "source": [
    "These results show that the strategy performed the best during the period when the volatility was the hightest."
   ]
  }
 ],
 "metadata": {
  "kernelspec": {
   "display_name": "Python 3.10.7 64-bit (microsoft store)",
   "language": "python",
   "name": "python3"
  },
  "language_info": {
   "codemirror_mode": {
    "name": "ipython",
    "version": 3
   },
   "file_extension": ".py",
   "mimetype": "text/x-python",
   "name": "python",
   "nbconvert_exporter": "python",
   "pygments_lexer": "ipython3",
   "version": "3.10.7"
  },
  "orig_nbformat": 4,
  "vscode": {
   "interpreter": {
    "hash": "ffea71f7b71092eabe4cd0b8ca5f97eab7e23656a5f6413a198e81db1d0ce6b2"
   }
  }
 },
 "nbformat": 4,
 "nbformat_minor": 2
}

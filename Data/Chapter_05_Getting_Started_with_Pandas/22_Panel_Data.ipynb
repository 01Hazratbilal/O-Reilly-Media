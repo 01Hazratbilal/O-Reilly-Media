{
 "cells": [
  {
   "cell_type": "markdown",
   "metadata": {},
   "source": [
    "# Panel Data\n",
    "\n",
    "Pandas has a Panel data structure, which you can think of as a three-dimensional analogue of DataFrame. Much of the development focus of pandas has been in tabular data manipulations as these are easier to reason about, and hierarchical indexing makes using truly N-dimensional arrays unnecessary in a lot of cases."
   ]
  },
  {
   "cell_type": "markdown",
   "metadata": {},
   "source": [
    "To create a Panel, you can use a dict of DataFrame objects or a three-dimensional ndarray:"
   ]
  },
  {
   "cell_type": "code",
   "execution_count": 24,
   "metadata": {},
   "outputs": [],
   "source": [
    "import pandas_datareader.data as web\n",
    "import yfinance\n",
    "import datetime\n",
    "import pandas as pd\n",
    "from pandas import DataFrame, Series"
   ]
  },
  {
   "cell_type": "code",
   "execution_count": 25,
   "metadata": {},
   "outputs": [],
   "source": [
    "from pandas_datareader import data as web\n",
    "import yfinance\n",
    "import datetime\n",
    "\n",
    "start = datetime.datetime(2010, 1, 1)\n",
    "end = datetime.datetime(2017, 6, 1)\n",
    "\n",
    "all_data={}\n",
    "for ticker in ['AAPL', 'IBM', 'MSFT', 'GOOGL']:\n",
    "    all_data[ticker] = web.get_data_yahoo(ticker, start, end)\n",
    "\n",
    "price = DataFrame({tic: data['Adj Close'] \n",
    "                   for tic, data in all_data.items()})\n",
    "volume = DataFrame({tic: data['Volume']\n",
    "                     for tic, data in all_data.items()})"
   ]
  },
  {
   "cell_type": "code",
   "execution_count": 38,
   "metadata": {},
   "outputs": [
    {
     "data": {
      "text/plain": [
       "{'AAPL':                  High        Low       Open      Close       Volume  Adj Close\n",
       " Date                                                                          \n",
       " 2009-12-31   7.619643   7.520000   7.611786   7.526071  352410800.0   6.434926\n",
       " 2010-01-04   7.660714   7.585000   7.622500   7.643214  493729600.0   6.535084\n",
       " 2010-01-05   7.699643   7.616071   7.664286   7.656429  601904800.0   6.546385\n",
       " 2010-01-06   7.686786   7.526786   7.656429   7.534643  552160000.0   6.442255\n",
       " 2010-01-07   7.571429   7.466071   7.562500   7.520714  477131200.0   6.430346\n",
       " ...               ...        ...        ...        ...          ...        ...\n",
       " 2017-05-25  38.587502  38.257500  38.432499  38.467499   76942400.0  36.415878\n",
       " 2017-05-26  38.560001  38.327499  38.500000  38.402500   87710400.0  36.354351\n",
       " 2017-05-30  38.607498  38.332500  38.355000  38.417500   80507600.0  36.368549\n",
       " 2017-05-31  38.542500  38.095001  38.492500  38.189999   97804800.0  36.153183\n",
       " 2017-06-01  38.332500  38.055000  38.292500  38.294998   65616400.0  36.252571\n",
       " \n",
       " [1867 rows x 6 columns],\n",
       " 'IBM':                   High         Low        Open       Close     Volume  \\\n",
       " Date                                                                    \n",
       " 2009-12-31  127.007645  125.000000  126.586998  125.143402  4417676.0   \n",
       " 2010-01-04  127.122368  125.095604  125.411087  126.625237  6438444.0   \n",
       " 2010-01-05  126.051628  124.378586  125.889099  125.095604  7156104.0   \n",
       " 2010-01-06  125.707458  124.101341  124.933075  124.282982  5863144.0   \n",
       " 2010-01-07  124.521988  123.240921  124.158699  123.852776  6109268.0   \n",
       " ...                ...         ...         ...         ...        ...   \n",
       " 2017-05-25  146.969406  146.223709  146.510513  146.462708  2701504.0   \n",
       " 2017-05-26  146.271515  145.372849  146.128113  145.783936  2555692.0   \n",
       " 2017-05-30  145.956024  144.923523  145.267685  145.057358  3834636.0   \n",
       " 2017-05-31  146.080307  144.980881  145.344162  145.917786  3706396.0   \n",
       " 2017-06-01  146.147232  144.961761  146.080307  145.956024  3052333.0   \n",
       " \n",
       "              Adj Close  \n",
       " Date                    \n",
       " 2009-12-31   82.345894  \n",
       " 2010-01-04   83.320930  \n",
       " 2010-01-05   82.314438  \n",
       " 2010-01-06   81.779732  \n",
       " 2010-01-07   81.496643  \n",
       " ...                ...  \n",
       " 2017-05-25  115.699158  \n",
       " 2017-05-26  115.162964  \n",
       " 2017-05-30  114.588982  \n",
       " 2017-05-31  115.268684  \n",
       " 2017-06-01  115.298889  \n",
       " \n",
       " [1867 rows x 6 columns],\n",
       " 'MSFT':                  High        Low       Open      Close      Volume  Adj Close\n",
       " Date                                                                         \n",
       " 2009-12-31  30.990000  30.480000  30.980000  30.480000  31929700.0  23.438799\n",
       " 2010-01-04  31.100000  30.590000  30.620001  30.950001  38409100.0  23.800224\n",
       " 2010-01-05  31.100000  30.639999  30.850000  30.959999  49749600.0  23.807911\n",
       " 2010-01-06  31.080000  30.520000  30.879999  30.770000  58182400.0  23.661810\n",
       " 2010-01-07  30.700001  30.190001  30.629999  30.450001  50559700.0  23.415730\n",
       " ...               ...        ...        ...        ...         ...        ...\n",
       " 2017-05-25  69.879997  68.910004  68.970001  69.620003  21854100.0  65.209869\n",
       " 2017-05-26  70.220001  69.519997  69.800003  69.959999  19827900.0  65.528290\n",
       " 2017-05-30  70.410004  69.769997  69.790001  70.410004  17072800.0  65.949814\n",
       " 2017-05-31  70.739998  69.809998  70.529999  69.839996  30436400.0  65.415901\n",
       " 2017-06-01  70.610001  69.449997  70.239998  70.099998  21603600.0  65.659431\n",
       " \n",
       " [1867 rows x 6 columns],\n",
       " 'GOOGL':                  High        Low       Open      Close       Volume  Adj Close\n",
       " Date                                                                          \n",
       " 2009-12-31  15.650651  15.515015  15.634384  15.515015   48743208.0  15.515015\n",
       " 2010-01-04  15.753504  15.621622  15.689439  15.684434   78169752.0  15.684434\n",
       " 2010-01-05  15.711712  15.554054  15.695195  15.615365  120067812.0  15.615365\n",
       " 2010-01-06  15.662162  15.174174  15.662162  15.221722  158988852.0  15.221722\n",
       " 2010-01-07  15.265265  14.831081  15.250250  14.867367  256315428.0  14.867367\n",
       " ...               ...        ...        ...        ...          ...        ...\n",
       " 2017-05-25  49.789001  48.890999  48.950001  49.592999   39082000.0  49.592999\n",
       " 2017-05-26  49.819500  49.368000  49.599998  49.663502   32728000.0  49.663502\n",
       " 2017-05-30  49.881001  49.568001  49.625000  49.808498   30324000.0  49.808498\n",
       " 2017-05-31  49.980000  49.084000  49.810501  49.354500   34482000.0  49.354500\n",
       " 2017-06-01  49.657001  49.064499  49.548000  49.414501   26128000.0  49.414501\n",
       " \n",
       " [1867 rows x 6 columns]}"
      ]
     },
     "execution_count": 38,
     "metadata": {},
     "output_type": "execute_result"
    }
   ],
   "source": [
    "pdata = (dict(all_data))\n",
    "\n",
    "pdata"
   ]
  }
 ],
 "metadata": {
  "kernelspec": {
   "display_name": "Python 3.10.5 64-bit (windows store)",
   "language": "python",
   "name": "python3"
  },
  "language_info": {
   "codemirror_mode": {
    "name": "ipython",
    "version": 3
   },
   "file_extension": ".py",
   "mimetype": "text/x-python",
   "name": "python",
   "nbconvert_exporter": "python",
   "pygments_lexer": "ipython3",
   "version": "3.10.5"
  },
  "orig_nbformat": 4,
  "vscode": {
   "interpreter": {
    "hash": "ffea71f7b71092eabe4cd0b8ca5f97eab7e23656a5f6413a198e81db1d0ce6b2"
   }
  }
 },
 "nbformat": 4,
 "nbformat_minor": 2
}

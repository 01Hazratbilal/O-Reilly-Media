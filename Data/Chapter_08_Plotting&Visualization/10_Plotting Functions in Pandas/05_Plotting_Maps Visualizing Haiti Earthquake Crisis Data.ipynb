{
 "cells": [
  {
   "cell_type": "markdown",
   "metadata": {},
   "source": [
    "# Plotting Maps: Visualizing Haiti Earthquake Crisis Data"
   ]
  },
  {
   "cell_type": "code",
   "execution_count": 1,
   "metadata": {},
   "outputs": [],
   "source": [
    "import pandas as pd\n",
    "import numpy as np\n",
    "import matplotlib.pyplot as plt\n",
    "from pandas import DataFrame, Series"
   ]
  },
  {
   "cell_type": "code",
   "execution_count": 2,
   "metadata": {},
   "outputs": [],
   "source": [
    "data = pd.read_csv('../../../CSV Files/O_Reilly/ch08/Haiti.csv')"
   ]
  },
  {
   "cell_type": "code",
   "execution_count": 3,
   "metadata": {},
   "outputs": [
    {
     "name": "stdout",
     "output_type": "stream",
     "text": [
      "<class 'pandas.core.frame.DataFrame'>\n",
      "RangeIndex: 3593 entries, 0 to 3592\n",
      "Data columns (total 10 columns):\n",
      " #   Column          Non-Null Count  Dtype  \n",
      "---  ------          --------------  -----  \n",
      " 0   Serial          3593 non-null   int64  \n",
      " 1   INCIDENT TITLE  3593 non-null   object \n",
      " 2   INCIDENT DATE   3593 non-null   object \n",
      " 3   LOCATION        3592 non-null   object \n",
      " 4   DESCRIPTION     3593 non-null   object \n",
      " 5   CATEGORY        3587 non-null   object \n",
      " 6   LATITUDE        3593 non-null   float64\n",
      " 7   LONGITUDE       3593 non-null   float64\n",
      " 8   APPROVED        3593 non-null   object \n",
      " 9   VERIFIED        3593 non-null   object \n",
      "dtypes: float64(2), int64(1), object(7)\n",
      "memory usage: 280.8+ KB\n"
     ]
    }
   ],
   "source": [
    "data.info()"
   ]
  },
  {
   "cell_type": "markdown",
   "metadata": {},
   "source": [
    "It’s easy now to tinker with this data set to see what kinds of things we might want to do with it. Each row represents a report sent from someone’s mobile phone indicating an emergency or some other problem. Each has an associated timestamp and a location as latitude and longitude:"
   ]
  },
  {
   "cell_type": "code",
   "execution_count": 4,
   "metadata": {},
   "outputs": [
    {
     "data": {
      "text/html": [
       "<div>\n",
       "<style scoped>\n",
       "    .dataframe tbody tr th:only-of-type {\n",
       "        vertical-align: middle;\n",
       "    }\n",
       "\n",
       "    .dataframe tbody tr th {\n",
       "        vertical-align: top;\n",
       "    }\n",
       "\n",
       "    .dataframe thead th {\n",
       "        text-align: right;\n",
       "    }\n",
       "</style>\n",
       "<table border=\"1\" class=\"dataframe\">\n",
       "  <thead>\n",
       "    <tr style=\"text-align: right;\">\n",
       "      <th></th>\n",
       "      <th>INCIDENT DATE</th>\n",
       "      <th>LATITUDE</th>\n",
       "      <th>LONGITUDE</th>\n",
       "    </tr>\n",
       "  </thead>\n",
       "  <tbody>\n",
       "    <tr>\n",
       "      <th>0</th>\n",
       "      <td>05/07/2010 17:26</td>\n",
       "      <td>18.233333</td>\n",
       "      <td>-72.533333</td>\n",
       "    </tr>\n",
       "    <tr>\n",
       "      <th>1</th>\n",
       "      <td>28/06/2010 23:06</td>\n",
       "      <td>50.226029</td>\n",
       "      <td>5.729886</td>\n",
       "    </tr>\n",
       "    <tr>\n",
       "      <th>2</th>\n",
       "      <td>24/06/2010 16:21</td>\n",
       "      <td>22.278381</td>\n",
       "      <td>114.174287</td>\n",
       "    </tr>\n",
       "    <tr>\n",
       "      <th>3</th>\n",
       "      <td>20/06/2010 21:59</td>\n",
       "      <td>44.407062</td>\n",
       "      <td>8.933989</td>\n",
       "    </tr>\n",
       "    <tr>\n",
       "      <th>4</th>\n",
       "      <td>18/05/2010 16:26</td>\n",
       "      <td>18.571084</td>\n",
       "      <td>-72.334671</td>\n",
       "    </tr>\n",
       "    <tr>\n",
       "      <th>5</th>\n",
       "      <td>26/04/2010 13:14</td>\n",
       "      <td>18.593707</td>\n",
       "      <td>-72.310079</td>\n",
       "    </tr>\n",
       "    <tr>\n",
       "      <th>6</th>\n",
       "      <td>26/04/2010 14:19</td>\n",
       "      <td>18.482800</td>\n",
       "      <td>-73.638800</td>\n",
       "    </tr>\n",
       "    <tr>\n",
       "      <th>7</th>\n",
       "      <td>26/04/2010 14:27</td>\n",
       "      <td>18.415000</td>\n",
       "      <td>-73.195000</td>\n",
       "    </tr>\n",
       "    <tr>\n",
       "      <th>8</th>\n",
       "      <td>15/03/2010 10:58</td>\n",
       "      <td>18.517443</td>\n",
       "      <td>-72.236841</td>\n",
       "    </tr>\n",
       "    <tr>\n",
       "      <th>9</th>\n",
       "      <td>15/03/2010 11:00</td>\n",
       "      <td>18.547790</td>\n",
       "      <td>-72.410010</td>\n",
       "    </tr>\n",
       "  </tbody>\n",
       "</table>\n",
       "</div>"
      ],
      "text/plain": [
       "      INCIDENT DATE   LATITUDE   LONGITUDE\n",
       "0  05/07/2010 17:26  18.233333  -72.533333\n",
       "1  28/06/2010 23:06  50.226029    5.729886\n",
       "2  24/06/2010 16:21  22.278381  114.174287\n",
       "3  20/06/2010 21:59  44.407062    8.933989\n",
       "4  18/05/2010 16:26  18.571084  -72.334671\n",
       "5  26/04/2010 13:14  18.593707  -72.310079\n",
       "6  26/04/2010 14:19  18.482800  -73.638800\n",
       "7  26/04/2010 14:27  18.415000  -73.195000\n",
       "8  15/03/2010 10:58  18.517443  -72.236841\n",
       "9  15/03/2010 11:00  18.547790  -72.410010"
      ]
     },
     "execution_count": 4,
     "metadata": {},
     "output_type": "execute_result"
    }
   ],
   "source": [
    "data[['INCIDENT DATE', 'LATITUDE', 'LONGITUDE']][:10]"
   ]
  },
  {
   "cell_type": "markdown",
   "metadata": {},
   "source": [
    "The CATEGORY field contains a comma-separated list of codes indicating the type of message:"
   ]
  },
  {
   "cell_type": "code",
   "execution_count": 5,
   "metadata": {},
   "outputs": [
    {
     "data": {
      "text/plain": [
       "0          1. Urgences | Emergency, 3. Public Health, \n",
       "1    1. Urgences | Emergency, 2. Urgences logistiqu...\n",
       "2    2. Urgences logistiques | Vital Lines, 8. Autr...\n",
       "3                            1. Urgences | Emergency, \n",
       "4                            1. Urgences | Emergency, \n",
       "Name: CATEGORY, dtype: object"
      ]
     },
     "execution_count": 5,
     "metadata": {},
     "output_type": "execute_result"
    }
   ],
   "source": [
    "data['CATEGORY'][:5]"
   ]
  },
  {
   "cell_type": "markdown",
   "metadata": {},
   "source": [
    "If you notice above in the data summary, some of the categories are missing, so we might want to drop these data points. Additionally, calling describe shows that there are some aberrant locations:"
   ]
  },
  {
   "cell_type": "code",
   "execution_count": 6,
   "metadata": {},
   "outputs": [
    {
     "data": {
      "text/html": [
       "<div>\n",
       "<style scoped>\n",
       "    .dataframe tbody tr th:only-of-type {\n",
       "        vertical-align: middle;\n",
       "    }\n",
       "\n",
       "    .dataframe tbody tr th {\n",
       "        vertical-align: top;\n",
       "    }\n",
       "\n",
       "    .dataframe thead th {\n",
       "        text-align: right;\n",
       "    }\n",
       "</style>\n",
       "<table border=\"1\" class=\"dataframe\">\n",
       "  <thead>\n",
       "    <tr style=\"text-align: right;\">\n",
       "      <th></th>\n",
       "      <th>Serial</th>\n",
       "      <th>LATITUDE</th>\n",
       "      <th>LONGITUDE</th>\n",
       "    </tr>\n",
       "  </thead>\n",
       "  <tbody>\n",
       "    <tr>\n",
       "      <th>count</th>\n",
       "      <td>3593.000000</td>\n",
       "      <td>3593.000000</td>\n",
       "      <td>3593.000000</td>\n",
       "    </tr>\n",
       "    <tr>\n",
       "      <th>mean</th>\n",
       "      <td>2080.277484</td>\n",
       "      <td>18.611495</td>\n",
       "      <td>-72.322680</td>\n",
       "    </tr>\n",
       "    <tr>\n",
       "      <th>std</th>\n",
       "      <td>1171.100360</td>\n",
       "      <td>0.738572</td>\n",
       "      <td>3.650776</td>\n",
       "    </tr>\n",
       "    <tr>\n",
       "      <th>min</th>\n",
       "      <td>4.000000</td>\n",
       "      <td>18.041313</td>\n",
       "      <td>-74.452757</td>\n",
       "    </tr>\n",
       "    <tr>\n",
       "      <th>25%</th>\n",
       "      <td>1074.000000</td>\n",
       "      <td>18.524070</td>\n",
       "      <td>-72.417500</td>\n",
       "    </tr>\n",
       "    <tr>\n",
       "      <th>50%</th>\n",
       "      <td>2163.000000</td>\n",
       "      <td>18.539269</td>\n",
       "      <td>-72.335000</td>\n",
       "    </tr>\n",
       "    <tr>\n",
       "      <th>75%</th>\n",
       "      <td>3088.000000</td>\n",
       "      <td>18.561820</td>\n",
       "      <td>-72.293570</td>\n",
       "    </tr>\n",
       "    <tr>\n",
       "      <th>max</th>\n",
       "      <td>4052.000000</td>\n",
       "      <td>50.226029</td>\n",
       "      <td>114.174287</td>\n",
       "    </tr>\n",
       "  </tbody>\n",
       "</table>\n",
       "</div>"
      ],
      "text/plain": [
       "            Serial     LATITUDE    LONGITUDE\n",
       "count  3593.000000  3593.000000  3593.000000\n",
       "mean   2080.277484    18.611495   -72.322680\n",
       "std    1171.100360     0.738572     3.650776\n",
       "min       4.000000    18.041313   -74.452757\n",
       "25%    1074.000000    18.524070   -72.417500\n",
       "50%    2163.000000    18.539269   -72.335000\n",
       "75%    3088.000000    18.561820   -72.293570\n",
       "max    4052.000000    50.226029   114.174287"
      ]
     },
     "execution_count": 6,
     "metadata": {},
     "output_type": "execute_result"
    }
   ],
   "source": [
    "data.describe()"
   ]
  },
  {
   "cell_type": "markdown",
   "metadata": {},
   "source": [
    "Cleaning the bad locations and removing the missing categories is now fairly simple:"
   ]
  },
  {
   "cell_type": "code",
   "execution_count": 7,
   "metadata": {},
   "outputs": [],
   "source": [
    "data = data[(data.LATITUDE > 18) & (data.LATITUDE < 20)\n",
    "            & (data.LONGITUDE > -75) & (data.LONGITUDE < -70)\n",
    "            & (data.CATEGORY.notnull())]"
   ]
  },
  {
   "cell_type": "markdown",
   "metadata": {},
   "source": [
    "Now we might want to do some analysis or visualization of this data by category, but each category field may have multiple categories. Additionally, each category is given as a code plus an English and possibly also a French code name. Thus, a little bit of wrangling is required to get the data into a more agreeable form. First, I wrote these two functions to get a list of all the categories and to split each category into a code and an English name:"
   ]
  },
  {
   "cell_type": "code",
   "execution_count": 8,
   "metadata": {},
   "outputs": [],
   "source": [
    "def to_cat_list(catstr):\n",
    "    stripped = (x.strip() for x in catstr.split(','))\n",
    "    return [x for x in stripped if x]\n",
    "\n",
    "def get_all_categories(cat_series):\n",
    "    cat_sets = (set(to_cat_list(x)) for x in cat_series)\n",
    "    return sorted(set.union(*cat_sets))\n",
    "\n",
    "def get_english(cat):\n",
    "    code, names = cat.split('.')\n",
    "    if '|' in names:\n",
    "        names = names.split(' | ')[1]\n",
    "        return code, names.strip()"
   ]
  },
  {
   "cell_type": "markdown",
   "metadata": {},
   "source": [
    "You can test out that the get_english function does what you expect:"
   ]
  },
  {
   "cell_type": "code",
   "execution_count": 9,
   "metadata": {},
   "outputs": [
    {
     "data": {
      "text/plain": [
       "('2', 'Vital Lines')"
      ]
     },
     "execution_count": 9,
     "metadata": {},
     "output_type": "execute_result"
    }
   ],
   "source": [
    "get_english('2. Urgences logistiques | Vital Lines')"
   ]
  },
  {
   "cell_type": "markdown",
   "metadata": {},
   "source": [
    "Now, I make a dict mapping code to name because we’ll use the codes for analysis. We’ll use this later when adorning plots (note the use of a generator expression in lieu of a list comprehension):"
   ]
  },
  {
   "cell_type": "code",
   "execution_count": 10,
   "metadata": {},
   "outputs": [],
   "source": [
    "all_cats = get_all_categories(data.CATEGORY)"
   ]
  },
  {
   "cell_type": "code",
   "execution_count": 11,
   "metadata": {},
   "outputs": [
    {
     "ename": "TypeError",
     "evalue": "cannot convert dictionary update sequence element #1 to a sequence",
     "output_type": "error",
     "traceback": [
      "\u001b[1;31m---------------------------------------------------------------------------\u001b[0m",
      "\u001b[1;31mTypeError\u001b[0m                                 Traceback (most recent call last)",
      "\u001b[1;32mc:\\Users\\mbkmu\\OneDrive\\Desktop\\Pandas\\01_Book_O'Reilly\\Chapter_08_Plotting&Visualization\\10_Plotting Functions in Pandas\\05_Plotting_Maps Visualizing Haiti Earthquake Crisis Data.ipynb Cell 19\u001b[0m in \u001b[0;36m<cell line: 2>\u001b[1;34m()\u001b[0m\n\u001b[0;32m      <a href='vscode-notebook-cell:/c%3A/Users/mbkmu/OneDrive/Desktop/Pandas/01_Book_O%27Reilly/Chapter_08_Plotting%26Visualization/10_Plotting%20Functions%20in%20Pandas/05_Plotting_Maps%20Visualizing%20Haiti%20Earthquake%20Crisis%20Data.ipynb#X24sZmlsZQ%3D%3D?line=0'>1</a>\u001b[0m \u001b[39m# Generator expression\u001b[39;00m\n\u001b[1;32m----> <a href='vscode-notebook-cell:/c%3A/Users/mbkmu/OneDrive/Desktop/Pandas/01_Book_O%27Reilly/Chapter_08_Plotting%26Visualization/10_Plotting%20Functions%20in%20Pandas/05_Plotting_Maps%20Visualizing%20Haiti%20Earthquake%20Crisis%20Data.ipynb#X24sZmlsZQ%3D%3D?line=1'>2</a>\u001b[0m english_mapping \u001b[39m=\u001b[39m \u001b[39mdict\u001b[39;49m(get_english(x) \u001b[39mfor\u001b[39;49;00m x \u001b[39min\u001b[39;49;00m all_cats)\n",
      "\u001b[1;31mTypeError\u001b[0m: cannot convert dictionary update sequence element #1 to a sequence"
     ]
    }
   ],
   "source": [
    "# Generator expression\n",
    "english_mapping = dict(get_english(x) for x in all_cats)"
   ]
  },
  {
   "cell_type": "code",
   "execution_count": null,
   "metadata": {},
   "outputs": [
    {
     "ename": "NameError",
     "evalue": "name 'english_mapping' is not defined",
     "output_type": "error",
     "traceback": [
      "\u001b[1;31m---------------------------------------------------------------------------\u001b[0m",
      "\u001b[1;31mNameError\u001b[0m                                 Traceback (most recent call last)",
      "\u001b[1;32mc:\\Users\\mbkmu\\OneDrive\\Desktop\\Pandas\\01_Book_O'Reilly\\Chapter_08_Plotting&Visualization\\10_Plotting Functions in Pandas\\05_Plotting_Maps Visualizing Haiti Earthquake Crisis Data.ipynb Cell 20\u001b[0m in \u001b[0;36m<cell line: 1>\u001b[1;34m()\u001b[0m\n\u001b[1;32m----> <a href='vscode-notebook-cell:/c%3A/Users/mbkmu/OneDrive/Desktop/Pandas/01_Book_O%27Reilly/Chapter_08_Plotting%26Visualization/10_Plotting%20Functions%20in%20Pandas/05_Plotting_Maps%20Visualizing%20Haiti%20Earthquake%20Crisis%20Data.ipynb#X26sZmlsZQ%3D%3D?line=0'>1</a>\u001b[0m english_mapping[\u001b[39m'\u001b[39m\u001b[39m2a\u001b[39m\u001b[39m'\u001b[39m]\n",
      "\u001b[1;31mNameError\u001b[0m: name 'english_mapping' is not defined"
     ]
    }
   ],
   "source": [
    "english_mapping['2a']"
   ]
  },
  {
   "cell_type": "code",
   "execution_count": null,
   "metadata": {},
   "outputs": [
    {
     "ename": "NameError",
     "evalue": "name 'english_mapping' is not defined",
     "output_type": "error",
     "traceback": [
      "\u001b[1;31m---------------------------------------------------------------------------\u001b[0m",
      "\u001b[1;31mNameError\u001b[0m                                 Traceback (most recent call last)",
      "\u001b[1;32mc:\\Users\\mbkmu\\OneDrive\\Desktop\\Pandas\\01_Book_O'Reilly\\Chapter_08_Plotting&Visualization\\10_Plotting Functions in Pandas\\05_Plotting_Maps Visualizing Haiti Earthquake Crisis Data.ipynb Cell 21\u001b[0m in \u001b[0;36m<cell line: 1>\u001b[1;34m()\u001b[0m\n\u001b[1;32m----> <a href='vscode-notebook-cell:/c%3A/Users/mbkmu/OneDrive/Desktop/Pandas/01_Book_O%27Reilly/Chapter_08_Plotting%26Visualization/10_Plotting%20Functions%20in%20Pandas/05_Plotting_Maps%20Visualizing%20Haiti%20Earthquake%20Crisis%20Data.ipynb#X30sZmlsZQ%3D%3D?line=0'>1</a>\u001b[0m english_mapping[\u001b[39m'\u001b[39m\u001b[39m6c\u001b[39m\u001b[39m'\u001b[39m]\n",
      "\u001b[1;31mNameError\u001b[0m: name 'english_mapping' is not defined"
     ]
    }
   ],
   "source": [
    "english_mapping['6c']"
   ]
  }
 ],
 "metadata": {
  "kernelspec": {
   "display_name": "Python 3.10.5 64-bit (windows store)",
   "language": "python",
   "name": "python3"
  },
  "language_info": {
   "codemirror_mode": {
    "name": "ipython",
    "version": 3
   },
   "file_extension": ".py",
   "mimetype": "text/x-python",
   "name": "python",
   "nbconvert_exporter": "python",
   "pygments_lexer": "ipython3",
   "version": "3.10.5"
  },
  "orig_nbformat": 4,
  "vscode": {
   "interpreter": {
    "hash": "ffea71f7b71092eabe4cd0b8ca5f97eab7e23656a5f6413a198e81db1d0ce6b2"
   }
  }
 },
 "nbformat": 4,
 "nbformat_minor": 2
}

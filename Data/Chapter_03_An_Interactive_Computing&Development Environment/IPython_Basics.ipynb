{
 "cells": [
  {
   "cell_type": "code",
   "execution_count": 18,
   "metadata": {},
   "outputs": [
    {
     "name": "stdout",
     "output_type": "stream",
     "text": [
      "\u001b[1;31mType:\u001b[0m        dict\n",
      "\u001b[1;31mString form:\u001b[0m {0: -0.07840185047245414, 1: 0.15748884302588836, 2: -0.4786692897370079, 3: -1.5458300053188376, 4: -0.31292659232446796, 5: -0.14537105944310477, 6: 0.09696145405157491, 7: 0.5153222396718632, 8: -0.5985312370092758, 9: -0.1660183490654634}\n",
      "\u001b[1;31mLength:\u001b[0m      10\n",
      "\u001b[1;31mDocstring:\u001b[0m  \n",
      "dict() -> new empty dictionary\n",
      "dict(mapping) -> new dictionary initialized from a mapping object's\n",
      "    (key, value) pairs\n",
      "dict(iterable) -> new dictionary initialized as if via:\n",
      "    d = {}\n",
      "    for k, v in iterable:\n",
      "        d[k] = v\n",
      "dict(**kwargs) -> new dictionary initialized with the name=value pairs\n",
      "    in the keyword argument list.  For example:  dict(one=1, two=2)\n"
     ]
    }
   ],
   "source": [
    "# Execute arbitrary python statement\n",
    "\n",
    "from numpy.random import randn\n",
    "\n",
    "data = {i : randn() for i in range(10)}\n",
    "\n",
    "data??"
   ]
  },
  {
   "cell_type": "code",
   "execution_count": 22,
   "metadata": {},
   "outputs": [],
   "source": [
    "import numpy as np\n",
    "a = np.random.randn(100, 100)"
   ]
  },
  {
   "cell_type": "code",
   "execution_count": 23,
   "metadata": {},
   "outputs": [
    {
     "data": {
      "text/plain": [
       "array([[-0.31312374, -0.67289949, -0.62648019, ...,  0.62613372,\n",
       "        -1.12769003, -0.76771687],\n",
       "       [-0.51283377,  2.46924494,  1.36727511, ...,  0.73661372,\n",
       "         1.06068238, -0.49523394],\n",
       "       [ 0.43601184,  2.50284937, -0.38612421, ...,  0.68858458,\n",
       "         0.43620692,  0.11715409],\n",
       "       ...,\n",
       "       [-0.55107254, -0.09424907, -1.35195528, ..., -0.57680495,\n",
       "        -1.63595662, -0.10865604],\n",
       "       [ 1.35822456, -0.67638568, -2.22946452, ...,  1.3086055 ,\n",
       "        -0.21884099, -1.36699716],\n",
       "       [ 0.06955314,  2.07594928, -0.15428306, ...,  0.93885664,\n",
       "        -0.66433203, -0.09098479]])"
      ]
     },
     "execution_count": 23,
     "metadata": {},
     "output_type": "execute_result"
    }
   ],
   "source": [
    "a"
   ]
  },
  {
   "cell_type": "code",
   "execution_count": 24,
   "metadata": {},
   "outputs": [
    {
     "name": "stdout",
     "output_type": "stream",
     "text": [
      "101 µs ± 1.7 µs per loop (mean ± std. dev. of 7 runs, 10,000 loops each)\n"
     ]
    }
   ],
   "source": [
    "%timeit np.dot(a,a)"
   ]
  },
  {
   "cell_type": "code",
   "execution_count": 25,
   "metadata": {},
   "outputs": [
    {
     "name": "stdout",
     "output_type": "stream",
     "text": [
      "\u001b[1;31mDocstring:\u001b[0m\n",
      "Resets the namespace by removing all names defined by the user, if\n",
      "called without arguments, or by removing some types of objects, such\n",
      "as everything currently in IPython's In[] and Out[] containers (see\n",
      "the parameters for details).\n",
      "\n",
      "Parameters\n",
      "----------\n",
      "-f\n",
      "    force reset without asking for confirmation.\n",
      "-s\n",
      "    'Soft' reset: Only clears your namespace, leaving history intact.\n",
      "    References to objects may be kept. By default (without this option),\n",
      "    we do a 'hard' reset, giving you a new session and removing all\n",
      "    references to objects from the current session.\n",
      "--aggressive\n",
      "    Try to aggressively remove modules from sys.modules ; this\n",
      "    may allow you to reimport Python modules that have been updated and\n",
      "    pick up changes, but can have unattended consequences.\n",
      "\n",
      "in\n",
      "    reset input history\n",
      "out\n",
      "    reset output history\n",
      "dhist\n",
      "    reset directory history\n",
      "array\n",
      "    reset only variables that are NumPy arrays\n",
      "\n",
      "See Also\n",
      "--------\n",
      "reset_selective : invoked as ``%reset_selective``\n",
      "\n",
      "Examples\n",
      "--------\n",
      "::\n",
      "\n",
      "  In [6]: a = 1\n",
      "\n",
      "  In [7]: a\n",
      "  Out[7]: 1\n",
      "\n",
      "  In [8]: 'a' in get_ipython().user_ns\n",
      "  Out[8]: True\n",
      "\n",
      "  In [9]: %reset -f\n",
      "\n",
      "  In [1]: 'a' in get_ipython().user_ns\n",
      "  Out[1]: False\n",
      "\n",
      "  In [2]: %reset -f in\n",
      "  Flushing input history\n",
      "\n",
      "  In [3]: %reset -f dhist in\n",
      "  Flushing directory history\n",
      "  Flushing input history\n",
      "\n",
      "Notes\n",
      "-----\n",
      "Calling this magic from clients that do not implement standard input,\n",
      "such as the ipython notebook interface, will reset the namespace\n",
      "without confirmation.\n",
      "\u001b[1;31mFile:\u001b[0m      c:\\users\\mbkmu\\appdata\\local\\packages\\pythonsoftwarefoundation.python.3.10_qbz5n2kfra8p0\\localcache\\local-packages\\python310\\site-packages\\ipython\\core\\magics\\namespace.py\n"
     ]
    }
   ],
   "source": [
    "%reset?"
   ]
  }
 ],
 "metadata": {
  "kernelspec": {
   "display_name": "Python 3.10.5 64-bit (windows store)",
   "language": "python",
   "name": "python3"
  },
  "language_info": {
   "codemirror_mode": {
    "name": "ipython",
    "version": 3
   },
   "file_extension": ".py",
   "mimetype": "text/x-python",
   "name": "python",
   "nbconvert_exporter": "python",
   "pygments_lexer": "ipython3",
   "version": "3.10.5"
  },
  "orig_nbformat": 4,
  "vscode": {
   "interpreter": {
    "hash": "ffea71f7b71092eabe4cd0b8ca5f97eab7e23656a5f6413a198e81db1d0ce6b2"
   }
  }
 },
 "nbformat": 4,
 "nbformat_minor": 2
}
